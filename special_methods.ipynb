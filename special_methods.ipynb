{
 "cells": [
  {
   "cell_type": "markdown",
   "metadata": {},
   "source": [
    "<h1>Dunder Methods or Special methods</h1>"
   ]
  },
  {
   "cell_type": "code",
   "execution_count": 1,
   "metadata": {},
   "outputs": [],
   "source": [
    "class Employee():\n",
    "    raise_amt = 1.04\n",
    "    \n",
    "    def __init__(self,first,last,pay,age):\n",
    "        \n",
    "        '''Chamado após a instância ter sido criada (por __new__()), mas antes de ser retornada ao chamador(caller).\n",
    "        Os argumentos são aqueles passados para a expressão do construtor da classe. Se uma classe base tem \n",
    "        um método __init__(), o método __init__() da classe derivada, se houver, deve chamá-lo explicitamente\n",
    "        para garantir a inicialização apropriada da parte da classe base da instância; por exemplo : \n",
    "        super().__init__([args...])\n",
    "        \n",
    "        Porque __new__() e __init__() trabalham juntos na construção de objetos (__new__()) para criá-lo e \n",
    "        __init__() para personalizá-lo, nenhum valor diferente de None pode ser retornado por __init__();\n",
    "        fazer isso fará com que uma TypeError seja levantada em tempo de execução.\n",
    "        '''\n",
    "        self.first = first\n",
    "        self.last = last\n",
    "        self.email = first + '.' + last +'@email.com'\n",
    "        self.pay = pay\n",
    "        self.age = age\n",
    "        \n",
    "    \n",
    "    def __repr__(self):  \n",
    "        \n",
    "        '''Chamado pela função embutida repr() para calcular a representação da string “oficial” de um objeto. \n",
    "        Se possível, isso deve parecer uma expressão Python válida que pode ser usada para recriar um objeto com \n",
    "        o mesmo valor (dado um ambiente apropriado). Se isso não for possível, uma string no formato <...alguma \n",
    "        descrição útil...> deve ser retornada. O valor de retorno deve ser um objeto string. Se uma classe define \n",
    "        __repr__(), mas não __str__(), então __repr__() também é usado quando uma representação de string \n",
    "        “informal” de instâncias daquela classe é necessária.\n",
    "        \n",
    "        Isso é normalmente usado para depuração, portanto, é importante que a representação seja rica em \n",
    "        informações e inequívoca..'''\n",
    "        \n",
    "        return \"Employee('{}','{}', {})\".format(self.first, self.last, self.pay)\n",
    "    \n",
    "    def __str__(self):\n",
    "        \n",
    "        '''Chamado por str(object) e as funções embutidas format() e print() para calcular a representação da \n",
    "        string “informal” ou agradável para exibição de um objeto. O valor de retorno deve ser um objeto string.\n",
    "        Este método difere de object.__repr__() por não haver expectativa de que __str__() retorne uma expressão \n",
    "        Python válida: uma representação mais conveniente ou concisa pode ser usada.'''\n",
    "        \n",
    "        return '{} - {}'.format(self.fullname(), self.email)\n",
    "    \n",
    "    def __add__(self, other):\n",
    "        \n",
    "        '''Esse método é chamado para implementar a operação aritmética de adição. Existem outros métodos \n",
    "        especiais aritméticos.\n",
    "        __sub__\n",
    "        __mul__\n",
    "        __matmul__\n",
    "        __truediv__\n",
    "        __floordiv__\n",
    "        __mod__\n",
    "        __divmod__\n",
    "        __pow__\n",
    "        __lshift__\n",
    "        __rshift__\n",
    "        __and__\n",
    "        __xor__\n",
    "        __or__\n",
    "        '''\n",
    "        return self.pay + other.pay\n",
    "    def __len__(self):\n",
    "        \n",
    "        '''Chamado para implementar a função embutida len(). Deve retornar o comprimento do objeto, um inteiro\n",
    "        >=0. Além disso, um objeto que não define um método __bool__() e cujo método __len__() retorna zero é \n",
    "        considerado como falso em um contexto booleano.\n",
    "        '''\n",
    "        return len(self.fullname())\n",
    "    \n",
    "    def __call__(self):\n",
    "        ''' Chamado quando a instância é 'chamada' como uma função, se este método for definido, x(arg1, arg2,..\n",
    "        )basicamente traduz para type(x).__call__(x,arg1)\n",
    "        '''\n",
    "        print('This is an object of the Employees class')\n",
    "        \n",
    "    def __eq__(self,other):\n",
    "        \n",
    "        '''Um dos métodos de comparação rica. \n",
    "        __lt__ <\n",
    "        __le__ <=\n",
    "        __eq__ ==\n",
    "        __ne__ !=\n",
    "        __gt__ >\n",
    "        __ge__ >=\n",
    "        Por convenção, False e True são retornados para uma comparaçãao bem-sucedida. No entanto, esses métodos \n",
    "        podem retornar qualquer valor, portanto, se o operador de comparação for usado em um contexto booleano\n",
    "        (por exemplo, na condiçãao de uma instrução if), Python irá chamar bool() no valor para determinar se o \n",
    "        resultado for verdadeiro ou falso.\n",
    "        '''\n",
    "        if isinstance(self,other.__class__):\n",
    "            return self.age == other.age\n",
    "        else:\n",
    "            return NotImplemented\n",
    "    def __hash__(self):\n",
    "        \n",
    "        '''Apenas para objetos imutáveis!\n",
    "        Chamado pela função embutida hash() e para operações em membros de coleções em hash incluindo\n",
    "        set, frozenset, dict.__hash__() deve retornar um número inteiro. \n",
    "        Se uma classe não define um método __eq__(), ela também não deve definir uma operação __hash__();\n",
    "        se define __eq__() mas não __hash__(), suas instâncias não serão utilizáveis como itens em coleções\n",
    "        hasheáveis. Se uma classe define objetos mutáveis e implementa um método __eq__(), ela não deve \n",
    "        implementar __hash__()m uma vez que a implementaçãao de coleções hasheáveis requer que o valor hash\n",
    "        de uma chave seja imutável(se o valor hash do objeto mudar, estará no balde de hash errado).\n",
    "        '''\n",
    "        return hash(self.fullname())\n",
    "    \n",
    "    def fullname(self):\n",
    "        return '{} {}'.format(self.first, self.last)\n",
    "    \n",
    "    def apply_raise(self):\n",
    "        self.pay = int(self.pay * self.raise_amt)\n",
    "    "
   ]
  },
  {
   "cell_type": "code",
   "execution_count": 2,
   "metadata": {},
   "outputs": [],
   "source": [
    "emp_1 = Employee('Bruno', 'Cesar', 50000, 35)\n",
    "emp_2 = Employee('Test', 'Employee', 60000, 35)"
   ]
  },
  {
   "cell_type": "code",
   "execution_count": 3,
   "metadata": {},
   "outputs": [
    {
     "data": {
      "text/plain": [
       "\"Employee('Bruno','Cesar', 50000)\""
      ]
     },
     "execution_count": 3,
     "metadata": {},
     "output_type": "execute_result"
    }
   ],
   "source": [
    "repr(emp_1)"
   ]
  },
  {
   "cell_type": "code",
   "execution_count": 4,
   "metadata": {},
   "outputs": [
    {
     "data": {
      "text/plain": [
       "'Bruno Cesar - Bruno.Cesar@email.com'"
      ]
     },
     "execution_count": 4,
     "metadata": {},
     "output_type": "execute_result"
    }
   ],
   "source": [
    "str(emp_1)"
   ]
  },
  {
   "cell_type": "code",
   "execution_count": 5,
   "metadata": {},
   "outputs": [
    {
     "data": {
      "text/plain": [
       "110000"
      ]
     },
     "execution_count": 5,
     "metadata": {},
     "output_type": "execute_result"
    }
   ],
   "source": [
    "emp_1 + emp_2     #Método __add__ em ação"
   ]
  },
  {
   "cell_type": "code",
   "execution_count": 47,
   "metadata": {},
   "outputs": [
    {
     "data": {
      "text/plain": [
       "13"
      ]
     },
     "execution_count": 47,
     "metadata": {},
     "output_type": "execute_result"
    }
   ],
   "source": [
    "len(emp_1)"
   ]
  },
  {
   "cell_type": "code",
   "execution_count": 57,
   "metadata": {},
   "outputs": [
    {
     "name": "stdout",
     "output_type": "stream",
     "text": [
      "This is an object of the Employees class\n"
     ]
    }
   ],
   "source": [
    "emp_1() #Método __call__ em ação"
   ]
  },
  {
   "cell_type": "code",
   "execution_count": 81,
   "metadata": {},
   "outputs": [
    {
     "data": {
      "text/plain": [
       "True"
      ]
     },
     "execution_count": 81,
     "metadata": {},
     "output_type": "execute_result"
    }
   ],
   "source": [
    "emp_1 == emp_2   #Método __eq__ em ação\n"
   ]
  },
  {
   "cell_type": "code",
   "execution_count": 6,
   "metadata": {},
   "outputs": [
    {
     "name": "stdout",
     "output_type": "stream",
     "text": [
      "Person(João)\n",
      "Person(JoãoJoãoJoãoJoão)\n",
      "method call 4\n",
      "16\n",
      "True\n"
     ]
    }
   ],
   "source": [
    "class Person:\n",
    "    def __init__(self,name, age):\n",
    "        self.name = name\n",
    "        self. age = age\n",
    "    \n",
    "    def __repr__(self):\n",
    "        return f\"Person({self.name})\"\n",
    "    \n",
    "    def __mul__(self,x):\n",
    "        if type(x) is not int:\n",
    "            raise Exception(\"Invalid argument, must be int\")\n",
    "        self.name = self.name * x\n",
    "        \n",
    "    def __call__(self,y):\n",
    "        print('method call',y)\n",
    "        \n",
    "    def __len__(self):\n",
    "        return len(self.name)\n",
    "    \n",
    "    def __eq__(self, other):\n",
    "        if isinstance(self,other.__class__):\n",
    "            return self.age == other.age\n",
    "        else:\n",
    "            return NotImplemented\n",
    "    def __hash__(self):\n",
    "        return hash(self.name)\n",
    "    def __name__(self):\n",
    "        '''O nome da classe, função, método,descritor ou instância geradora\n",
    "        '''\n",
    "        return 'Person'\n",
    "        \n",
    "p = Person('João',10)\n",
    "p2 = Person('João',10)\n",
    "print(p)\n",
    "p * 4\n",
    "print(p)\n",
    "p(4)    # método __call__ em ação\n",
    "print(len(p))\n",
    "\n",
    "print(p==p2)"
   ]
  },
  {
   "cell_type": "code",
   "execution_count": 7,
   "metadata": {},
   "outputs": [
    {
     "data": {
      "text/plain": [
       "{Person(JoãoJoãoJoãoJoão): 1}"
      ]
     },
     "execution_count": 7,
     "metadata": {},
     "output_type": "execute_result"
    }
   ],
   "source": [
    "dict = {}\n",
    "dict[p] = 1\n",
    "dict"
   ]
  },
  {
   "cell_type": "code",
   "execution_count": 95,
   "metadata": {},
   "outputs": [
    {
     "name": "stdout",
     "output_type": "stream",
     "text": [
      "Person\n"
     ]
    }
   ],
   "source": [
    "print(Person.__name__)"
   ]
  }
 ],
 "metadata": {
  "kernelspec": {
   "display_name": "Python 3",
   "language": "python",
   "name": "python3"
  },
  "language_info": {
   "codemirror_mode": {
    "name": "ipython",
    "version": 3
   },
   "file_extension": ".py",
   "mimetype": "text/x-python",
   "name": "python",
   "nbconvert_exporter": "python",
   "pygments_lexer": "ipython3",
   "version": "3.8.5"
  }
 },
 "nbformat": 4,
 "nbformat_minor": 4
}
