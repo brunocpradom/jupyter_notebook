{
 "cells": [
  {
   "cell_type": "code",
   "execution_count": 1,
   "metadata": {},
   "outputs": [],
   "source": [
    "import pandas as pd\n",
    "import os"
   ]
  },
  {
   "cell_type": "code",
   "execution_count": null,
   "metadata": {},
   "outputs": [
    {
     "name": "stderr",
     "output_type": "stream",
     "text": [
      "/usr/local/lib/python3.8/dist-packages/IPython/core/interactiveshell.py:3071: DtypeWarning: Columns (4,5,7,11,12,18,20,22,23,25,27,29,30,33,34,36,37) have mixed types.Specify dtype option on import or set low_memory=False.\n",
      "  has_raised = await self.run_ast_nodes(code_ast.body, cell_name,\n"
     ]
    }
   ],
   "source": [
    "numero = range(38)\n",
    "df = pd.read_csv('SAO PAULO.csv',usecols = numero)"
   ]
  },
  {
   "cell_type": "code",
   "execution_count": null,
   "metadata": {},
   "outputs": [],
   "source": [
    "len(df)"
   ]
  },
  {
   "cell_type": "markdown",
   "metadata": {},
   "source": [
    "<h2>Dividindo o dataframe em dois</h2>"
   ]
  },
  {
   "cell_type": "code",
   "execution_count": 11,
   "metadata": {},
   "outputs": [],
   "source": [
    "df1 = df.iloc[:len(df)//2]\n",
    "df2 = df.iloc[len(df)//2:]"
   ]
  },
  {
   "cell_type": "code",
   "execution_count": 12,
   "metadata": {},
   "outputs": [
    {
     "data": {
      "text/plain": [
       "948"
      ]
     },
     "execution_count": 12,
     "metadata": {},
     "output_type": "execute_result"
    }
   ],
   "source": [
    "len(df1)+len(df2)"
   ]
  },
  {
   "cell_type": "code",
   "execution_count": 20,
   "metadata": {},
   "outputs": [
    {
     "data": {
      "text/plain": [
       "302874"
      ]
     },
     "execution_count": 20,
     "metadata": {},
     "output_type": "execute_result"
    }
   ],
   "source": [
    "os.path.getsize('ACRELANDIA.csv')"
   ]
  },
  {
   "cell_type": "markdown",
   "metadata": {},
   "source": [
    "<h2>Gerando dois arquivos csv, um com cada dataframe</h2>"
   ]
  },
  {
   "cell_type": "code",
   "execution_count": 22,
   "metadata": {},
   "outputs": [
    {
     "data": {
      "text/plain": [
       "140993"
      ]
     },
     "execution_count": 22,
     "metadata": {},
     "output_type": "execute_result"
    }
   ],
   "source": [
    "df1.to_csv('acrelandia1.csv')\n",
    "os.path.getsize('acrelandia1.csv')"
   ]
  },
  {
   "cell_type": "code",
   "execution_count": 21,
   "metadata": {},
   "outputs": [
    {
     "data": {
      "text/plain": [
       "148057"
      ]
     },
     "execution_count": 21,
     "metadata": {},
     "output_type": "execute_result"
    }
   ],
   "source": [
    "df2.to_csv('acrelandia2.csv')\n",
    "os.path.getsize('acrelandia2.csv')"
   ]
  },
  {
   "cell_type": "markdown",
   "metadata": {},
   "source": [
    "<h2>Ao somar os dois arquivos gerados, eles não totalizam o tamanho do arquivo anterior. Mas os dataframes contém o mesmo número de linhas</h2>"
   ]
  },
  {
   "cell_type": "code",
   "execution_count": 23,
   "metadata": {},
   "outputs": [
    {
     "data": {
      "text/plain": [
       "289050"
      ]
     },
     "execution_count": 23,
     "metadata": {},
     "output_type": "execute_result"
    }
   ],
   "source": [
    "os.path.getsize('acrelandia1.csv') + os.path.getsize('acrelandia2.csv')"
   ]
  },
  {
   "cell_type": "markdown",
   "metadata": {},
   "source": [
    "<h2>Calculando quantas vezes precisarei dividir o dataframe para que cada um contenha 100MB no máximo</h2>"
   ]
  },
  {
   "cell_type": "code",
   "execution_count": null,
   "metadata": {},
   "outputs": [],
   "source": [
    "if os.path.getsize()/ 1000000 > 100:\n",
    "    numero = (os.path.getsize()/1000000) // 100\n",
    "    if numero == 2:\n",
    "        df1 = df.iloc[:len(df)//numero]\n",
    "        df2 = df.iloc[len(df)//numero:]\n",
    "    if numero > 2:\n",
    "        index =len(df)//numero\n",
    "        #Exemplo:numero = 4\n",
    "        #Sempre vai iniciar do mesmo jeito para qualquer número, variando o valor do index\n",
    "        df1 = df.iloc[:index]  \n",
    "        #No meio do código, tem 2 variáveis\n",
    "            \n",
    "        #A primeira tem o index definido por [index:2*index]\n",
    "        df2 = df.iloc[index: index + index]\n",
    "        #A segunda tem o index definido por [2*index:3*index]\n",
    "        df3 = df.iloc[index + index : index + index + index ]\n",
    "        \n",
    "        #A variável do final está definida por [(numero-1)*index:]\n",
    "        variable_name = 'df{}'.format(numero)\n",
    "        df4 = df.iloc[index + index + index : ]\n",
    "        #Aqui preciso pegar a variável f e pegar somente o nome do arquivo, sem o csv,\n",
    "        #acrescentar um numero e pegar de novo o .csv para gerar o arquivo csv\n",
    "        variable_name.to_csv('')\n",
    "    "
   ]
  },
  {
   "cell_type": "markdown",
   "metadata": {},
   "source": [
    "Acima, coloquei um exemplo caso o número seja 4. Preciso descobrir um jeito de automatizar o processo, para que o programa decida com inteligencia em quantas partes dividir o arquivo e quais serão as etapas para gerar cada arquivo CSV com o nome 'cidade1','cidade2',......'cidade10'. Pelo que analisei o maior arquivo tem 1 GB. Então eu precisaria dividir o dataframe em 10!!!!"
   ]
  },
  {
   "cell_type": "code",
   "execution_count": null,
   "metadata": {},
   "outputs": [],
   "source": [
    "numero = 10\n",
    "for i in range(numero-2):\n",
    "    #variable_name = 'df{}'.format(i+2)\n",
    "    #Havia criado a variável acima para gerar df2,df3,df.......\n",
    "    #Mas acredito não ser necessário, pois a medida que vou iterando, já vou gerando\n",
    "    #o arquivo CSV com o dataframe cortado.\n",
    "    df =df.iloc[(i+2)*index:(i+3)*index]\n",
    "    nome = f.replace('.csv','')\n",
    "    nome_inteiro = nome + str(i+2) + '.csv'\n",
    "    df.to_csv(nome_inteiro)\n"
   ]
  }
 ],
 "metadata": {
  "kernelspec": {
   "display_name": "Python 3",
   "language": "python",
   "name": "python3"
  },
  "language_info": {
   "codemirror_mode": {
    "name": "ipython",
    "version": 3
   },
   "file_extension": ".py",
   "mimetype": "text/x-python",
   "name": "python",
   "nbconvert_exporter": "python",
   "pygments_lexer": "ipython3",
   "version": "3.8.5"
  }
 },
 "nbformat": 4,
 "nbformat_minor": 4
}
