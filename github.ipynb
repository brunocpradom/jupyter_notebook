{
 "cells": [
  {
   "cell_type": "markdown",
   "metadata": {},
   "source": [
    "<h1>Git</h1>"
   ]
  },
  {
   "cell_type": "markdown",
   "metadata": {},
   "source": [
    "<h2>diff</h2>\n",
    "diff is used to find differences between two files. On its own, it’s a bit hard to use; instead, use it with diff -u to find lines which differ in two files:\n",
    "\n"
   ]
  },
  {
   "cell_type": "markdown",
   "metadata": {},
   "source": [
    "<h2>diff -u</h2>\n",
    "diff -u is used to compare two files, line by line, and have the differing lines compared side-by-side in the same output. See below:"
   ]
  },
  {
   "cell_type": "code",
   "execution_count": null,
   "metadata": {},
   "outputs": [],
   "source": [
    "diff -u menu1.txt menu2.txt"
   ]
  },
  {
   "cell_type": "markdown",
   "metadata": {},
   "source": [
    "<h2>Patch</h2>\n",
    "Patch is useful for applying file differences. See the below example, which compares two files. The comparison is saved as a .diff file, which is then patched to the original file!"
   ]
  },
  {
   "cell_type": "code",
   "execution_count": null,
   "metadata": {},
   "outputs": [],
   "source": [
    "diff -u hello_world.txt hello_world_long.txt > hello_world.diff\n",
    "\n",
    "patch < hello_world.diff "
   ]
  },
  {
   "cell_type": "markdown",
   "metadata": {},
   "source": [
    "Command\tExplanation & Link <br>\n",
    "<h3>git commit -a</h3>\t   Stages files automatically<br>\n",
    "<h3>git log -p</h3>\t       Produces patch text<br>\n",
    "<h3>git show</h3>\t       Shows various objects<br>\n",
    "<h3>git diff</h3>\t       Is similar to the Linux `diff` command, and can show the differences in various commits<br>\n",
    "<h3>git diff --staged</h3>  An alias to --cached, this will show all staged files compared to the named commit<br>\n",
    "<h3>git add -p</h3>\t       Allows a user to interactively review patches to add to the current commit<br>\n",
    "<h3>git mv\t     </h3>      Similar to the Linux `mv` command, this moves a file<br>\n",
    "<h3>git rm\t      </h3>     Similar to the Linux `rm` command, this deletes, or removes a file<br>"
   ]
  },
  {
   "cell_type": "markdown",
   "metadata": {},
   "source": [
    "<h2>.gitignore files</h2>\n",
    ".gitignore files are used to tell the git tool to intentionally ignore some files in a given Git repository. For example, this can be useful for configuration files or metadata files that a user may not want to check into the master branch. Check out more at: https://git-scm.com/docs/gitignore.\n",
    "\n"
   ]
  },
  {
   "cell_type": "markdown",
   "metadata": {},
   "source": [
    "<h3>Git Revert Cheat Sheet<br>\n",
    "\n",
    "<h3>git checkout</h3> is effectively used to switch branches.<br>\n",
    "\n",
    "<h3>git reset</h3> basically resets the repo, throwing away some changes. It’s somewhat difficult to understand, so reading the examples in the documentation may be a bit more useful.<br>\n",
    "\n",
    "There are some other useful articles online, which discuss more aggressive approaches to resetting the repo.<br>\n",
    "\n",
    "<h3>git commit --amend </h3>is used to make changes to commits after-the-fact, which can be useful for making notes about a given commit.<br>\n",
    "\n",
    "<h3>git revert </h3>makes a new commit which effectively rolls back a previous commit. It’s a bit like an undo command.<br>\n",
    "\n",
    "There are a few ways you can rollback commits in Git.<br>\n",
    "\n",
    "There are some interesting considerations about how git object data is stored, such as the usage of sha-1.<br>"
   ]
  },
  {
   "cell_type": "markdown",
   "metadata": {},
   "source": [
    "<h2>Command\tExplanation & Link</h2><br>\n",
    "\n",
    "<h3>git branch</h3>\tUsed to manage branches<br>\n",
    "<h3>git branch 'name' </h3>\tCreates the branch<br>\n",
    "<h3>git branch -d 'name'</h3>\tDeletes the branch<br>\n",
    "<h3>git branch -D name </h3>\tForcibly deletes the branch<br>\n",
    "<h3>git checkout 'branch' </h3>\tSwitches to a branch.<br>\n",
    "<h3>git checkout -b 'branch' </h3>\tCreates a new branch and switches to it.<br>\n",
    "<h3>git merge 'branch' </h3>\tMerge joins branches together.<br>\n",
    "<h3>git merge --abort </h3>\tIf there are merge conflicts (meaning files are incompatible), --abort can be used to abort the merge action.<br>\n",
    "<h3>git log --graph --oneline </h3>\tThis shows a summarized view of the commit history for a repo.<br>\n"
   ]
  },
  {
   "cell_type": "markdown",
   "metadata": {},
   "source": [
    "<h1> Github</h1><br>\n",
    "Basic interaction with Github Cheat-Sheet"
   ]
  },
  {
   "cell_type": "markdown",
   "metadata": {},
   "source": [
    "<h2>Command\tExplanation & Link</h2> <br>\n",
    "<h3>git clone URL </h3>\tGit clone is used to clone a remote repository into a local workspace<br>\n",
    "<h3>git push </h3>\tGit push is used to push commits from your local repo to a remote repo<br>\n",
    "<h3>git pull </h3>\tGit pull is used to fetch the newest updates from a remote repository<br>\n"
   ]
  },
  {
   "cell_type": "markdown",
   "metadata": {},
   "source": [
    "<h2>Command\tExplanation & Links</h2> <br>\n",
    "\n",
    "<h3>git remote</h3> \tLists remote repos <br>\n",
    "<h3>git remote -v </h3>\tList remote repos verbosely<br>\n",
    "<h3>git remote show 'name'</h3>\tDescribes a single remote repo<br>\n",
    "<h3>git remote update</h3>\tFetches the most up-to-date objects<br>\n",
    "<h3>git fetch</h3>\tDownloads specific objects<br>\n",
    "<h3>git branch -r</h3>\tLists remote branches; can be combined with other branch arguments to manage remote branches<br>"
   ]
  },
  {
   "cell_type": "markdown",
   "metadata": {},
   "source": []
  },
  {
   "cell_type": "markdown",
   "metadata": {},
   "source": [
    "<h1>Tools and platform CI/CD</h1>"
   ]
  },
  {
   "cell_type": "markdown",
   "metadata": {},
   "source": [
    "<h2>Continuous integration system </h2>(CI)<br>\n",
    "Will build and test our code every time there's a change<br>\n",
    "Will run everytime that a new commit is submited, or any change has come through pull request."
   ]
  },
  {
   "cell_type": "markdown",
   "metadata": {},
   "source": [
    "<h2>Continuous delivery</h2>(CD)<br>\n",
    "Once we have our code automatically built and tested, the next automation step is continuous deployment, which is sometimes called continuous delivery.<br>\n",
    "CD is a software development practice where code changes are automatically prepared for a release to production. Continuous delivery lets developers automate testing beyond just unit tests so they can verify application updates across multiple dimensions before deploying to customers."
   ]
  },
  {
   "cell_type": "code",
   "execution_count": null,
   "metadata": {},
   "outputs": [],
   "source": []
  }
 ],
 "metadata": {
  "kernelspec": {
   "display_name": "Python 3",
   "language": "python",
   "name": "python3"
  },
  "language_info": {
   "codemirror_mode": {
    "name": "ipython",
    "version": 3
   },
   "file_extension": ".py",
   "mimetype": "text/x-python",
   "name": "python",
   "nbconvert_exporter": "python",
   "pygments_lexer": "ipython3",
   "version": "3.8.5"
  }
 },
 "nbformat": 4,
 "nbformat_minor": 4
}
