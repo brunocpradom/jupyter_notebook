{
 "cells": [
  {
   "cell_type": "code",
   "execution_count": 16,
   "metadata": {},
   "outputs": [],
   "source": [
    "import pandas as pd\n",
    "import os\n",
    "import time"
   ]
  },
  {
   "cell_type": "code",
   "execution_count": 17,
   "metadata": {},
   "outputs": [],
   "source": [
    "chunk_size = 500000\n",
    "batch_n= 1"
   ]
  },
  {
   "cell_type": "code",
   "execution_count": 14,
   "metadata": {},
   "outputs": [
    {
     "name": "stdout",
     "output_type": "stream",
     "text": [
      "O script levou 1.3 minutos\n"
     ]
    }
   ],
   "source": [
    "time_before = time.time()\n",
    "for chunk in pd.read_csv('SAO PAULO.csv',usecols = range(38),dtype = str,chunksize = chunk_size):\n",
    "    \n",
    "    chunk.to_csv('SAO PAULO' + str(batch_n)+ '.csv', index = False)\n",
    "    batch_n += 1\n",
    "time_after = time.time()\n",
    "total_time = round(time_after - time_before)/60\n",
    "print('Tempo de execução: {} minutos '.format(total_time))"
   ]
  },
  {
   "cell_type": "code",
   "execution_count": 3,
   "metadata": {},
   "outputs": [
    {
     "name": "stdout",
     "output_type": "stream",
     "text": [
      "O script demorou 2.716666666666667 minutos\n"
     ]
    }
   ],
   "source": [
    "time_before = time.time()\n",
    "df = pd.read_csv('SAO PAULO.csv',dtype = str, usecols = range(38))\n",
    "df.to_csv('SAO PAULO_teste.csv',index = False)\n",
    "time_after = time.time()\n",
    "total_time = round(time_after - time_before)/60\n",
    "print('Tempo de execução: {} minutos'.format(total_time))"
   ]
  },
  {
   "cell_type": "markdown",
   "metadata": {},
   "source": [
    "<p>    O primeiro arquivo que usei para fazer o teste foi 'SAO PAULO.csv'. Ele tem 2,4GB. </p>\n",
    "<p>Usando o parametro chunksize do read_csv() o processo de leitura e escrita do CSV durou 1,3 minutos.E não consumiu muita ram. Foram gerados 16 arquivos, cada um contendo em média 100MB </p>\n",
    "<p>Sem o parametro chunksize do read_csv() o processo de leitura e escrita do CSV durou 2,7 minutos e consumiu toda RAM disponível (8GB)</p>\n"
   ]
  },
  {
   "cell_type": "code",
   "execution_count": 15,
   "metadata": {},
   "outputs": [
    {
     "name": "stdout",
     "output_type": "stream",
     "text": [
      "O script levou 0.0 minutos\n"
     ]
    }
   ],
   "source": [
    "time_before = time.time()\n",
    "for chunk in pd.read_csv('ANAMA.csv',usecols = range(38),dtype = str,chunksize = chunk_size):\n",
    "    \n",
    "    \n",
    "    chunk.to_csv('ANAMA' + str(batch_n)+ '.csv', index = False)\n",
    "    batch_n += 1\n",
    "time_after = time.time()\n",
    "total_time = round(time_after - time_before)/60\n",
    "print('Tempo de execução: {} minutos'.format(total_time))\n",
    "os.remove('ANAMA.csv')"
   ]
  },
  {
   "cell_type": "code",
   "execution_count": 10,
   "metadata": {},
   "outputs": [
    {
     "data": {
      "text/plain": [
       "1269"
      ]
     },
     "execution_count": 10,
     "metadata": {},
     "output_type": "execute_result"
    }
   ],
   "source": [
    "df1 = pd.read_csv('ANAMA.csv')\n",
    "len(df1)"
   ]
  },
  {
   "cell_type": "code",
   "execution_count": 11,
   "metadata": {},
   "outputs": [
    {
     "data": {
      "text/plain": [
       "1269"
      ]
     },
     "execution_count": 11,
     "metadata": {},
     "output_type": "execute_result"
    }
   ],
   "source": [
    "df2=pd.read_csv('ANAMA1.csv')\n",
    "len(df2)"
   ]
  },
  {
   "cell_type": "code",
   "execution_count": 18,
   "metadata": {},
   "outputs": [
    {
     "name": "stdout",
     "output_type": "stream",
     "text": [
      "O script levou 1.6833333333333333 minutos\n"
     ]
    }
   ],
   "source": [
    "time_before = time.time()\n",
    "for chunk in pd.read_csv('SAO PAULO.csv',usecols = range(38),dtype = str,chunksize = chunk_size):\n",
    "    \n",
    "    chunk.to_csv('SAO PAULO' + str(batch_n)+ '.csv', index = False)\n",
    "    batch_n += 1\n",
    "time_after = time.time()\n",
    "total_time = round(time_after - time_before)/60\n",
    "print('Tempo de execução {} minutos'.format(total_time))\n",
    "os.remove('SAO PAULO.csv')"
   ]
  }
 ],
 "metadata": {
  "kernelspec": {
   "display_name": "Python 3",
   "language": "python",
   "name": "python3"
  },
  "language_info": {
   "codemirror_mode": {
    "name": "ipython",
    "version": 3
   },
   "file_extension": ".py",
   "mimetype": "text/x-python",
   "name": "python",
   "nbconvert_exporter": "python",
   "pygments_lexer": "ipython3",
   "version": "3.8.5"
  }
 },
 "nbformat": 4,
 "nbformat_minor": 4
}
