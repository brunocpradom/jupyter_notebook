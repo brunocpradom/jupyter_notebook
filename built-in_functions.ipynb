{
 "cells": [
  {
   "cell_type": "markdown",
   "metadata": {},
   "source": [
    "<h1>Built-in functions</h1>"
   ]
  },
  {
   "cell_type": "markdown",
   "metadata": {},
   "source": [
    "<h3>abs(x)</h3>\n",
    "\n",
    "      Return the absolute value of a number. The argument may be an integer, a floating point number, or an \n",
    "      an object implementing __abs__(). If the argument is a complex number, its magnitude is returned"
   ]
  },
  {
   "cell_type": "code",
   "execution_count": 21,
   "metadata": {},
   "outputs": [
    {
     "name": "stdout",
     "output_type": "stream",
     "text": [
      "10\n",
      "2.33\n",
      "5.0\n"
     ]
    }
   ],
   "source": [
    "print(abs(-10))\n",
    "print(abs(2.33))\n",
    "print(abs(3 - 4j))"
   ]
  },
  {
   "cell_type": "markdown",
   "metadata": {},
   "source": [
    "\n",
    "<h3>all(iterable)</h3>\n",
    "\n",
    "    Return True if all elements of the iterable are true( or if the iterable is empty). Equivalent to:\n",
    "```        \n",
    "    def all(iterable):\n",
    "        for element in iterable:\n",
    "            if not element:\n",
    "                return False\n",
    "        return True\n",
    "```"
   ]
  },
  {
   "cell_type": "code",
   "execution_count": 22,
   "metadata": {},
   "outputs": [
    {
     "name": "stdout",
     "output_type": "stream",
     "text": [
      "True\n",
      "True\n",
      "True\n",
      "False\n",
      "False\n"
     ]
    }
   ],
   "source": [
    "print(all([1,2,3]))\n",
    "print(all([]))\n",
    "print(all('fff'))\n",
    "print(all([0,1,2,3,4]))    \n",
    "        #  ^--stop here!   0 is False in a boolean context!\n",
    "print(all([True,False]))"
   ]
  },
  {
   "cell_type": "markdown",
   "metadata": {},
   "source": [
    "<h3>any(iterable)</h3>\n",
    "\n",
    "        Return True if any element of the iterable is true. If the iterable is empty, return False. Equivalent to:\n",
    "```       \n",
    "    def any(iterable):\n",
    "        for element in iterable:\n",
    "            if element:\n",
    "                return True\n",
    "        return False\n",
    "```"
   ]
  },
  {
   "cell_type": "code",
   "execution_count": 23,
   "metadata": {},
   "outputs": [
    {
     "name": "stdout",
     "output_type": "stream",
     "text": [
      "True\n",
      "True\n",
      "False\n"
     ]
    }
   ],
   "source": [
    "print(any([1,2,3,4]))\n",
    "print(any([0,1,2,3,4]))\n",
    "print(any([]))"
   ]
  },
  {
   "cell_type": "markdown",
   "metadata": {},
   "source": [
    "<h3>ascii(object)</h3>\n",
    "\n",
    "    As repr(), return a string containing a printable representation of an object, but escape the non-ASCII characters in the string returned by repr() using \\x, \\u or \\U escapes. This generates a string similar to that returned by repr() in python 2."
   ]
  },
  {
   "cell_type": "code",
   "execution_count": 40,
   "metadata": {},
   "outputs": [
    {
     "name": "stdout",
     "output_type": "stream",
     "text": [
      "'Print'\n"
     ]
    },
    {
     "data": {
      "text/plain": [
       "'<built-in function time>'"
      ]
     },
     "execution_count": 40,
     "metadata": {},
     "output_type": "execute_result"
    }
   ],
   "source": [
    "import time\n",
    "print(ascii('Print'))\n",
    "ascii(time.time)\n"
   ]
  },
  {
   "cell_type": "markdown",
   "metadata": {},
   "source": [
    "<h3>bin(x)</h3>\n",
    "    \n",
    "    Convert an integer number to a binary string prefixed with '0b'. The result is a valid Python expression.\n",
    "    If x is not a Python int object, it has to defin an __index__() method that returns an integer.\n",
    "    "
   ]
  },
  {
   "cell_type": "code",
   "execution_count": 45,
   "metadata": {},
   "outputs": [
    {
     "name": "stdout",
     "output_type": "stream",
     "text": [
      "0b11\n",
      "-0b1010\n"
     ]
    },
    {
     "ename": "TypeError",
     "evalue": "'float' object cannot be interpreted as an integer",
     "output_type": "error",
     "traceback": [
      "\u001b[0;31m---------------------------------------------------------------------------\u001b[0m",
      "\u001b[0;31mTypeError\u001b[0m                                 Traceback (most recent call last)",
      "\u001b[0;32m<ipython-input-45-bbcd3da505c3>\u001b[0m in \u001b[0;36m<module>\u001b[0;34m\u001b[0m\n\u001b[1;32m      1\u001b[0m \u001b[0mprint\u001b[0m\u001b[0;34m(\u001b[0m\u001b[0mbin\u001b[0m\u001b[0;34m(\u001b[0m\u001b[0;36m3\u001b[0m\u001b[0;34m)\u001b[0m\u001b[0;34m)\u001b[0m\u001b[0;34m\u001b[0m\u001b[0;34m\u001b[0m\u001b[0m\n\u001b[1;32m      2\u001b[0m \u001b[0mprint\u001b[0m\u001b[0;34m(\u001b[0m\u001b[0mbin\u001b[0m\u001b[0;34m(\u001b[0m\u001b[0;34m-\u001b[0m\u001b[0;36m10\u001b[0m\u001b[0;34m)\u001b[0m\u001b[0;34m)\u001b[0m\u001b[0;34m\u001b[0m\u001b[0;34m\u001b[0m\u001b[0m\n\u001b[0;32m----> 3\u001b[0;31m \u001b[0mprint\u001b[0m\u001b[0;34m(\u001b[0m\u001b[0mbin\u001b[0m\u001b[0;34m(\u001b[0m\u001b[0;36m1.2\u001b[0m\u001b[0;34m)\u001b[0m\u001b[0;34m)\u001b[0m\u001b[0;34m\u001b[0m\u001b[0;34m\u001b[0m\u001b[0m\n\u001b[0m",
      "\u001b[0;31mTypeError\u001b[0m: 'float' object cannot be interpreted as an integer"
     ]
    }
   ],
   "source": [
    "print(bin(3))\n",
    "print(bin(-10))\n",
    "print(bin(1.2))"
   ]
  },
  {
   "cell_type": "markdown",
   "metadata": {},
   "source": [
    "<h3>bool([x])</h3>\n",
    "\n",
    "    Return a Boolean value, i.e. one of True or False. x is converted using the standart truth testing procedure. If x is false or omitted, this returns False; otherwise it returns Trues. The bool class is a subclass of int. It cannot be subclassed further. Its only instances are False and True.\n",
    "    \n",
    "    "
   ]
  },
  {
   "cell_type": "code",
   "execution_count": 51,
   "metadata": {},
   "outputs": [
    {
     "name": "stdout",
     "output_type": "stream",
     "text": [
      "True\n",
      "False\n",
      "True\n",
      "False\n"
     ]
    }
   ],
   "source": [
    "print(bool(1))\n",
    "print(bool(0))\n",
    "print(bool('string'))\n",
    "print(bool(''))"
   ]
  },
  {
   "cell_type": "markdown",
   "metadata": {},
   "source": [
    "<h3>breakpoint(*args,**kwargs)</h3>\n",
    "   \n",
    "    This function drops you into the debugger at the call site. Specifically, it calls sys.breakpointhook(), passing args and kwargs straight through. By defaut, sys.breakpointhook() call pdb.set_trace() expecting no arguments. In this case, it is purely a convenience function so you don't have to explicitly import pdb or type as much code to enter the debugger. However, sys.breakpointhook() can be set to some other function and breakpoint() will automatically call that, allowing you to drop into the debugger of choice\n",
    "    Raises an auditing event builtins.breakpoint with argument breakpointhook."
   ]
  },
  {
   "cell_type": "markdown",
   "metadata": {},
   "source": [
    "    Python sys.breakpointhook() function uses environment variable PYTHONBREAKPOINT to configure the debugger. If unset, defaut PDB debugger is used.\n",
    "    If it's set to 0, then function returns immediately and no code debugging is performed. It's very helpful when we want to run our code without debugging.\n",
    "    PYTHONBREAKPOINT=0 python3 breakpoint.py\n",
    "    \n",
    "    We can use this variable to utilize other code debugging tool,like web-pdb. First, you need to have it installed on your machine . pip install web-pdb .  \n",
    "    PYTHONBREAKPOINT=web_pdb.set_trace python3 breakpoint.py \n",
    "    So, the web_pdb will be used as debugger. You will not need to change the code."
   ]
  },
  {
   "cell_type": "code",
   "execution_count": 56,
   "metadata": {},
   "outputs": [
    {
     "name": "stdout",
     "output_type": "stream",
     "text": [
      "Hi\n",
      "--Return--\n",
      "None\n",
      "> \u001b[0;32m<ipython-input-56-a4d766b0c2e3>\u001b[0m(7)\u001b[0;36m<module>\u001b[0;34m()\u001b[0m\n",
      "\u001b[0;32m      5 \u001b[0;31m\u001b[0mprint\u001b[0m\u001b[0;34m(\u001b[0m\u001b[0my\u001b[0m\u001b[0;34m)\u001b[0m\u001b[0;34m\u001b[0m\u001b[0;34m\u001b[0m\u001b[0m\n",
      "\u001b[0m\u001b[0;32m      6 \u001b[0;31m\u001b[0;34m\u001b[0m\u001b[0m\n",
      "\u001b[0m\u001b[0;32m----> 7 \u001b[0;31m\u001b[0mbreakpoint\u001b[0m\u001b[0;34m(\u001b[0m\u001b[0;34m)\u001b[0m\u001b[0;34m\u001b[0m\u001b[0;34m\u001b[0m\u001b[0m\n",
      "\u001b[0m\u001b[0;32m      8 \u001b[0;31m\u001b[0;34m\u001b[0m\u001b[0m\n",
      "\u001b[0m\u001b[0;32m      9 \u001b[0;31m\u001b[0mprint\u001b[0m\u001b[0;34m(\u001b[0m\u001b[0mz\u001b[0m\u001b[0;34m)\u001b[0m\u001b[0;34m\u001b[0m\u001b[0;34m\u001b[0m\u001b[0m\n",
      "\u001b[0m\n",
      "ipdb> c\n",
      "Hello\n"
     ]
    }
   ],
   "source": [
    "#When this script is executed , PDB debugger console opens up\n",
    "x = 10\n",
    "y = 'Hi'\n",
    "z = 'Hello'\n",
    "print(y)\n",
    "\n",
    "breakpoint()\n",
    "\n",
    "print(z)"
   ]
  },
  {
   "cell_type": "markdown",
   "metadata": {},
   "source": [
    "<h3>class bytearray([source[,encoding[,errors]]])</h3>\n",
    "\n",
    "    Return a new array of bytes. The bytearray class is a mutable sequence of integers in the range 0 <= x <= 256. It has most of the usual methods of mutable sequences, described in Mutable Sequence Types, as well as most methods that the bytes has, see Bytes and Bytearray Operation.\n",
    "    The optional source parameter can be used to initialize the array in a few different ways:\n",
    "    \n",
    "        -If it is a string, you must also give the encoding(and optionally, errors) parameters; bytearray() then converts the string to bytes using str.encode()\n",
    "        -If it is an integer, the array will have that size and will be initialized with null bytes.\n",
    "        -If it is an object conforming to the buffer interface, a read_only buffer of the object will be used to initialize the bytes array.\n",
    "        -If it is an iterable, it must be an iterable of integers in the range 0 <= x < 256, which are used as the initial contens of the array.\n",
    "        \n",
    "    Without an argument, an array of size 0 is created."
   ]
  },
  {
   "cell_type": "markdown",
   "metadata": {},
   "source": [
    "    *source(optional)   -source to initialize the array of bytes.\n",
    "    *encoding(optional) -if the source is a string, the encoding of the string.\n",
    "    *errors(optional)   -if the source is a string, the action to take when the encoding conversion fails.\n",
    "    "
   ]
  },
  {
   "cell_type": "markdown",
   "metadata": {},
   "source": [
    "        Pratical examples of bytearray utilization:\n",
    "    \n",
    "    \"1- Assembling a message from fragments\n",
    "        Suppose you're writing some network code that is receiving a large message on a socket connection. You can utilize the bytearray for that\n",
    "    2-Binary record packing\n",
    "    3- Mathematical processing of byte values\n",
    "        The fact that bytearrays present themselves as arrays of integers makes it easier to perform certain kinds of calculations. In a recent embedded systems project, I was using Python to communicate with a device over a serial port. As part of the communications protocol, all messages had to be signed with a Longitudinal Redundancy Check (LRC) byte. An LRC is computed by taking an XOR across all of the byte values.\"\n",
    "        \n",
    "        http://dabeaz.blogspot.com/2010/01/few-useful-bytearray-tricks.html\n",
    "    "
   ]
  },
  {
   "cell_type": "code",
   "execution_count": 61,
   "metadata": {},
   "outputs": [
    {
     "name": "stdout",
     "output_type": "stream",
     "text": [
      "bytearray(b'python')\n",
      "bytearray(b'\\x00\\x00\\x00\\x00\\x00\\x00\\x00\\x00\\x00')\n",
      "bytearray(b'\\x01\\x02\\x03\\x04')\n"
     ]
    }
   ],
   "source": [
    "print(bytearray('python','utf-8'))     #For the string is necessary to specify the encoding or it will show \n",
    "                                       #an error message\n",
    "print(bytearray(9))            \n",
    "print(bytearray([1,2,3,4]))    # Array of bytes from an iterable list"
   ]
  },
  {
   "cell_type": "markdown",
   "metadata": {},
   "source": [
    "<h3>class bytes([source[,encoding[,errors]]])</h3>\n",
    "    \n",
    "    Return a new 'bytes' objectm which is an immutable sequence of integer in the range 0 <= x <256. bytes is an immutable version of bytearray - it has the same non-mutating methods and the same indexing and slicing behavior.\n",
    "    Accordingly, constructor arguments are interpreted as for bytearray().\n",
    "    Bytes objects can also be created with literals, see String and Bytes literals."
   ]
  },
  {
   "cell_type": "code",
   "execution_count": null,
   "metadata": {},
   "outputs": [],
   "source": [
    "#A byte is a data that consist of 8 bits. Bits being a single 0 or 1 value\n",
    "print(bytes(0))\n",
    "print(bytes(1))\n",
    "print(bytes(2))\n",
    "print(bytes(3))\n",
    "a= bytes(4)\n",
    "print(type(a))"
   ]
  },
  {
   "cell_type": "markdown",
   "metadata": {},
   "source": [
    "<h3>callable(object)</h3>\n",
    "\n",
    "    Return True if the object argument appears callable, False if not. If this returns True, it is still possible that a call fails, but if it is False, calling object will never succeed. Note that classes are callable (callilng a class returns a new instance); instances are callable if their class has a __call__() method."
   ]
  },
  {
   "cell_type": "code",
   "execution_count": 83,
   "metadata": {},
   "outputs": [
    {
     "name": "stdout",
     "output_type": "stream",
     "text": [
      "True\n",
      "True\n",
      "False\n"
     ]
    }
   ],
   "source": [
    "def testFunction():\n",
    "    print('Test')\n",
    "y = testFunction\n",
    "\n",
    "class Foo:\n",
    "    def __call__(self):\n",
    "        print('something')\n",
    "        \n",
    "print(callable(Foo))\n",
    "print(callable(y))\n",
    "print(callable(2))"
   ]
  },
  {
   "cell_type": "markdown",
   "metadata": {},
   "source": [
    "<h3>chr(i)</h3>\n",
    "\n",
    "    Return the string representing a character whose Unicode code point is the integer i. This is the inverse of ord()\n",
    "    The valid range for the argument is from 0 through 1,114,111(0X10FFFF in base 16). ValueError will be raised if i is outside that range"
   ]
  },
  {
   "cell_type": "code",
   "execution_count": 93,
   "metadata": {},
   "outputs": [
    {
     "name": "stdout",
     "output_type": "stream",
     "text": [
      "a\n",
      "€\n",
      "Ϩ\n"
     ]
    }
   ],
   "source": [
    "print(chr(97))\n",
    "print(chr(8364))\n",
    "print(chr(1000))\n"
   ]
  },
  {
   "cell_type": "markdown",
   "metadata": {},
   "source": [
    "<h3> @classmethod</h3>\n",
    "\n",
    "    Transform a method into a class method.\n",
    "    A class method receives the class as implicit first argument, just like an instance method receives the instance. To declare a class method, use this idiom:\n",
    "    \n",
    "    class C:\n",
    "        @classmethod\n",
    "        def f(cls, arg1, arg2, ...): \n",
    "            .....\n",
    "    The @classmethod form is a function decorator - see Function definitions for details.\n",
    "    A class method can be called either on the class(such as C.f() or on an instance (such as C().f()). The instance is ignored except for its class. If a class method is called ofr a derived class, the derived class object is passed as the implied fist argument.\n",
    "    Class mmethods are different than C++ or Java static methods. If you want those, see staticmethod(). For more information on class methods, see The standart type hierarchy.\n",
    "    \n",
    "    Changed in version 3.9: Class method can now wrap other descriptors such as property()"
   ]
  },
  {
   "cell_type": "code",
   "execution_count": 107,
   "metadata": {},
   "outputs": [
    {
     "name": "stdout",
     "output_type": "stream",
     "text": [
      "5\n",
      "5\n"
     ]
    },
    {
     "ename": "TypeError",
     "evalue": "subtrair() missing 1 required positional argument: 'self'",
     "output_type": "error",
     "traceback": [
      "\u001b[0;31m---------------------------------------------------------------------------\u001b[0m",
      "\u001b[0;31mTypeError\u001b[0m                                 Traceback (most recent call last)",
      "\u001b[0;32m<ipython-input-107-c5cf9d49534c>\u001b[0m in \u001b[0;36m<module>\u001b[0;34m\u001b[0m\n\u001b[1;32m     14\u001b[0m \u001b[0mt\u001b[0m \u001b[0;34m=\u001b[0m \u001b[0mTeste\u001b[0m\u001b[0;34m(\u001b[0m\u001b[0;34m)\u001b[0m\u001b[0;34m\u001b[0m\u001b[0;34m\u001b[0m\u001b[0m\n\u001b[1;32m     15\u001b[0m \u001b[0mprint\u001b[0m\u001b[0;34m(\u001b[0m\u001b[0mt\u001b[0m\u001b[0;34m.\u001b[0m\u001b[0msomar\u001b[0m\u001b[0;34m(\u001b[0m\u001b[0;34m)\u001b[0m\u001b[0;34m)\u001b[0m\u001b[0;34m\u001b[0m\u001b[0;34m\u001b[0m\u001b[0m\n\u001b[0;32m---> 16\u001b[0;31m \u001b[0mprint\u001b[0m\u001b[0;34m(\u001b[0m\u001b[0mTeste\u001b[0m\u001b[0;34m.\u001b[0m\u001b[0msubtrair\u001b[0m\u001b[0;34m(\u001b[0m\u001b[0;34m)\u001b[0m\u001b[0;34m)\u001b[0m\u001b[0;34m\u001b[0m\u001b[0;34m\u001b[0m\u001b[0m\n\u001b[0m",
      "\u001b[0;31mTypeError\u001b[0m: subtrair() missing 1 required positional argument: 'self'"
     ]
    }
   ],
   "source": [
    "class Teste:\n",
    "    def __init__(self):\n",
    "        self.x = 10\n",
    "        self.y = 11\n",
    "        \n",
    "    @classmethod\n",
    "    def somar(self):\n",
    "        return 2+3\n",
    "    \n",
    "    def subtrair(self):\n",
    "        return 5-3\n",
    "    \n",
    "print(Teste.somar())\n",
    "t = Teste()\n",
    "print(t.somar())\n",
    "print(Teste.subtrair())"
   ]
  },
  {
   "cell_type": "markdown",
   "metadata": {},
   "source": [
    "<h3>compile(source,filename,mode,flag = 0, dont_inherit = False, optimize = -1)</h3>\n",
    "\n",
    "    Compile the source into a code or AST object. Code objects can be executed by exec() or eval().source can  either be a normal string, a byte string, or an AST object. Refer to the ast module documentation for information on how to work with AST objects.\n",
    "    \n",
    "    The <filename> argument should give the file from which the code was read; pass some recognizable value if it wasn't read from a file ('<string>') is commonly used).\n",
    "    \n",
    "    The <mode> argument specifies what kind of code must be compiled; it can be 'exec' if source consists of a sequence of statement, 'eval' if it consists of a single expression, or 'single' if it consists of a single interactive statement(in the latter case, expression statements that evaluate to something other than None will be printed).\n",
    "    \n",
    "    The optional argument flags and dont_inherit control which compiler options should be activated and which future features should be allowed. If neither is present(or both are zero) the code is compiled with the same flags that affect the code that is calling compile(). If the flags argument is given and dont_inherit is not (or is zero) then the compiler options and the future statements specified by the flags argument are used in addition to those that would be used anyway. If dont_inherit is a non-zero integer then the flags argument is it - the flags (future features and compiler options) in the surrounding code are ignored.\n",
    "    \n",
    "    Compiler options and future statements are specified by bits which can be bitwise ORed together to specify multiple options. The bitfield required to specify a given future feature can be found as the compiler_flag attribute on the _Feature instance in the __future__ module. Compiler flags can be found in ast module, with PyCF_ prefix.\n",
    "    \n",
    "    The argument optimize specifies the optimization level of the compiler; the default value of -1 selects the optimization level of the interpreter as fiven by -O options, Explicit level are 0 (no optimization; __debug__ is True), 1 (asserts are removed, __debug__ is false) or 2 (docstrings are removed too).\n",
    "    \n",
    "    This function raises SyntaxError if the compiled source is invalid, and ValueError if the source contains null bytes.\n",
    "    \n",
    "    If you want to parse Python code into its AST representation, see ast.parse().\n",
    "    Raises an auditing event compile with arguments source and filename. This event may also ve raised by implicit compilation.\n",
    "    \n",
    "    Note: When compiling a string with multi-line code in 'single' or 'eval' mode, input must be terminated by at least one newline character. This is to facilitate detection of incomplete and complete statements in the code module.\n",
    "    \n",
    "    Warning: It is possible to crash the Python interpreter with a sufficiently large/complex string when compiling to an AST object due to stack depth limitation in Python's AST compiler\n",
    "    "
   ]
  },
  {
   "cell_type": "code",
   "execution_count": 108,
   "metadata": {},
   "outputs": [
    {
     "name": "stdout",
     "output_type": "stream",
     "text": [
      "sum = 11\n"
     ]
    }
   ],
   "source": [
    "codeInString = 'a = 5\\nb=6\\nsum=a+b\\nprint(\"sum =\",sum)'  \n",
    "codeObejct = compile(codeInString, 'sumstring', 'exec')   # <source> is in normal string form. <filename> is\n",
    "                                                          # sumstring.<mode> is exec.\n",
    "\n",
    "exec(codeObejct)"
   ]
  },
  {
   "cell_type": "code",
   "execution_count": 109,
   "metadata": {},
   "outputs": [
    {
     "name": "stdout",
     "output_type": "stream",
     "text": [
      "<class 'code'>\n",
      "sum = 15\n"
     ]
    }
   ],
   "source": [
    "code_str = 'x=5\\ny=10\\nprint(\"sum =\",x+y)'\n",
    "code = compile(code_str, 'sum.py', 'exec')\n",
    "print(type(code))\n",
    "exec(code)"
   ]
  },
  {
   "cell_type": "code",
   "execution_count": null,
   "metadata": {},
   "outputs": [],
   "source": [
    "# reading code from a file\n",
    "f = open('my_code.py', 'r')\n",
    "code_str = f.read()\n",
    "f.close()\n",
    "code = compile(code_str, 'my_code.py', 'exec')\n",
    "exec(code)"
   ]
  },
  {
   "cell_type": "code",
   "execution_count": 110,
   "metadata": {},
   "outputs": [
    {
     "name": "stdout",
     "output_type": "stream",
     "text": [
      "<class '_ast.Module'>\n",
      "<class 'code'>\n",
      "Hello world!\n"
     ]
    }
   ],
   "source": [
    "#compile() with AST Object\n",
    "import ast\n",
    "\n",
    "ast_object = ast.parse(\"print('Hello world!')\") (Creating an AST Object)\n",
    "print(type(ast_object))\n",
    "code = compile(ast_object, filename=\"\", mode=\"exec\")\n",
    "print(type(code))\n",
    "exec(code)"
   ]
  },
  {
   "cell_type": "code",
   "execution_count": null,
   "metadata": {},
   "outputs": [],
   "source": [
    "#compile() with byte string source\n",
    "bytes_str = bytes('x == 5', 'utf-8')\n",
    "print(type(bytes_str))\n",
    "code = compile(bytes_str, '', 'eval')\n",
    "result = eval(code)\n",
    "print(result)"
   ]
  },
  {
   "cell_type": "markdown",
   "metadata": {},
   "source": [
    "<h3>class complex([real[,imag]])</h3>\n",
    "\n",
    "    Return a complex number with the value real + imag*1j or convert a string or number to a complex number. If the first parameter is a string, it will be interpreted as a complex number and the function must be called without a second parameter. The second parameter can never be a string. Each argument may be any numeric type(includind complex). If imag is omitted, it defauts to zero and the constructor serves as a numeric conversion like int and float. If both arguments are omitted, return 0j.\n",
    "    For a general python object x, complex(x) delegates to x.__complex__(). If __complex__() is not defined then it falls back to __float__(). If __float__() is not defined then it falls back to __index__().\n",
    "    \n",
    "    Note: When converting from string, the string must not contain whitespace around the central + or - operator. For example, complex('1+2j') is fine, but complex('1 + 2j') raises ValueError.\n",
    "    "
   ]
  },
  {
   "cell_type": "code",
   "execution_count": 7,
   "metadata": {},
   "outputs": [
    {
     "name": "stdout",
     "output_type": "stream",
     "text": [
      "(1+0j)\n",
      "(199+0j)\n",
      "(1+2j)\n",
      "(1.2+0j)\n",
      "(1+3j)\n",
      "<class 'complex'>\n"
     ]
    }
   ],
   "source": [
    "print(complex(1))\n",
    "print(complex(199))\n",
    "print(complex('1+2j'))\n",
    "print(complex(1.2))\n",
    "print(complex(1 , 3))\n",
    "a = complex(1,3)\n",
    "print(type(a))"
   ]
  },
  {
   "cell_type": "markdown",
   "metadata": {},
   "source": [
    "<h3>delattr(object, name)</h3>\n",
    "\n",
    "    This is a relative of setattr(). The arguments are an object and a string. The string must be the same of one of the object's attributes. The function deletes the named attribute, provided the object allows it. For example, delattr(x,'foobar') is equivalent to del x.foobar ."
   ]
  },
  {
   "cell_type": "code",
   "execution_count": 15,
   "metadata": {},
   "outputs": [
    {
     "name": "stdout",
     "output_type": "stream",
     "text": [
      "10\n",
      "2\n"
     ]
    },
    {
     "ename": "AttributeError",
     "evalue": "'Coordinate' object has no attribute 'x'",
     "output_type": "error",
     "traceback": [
      "\u001b[0;31m---------------------------------------------------------------------------\u001b[0m",
      "\u001b[0;31mAttributeError\u001b[0m                            Traceback (most recent call last)",
      "\u001b[0;32m<ipython-input-15-2d916b633d5f>\u001b[0m in \u001b[0;36m<module>\u001b[0;34m\u001b[0m\n\u001b[1;32m     10\u001b[0m \u001b[0;34m\u001b[0m\u001b[0m\n\u001b[1;32m     11\u001b[0m \u001b[0;31m# After deleting x attribute.\u001b[0m\u001b[0;34m\u001b[0m\u001b[0;34m\u001b[0m\u001b[0;34m\u001b[0m\u001b[0m\n\u001b[0;32m---> 12\u001b[0;31m \u001b[0mprint\u001b[0m\u001b[0;34m(\u001b[0m\u001b[0mpoint1\u001b[0m\u001b[0;34m.\u001b[0m\u001b[0mx\u001b[0m\u001b[0;34m)\u001b[0m\u001b[0;34m\u001b[0m\u001b[0;34m\u001b[0m\u001b[0m\n\u001b[0m",
      "\u001b[0;31mAttributeError\u001b[0m: 'Coordinate' object has no attribute 'x'"
     ]
    }
   ],
   "source": [
    "class Coordinate:\n",
    "    x = 10\n",
    "    y = 2\n",
    "\n",
    "point1 = Coordinate()\n",
    "print(point1.x)\n",
    "print(point1.y)\n",
    "\n",
    "delattr(Coordinate,'x')\n",
    "\n",
    "# After deleting x attribute.\n",
    "print(point1.x)"
   ]
  },
  {
   "cell_type": "code",
   "execution_count": 14,
   "metadata": {},
   "outputs": [
    {
     "name": "stdout",
     "output_type": "stream",
     "text": [
      "10\n",
      "2\n"
     ]
    },
    {
     "ename": "AttributeError",
     "evalue": "'Coordinate' object has no attribute 'x'",
     "output_type": "error",
     "traceback": [
      "\u001b[0;31m---------------------------------------------------------------------------\u001b[0m",
      "\u001b[0;31mAttributeError\u001b[0m                            Traceback (most recent call last)",
      "\u001b[0;32m<ipython-input-14-d29643497fbc>\u001b[0m in \u001b[0;36m<module>\u001b[0;34m\u001b[0m\n\u001b[1;32m      9\u001b[0m \u001b[0;32mdel\u001b[0m \u001b[0mCoordinate\u001b[0m\u001b[0;34m.\u001b[0m\u001b[0mx\u001b[0m\u001b[0;34m\u001b[0m\u001b[0;34m\u001b[0m\u001b[0m\n\u001b[1;32m     10\u001b[0m \u001b[0;31m# After deleting x attribute.\u001b[0m\u001b[0;34m\u001b[0m\u001b[0;34m\u001b[0m\u001b[0;34m\u001b[0m\u001b[0m\n\u001b[0;32m---> 11\u001b[0;31m \u001b[0mprint\u001b[0m\u001b[0;34m(\u001b[0m\u001b[0mpoint1\u001b[0m\u001b[0;34m.\u001b[0m\u001b[0mx\u001b[0m\u001b[0;34m)\u001b[0m\u001b[0;34m\u001b[0m\u001b[0;34m\u001b[0m\u001b[0m\n\u001b[0m",
      "\u001b[0;31mAttributeError\u001b[0m: 'Coordinate' object has no attribute 'x'"
     ]
    }
   ],
   "source": [
    "class Coordinate:\n",
    "    x = 10\n",
    "    y = 2\n",
    "\n",
    "point1 = Coordinate()\n",
    "print(point1.x)\n",
    "print(point1.y)\n",
    "\n",
    "del Coordinate.x\n",
    "\n",
    "# After deleting x attribute.\n",
    "print(point1.x)"
   ]
  },
  {
   "cell_type": "markdown",
   "metadata": {},
   "source": [
    "<h3>class dict(**kwarg)<br>\n",
    "    class dict(mapping,**kwarg)<br>\n",
    "    class dict(iterable,**kwarg)</h3>\n",
    "    \n",
    "    Create a new dictionary. The dict object is the dictionary class. See dict and Mapping Types -dic for documentation about this class."
   ]
  },
  {
   "cell_type": "code",
   "execution_count": 18,
   "metadata": {},
   "outputs": [
    {
     "name": "stdout",
     "output_type": "stream",
     "text": [
      "{'x': 5, 'y': 0}\n",
      "<class 'dict'>\n",
      "{}\n",
      "<class 'dict'>\n"
     ]
    }
   ],
   "source": [
    "numbers = dict(x = 5, y = 0)\n",
    "print(numbers)\n",
    "print(type(numbers))\n",
    "\n",
    "empty = dict()\n",
    "print(empty)\n",
    "print(type(empty))"
   ]
  },
  {
   "cell_type": "code",
   "execution_count": 23,
   "metadata": {},
   "outputs": [
    {
     "name": "stdout",
     "output_type": "stream",
     "text": [
      "{'x': 5, 'y': -5}\n",
      "{'x': 5, 'y': -5, 'z': 8}\n",
      "{'x': 1, 'y': 2, 'z': 3}\n"
     ]
    }
   ],
   "source": [
    "#Create dictionary using iterable\n",
    "\n",
    "numbers1 = dict([('x',5),('y',-5)])\n",
    "print(numbers1)\n",
    "\n",
    "numbers2 = dict([('x',5),('y', -5)], z =8)\n",
    "print(numbers2)\n",
    "\n",
    "numbers3 = dict(zip(['x','y','z'],[1,2,3]))\n",
    "print(numbers3)"
   ]
  },
  {
   "cell_type": "markdown",
   "metadata": {},
   "source": [
    "<h3>dir([object])</h3>\n",
    "\n",
    "    Without arguments, return the list of names in the current local scope. With an argument, attempt to return a list of valid attributes for that object.\n",
    "    If the object has a method named __dir__(), this method will be called and must return the list of attributes. This allows objects that implement a custom __getattr__() or __getattribute__() function to customize the way dir() reports their attributes.\n",
    "    If the object does not provide __dir__(), the function tries its best to gather information from object's __dict__ attribute, if defined, and from its type object. The resulting list is not necessarily complete, and may be inaccurate when the object has a custom __getattr__().\n",
    "    \n",
    "    The defaut dir() mechanism behaves differently with different types of objects, as it attempts to produce the most relevant, rather than complete, information:\n",
    "        -if the object is a module object, the list contains the names of the modules's attributes.\n",
    "        -if the object is a type or class object, the list contains the names of its attributes, and recursively of the attributes of its bases.\n",
    "        -Otherwise, the list contains the objects attribute's names, the names of its class's attributes, and recursively of the attributes of its class's base classes. \n",
    "        \n",
    "    Note: Because dir() is supllied primarily as a convenience for use at an interactive prompt, it tries to supply an interesting set of names more than it tries to supply a rigorously or consistently defined set of names, and its detailed behavior may change across releases. For example, metaclass attributes are not in the result list when the argument is a class."
   ]
  },
  {
   "cell_type": "code",
   "execution_count": 30,
   "metadata": {},
   "outputs": [
    {
     "data": {
      "text/plain": [
       "['Struct',\n",
       " '__all__',\n",
       " '__builtins__',\n",
       " '__cached__',\n",
       " '__doc__',\n",
       " '__file__',\n",
       " '__loader__',\n",
       " '__name__',\n",
       " '__package__',\n",
       " '__spec__',\n",
       " '_clearcache',\n",
       " 'calcsize',\n",
       " 'error',\n",
       " 'iter_unpack',\n",
       " 'pack',\n",
       " 'pack_into',\n",
       " 'unpack',\n",
       " 'unpack_from']"
      ]
     },
     "execution_count": 30,
     "metadata": {},
     "output_type": "execute_result"
    }
   ],
   "source": [
    "import struct\n",
    "dir(struct)"
   ]
  },
  {
   "cell_type": "code",
   "execution_count": 31,
   "metadata": {},
   "outputs": [
    {
     "data": {
      "text/plain": [
       "['area', 'location', 'perimeter']"
      ]
     },
     "execution_count": 31,
     "metadata": {},
     "output_type": "execute_result"
    }
   ],
   "source": [
    "class Shape:\n",
    "    def __dir__(self):\n",
    "        return ['area','perimeter','location']\n",
    "s = Shape()\n",
    "dir(s)"
   ]
  },
  {
   "cell_type": "markdown",
   "metadata": {},
   "source": [
    "<h3>divmod(a,b)</h3>\n",
    "\n",
    "    Take two(non complex) numbers as arguments and return a pair of numbers consisting of their quotient and remainder when using integer division. With mixed operand types, the rules for binary arithmetic operators apply. For integers, the result is the same as (a//b, a%b). For floating point numbers the result is (q, a % b), where q is usually math.floor(a / b) but may be 1 less than that. In any case q * b + a % b is very close to a, if a % b is non-zero it has the same sign as b, and 0 <= abs(a % b) < abs(b)"
   ]
  },
  {
   "cell_type": "code",
   "execution_count": 36,
   "metadata": {},
   "outputs": [
    {
     "name": "stdout",
     "output_type": "stream",
     "text": [
      "(2, 0)\n",
      "(2.0, 0.20000000000000018)\n"
     ]
    }
   ],
   "source": [
    "print(divmod(4,2))\n",
    "print(divmod(4.2,2.0))"
   ]
  },
  {
   "cell_type": "markdown",
   "metadata": {},
   "source": [
    "<h3>enumerate(iterable,start = 0)</h3>\n",
    "\n",
    "    Return an enumerate object. iterable must be a sequence, as iterator, or some other object which supports iteration. The __next__() method of the iterator returned by enumerate() returns a tuple containing a count(from start which defauts to 0) and the values obtained from iterating over iterable."
   ]
  },
  {
   "cell_type": "code",
   "execution_count": 41,
   "metadata": {},
   "outputs": [
    {
     "name": "stdout",
     "output_type": "stream",
     "text": [
      "<enumerate object at 0x7f74f06e2640>\n",
      "[(0, 'Spring'), (1, 'Summer'), (2, 'Fall'), (3, 'Winter')]\n",
      "0 Spring\n",
      "1 Summer\n",
      "2 Fall\n",
      "3 Winter\n",
      "\n",
      "1 Spring\n",
      "2 Summer\n",
      "3 Fall\n",
      "4 Winter\n"
     ]
    }
   ],
   "source": [
    "seasons = ['Spring','Summer','Fall','Winter']\n",
    "print(enumerate(seasons))\n",
    "print(list(enumerate(seasons)))\n",
    "for i,n in enumerate(seasons):\n",
    "    print(i,n)\n",
    "    \n",
    "print()\n",
    "\n",
    "for i,n in enumerate(seasons,1):\n",
    "    print(i,n)"
   ]
  },
  {
   "cell_type": "code",
   "execution_count": null,
   "metadata": {},
   "outputs": [],
   "source": [
    "#enumerate is equivalent to:\n",
    "def enumerate(sequence,start = 0):\n",
    "    n = start\n",
    "    for elemen in sequence:\n",
    "        yield n,elem\n",
    "        n += 1"
   ]
  },
  {
   "cell_type": "markdown",
   "metadata": {},
   "source": [
    "<h3>eval(expression[,globals[,locals]])</h3>\n",
    "\n",
    "        The arguments are a string and optional globals and locals . If provided, globals must be a dictionary. If provided, locals can be any mapping object.\n",
    "    The expression argument is parsed and evaluated as a Python expression(technically speaking, a condition list) using the globals and locals dictionaries as global and local namespace.If the globals dictionary is present and does not contain a value for the key __builtins__, a reference to the dictionary of the built-in module builtins is inserted under that key before expression is parsed. This means that expression normally has full access to the standart builtin module and restricted environments are propagated. If the locals dictionary is omitted it defauts to the globals dictionary. If both dictionaries are omitted, the expression is executedd with the globals and locals in the environment where eval() is called. Note, eval() does not have access to the nested scopes(non-local) in the enclosing environment.\n",
    "    The return value is the result of the evaluated expression. Syntax errors are reported as exceptions.\n",
    "    Example:\n",
    "        x = 1\n",
    "        eval('x+1')\n",
    "        output: 2\n",
    "        \n",
    "        This function can also be used to execute arbitrary code objects(such as those created by compile()). In this case pass a code object instead of a string. If the code object has been compiled with 'exec' as the mode argument, eval()'s return value will be None.\n",
    "    \n",
    "        Hints:dynamic execution of statements is supported by the exec() function. The globals() and locals() functions returns the current global and local dictionary, respectively, which may be useful to pass around for use by eval() or exec()."
   ]
  },
  {
   "cell_type": "code",
   "execution_count": 1,
   "metadata": {},
   "outputs": [
    {
     "name": "stdout",
     "output_type": "stream",
     "text": [
      "2\n"
     ]
    }
   ],
   "source": [
    "x = 1\n",
    "print(eval('x + 1'))"
   ]
  },
  {
   "cell_type": "code",
   "execution_count": 4,
   "metadata": {},
   "outputs": [
    {
     "name": "stdout",
     "output_type": "stream",
     "text": [
      "Type a function: calculateArea(l)\n",
      "If length is  1 , Area =  1\n",
      "If length is  2 , Area =  4\n",
      "If length is  3 , Area =  9\n",
      "If length is  4 , Area =  16\n"
     ]
    }
   ],
   "source": [
    "# Perimeter of Square\n",
    "def calculatePerimeter(l):\n",
    "    return 4*l\n",
    "\n",
    "# Area of Square\n",
    "def calculateArea(l):\n",
    "    return l*l\n",
    "\n",
    "\n",
    "expression = input(\"Type a function: \")\n",
    "\n",
    "for l in range(1, 5):\n",
    "    if (expression == 'calculatePerimeter(l)'):\n",
    "        print(\"If length is \", l, \", Perimeter = \", eval(expression))\n",
    "    elif (expression == 'calculateArea(l)'):\n",
    "        print(\"If length is \", l, \", Area = \", eval(expression))\n",
    "    else:\n",
    "        print('Wrong Function')\n",
    "        break"
   ]
  },
  {
   "cell_type": "code",
   "execution_count": 6,
   "metadata": {},
   "outputs": [
    {
     "name": "stdout",
     "output_type": "stream",
     "text": [
      "['__builtins__', 'pow', 'sqrt']\n"
     ]
    }
   ],
   "source": [
    "#Making certains methods available\n",
    "from math import *\n",
    "print(eval('dir()', {'sqrt': sqrt, 'pow': pow}))"
   ]
  },
  {
   "cell_type": "code",
   "execution_count": 7,
   "metadata": {},
   "outputs": [
    {
     "name": "stdout",
     "output_type": "stream",
     "text": [
      "['In', 'Out', '_', '__', '___', '__builtin__', '__builtins__', '__doc__', '__loader__', '__name__', '__package__', '__spec__', '_dh', '_i', '_i1', '_i2', '_i3', '_i4', '_i5', '_i6', '_i7', '_ih', '_ii', '_iii', '_oh', 'acos', 'acosh', 'asin', 'asinh', 'atan', 'atan2', 'atanh', 'calculateArea', 'calculatePerimeter', 'ceil', 'comb', 'copysign', 'cos', 'cosh', 'degrees', 'dist', 'e', 'erf', 'erfc', 'exit', 'exp', 'expm1', 'expression', 'fabs', 'factorial', 'floor', 'fmod', 'frexp', 'fsum', 'gamma', 'gcd', 'get_ipython', 'hypot', 'inf', 'isclose', 'isfinite', 'isinf', 'isnan', 'isqrt', 'l', 'ldexp', 'lgamma', 'log', 'log10', 'log1p', 'log2', 'modf', 'nan', 'perm', 'pi', 'pow', 'prod', 'quit', 'radians', 'remainder', 'sin', 'sinh', 'sqrt', 'tan', 'tanh', 'tau', 'trunc', 'x']\n"
     ]
    }
   ],
   "source": [
    "from math import *\n",
    "print(eval('dir()'))"
   ]
  },
  {
   "cell_type": "code",
   "execution_count": 8,
   "metadata": {},
   "outputs": [
    {
     "name": "stdout",
     "output_type": "stream",
     "text": [
      "13.0\n"
     ]
    }
   ],
   "source": [
    "#Restricting the use of eval() by passing globals and locals dictionaries will make your code secure \n",
    "#particularly when you are using input provided by the user to the eval() method.\n",
    "from math import *\n",
    "\n",
    "a = 169\n",
    "print(eval('sqrt(a)', {'__builtins__': None}, {'a': a, 'sqrt': sqrt}))"
   ]
  },
  {
   "cell_type": "markdown",
   "metadata": {},
   "source": [
    "<h3>exec(object[,globals[,locals]])</h3>\n",
    "\n",
    "        This function supports dynamic execution of python code. object must be either a string or a code object. If it is a string, the string is parsed as a suite of Python statements which is then executed(unless a syntax error occurs).[1] If it is a code object, it is simply executed. In all cases, the code that's executed is expected to be valid as file input( see the section 'file input' in the Reference Manual). Be aware that the return and yield statements may not be used outside of function definitions even within the context of code passed to the exec() function.The return value is None.\n",
    "        In all cases, if the optional parts are omitted, the code is executed in the current scope. If only globals is provided, it must be a dictionary(and not a subclass of dictionary), which will be used for both the global and the local variables. If globals and locals are given, they are used for the global and local variables, respectively. If provided, locals can be any mapping object. Remember that at module level, globals and locals are the same dictionary. If exec gets two separate objects as globals and locals, the code will be executed as if it were embedded in a class definition.\n",
    "        If the global dictionary does not contain a value for the key __builtins__, a reference to the dictionary of the built-in module builtins is inserted under that key. That may you control what builtins are available to the executed code by inserting your own __builtins__ dicionary into globals before passing it to exec()."
   ]
  },
  {
   "cell_type": "code",
   "execution_count": 9,
   "metadata": {},
   "outputs": [
    {
     "name": "stdout",
     "output_type": "stream",
     "text": [
      "Sum = 15\n"
     ]
    }
   ],
   "source": [
    "program = 'a = 5\\nb=10\\nprint(\"Sum =\", a+b)'\n",
    "exec(program)"
   ]
  },
  {
   "cell_type": "code",
   "execution_count": 2,
   "metadata": {},
   "outputs": [
    {
     "name": "stdout",
     "output_type": "stream",
     "text": [
      "['dir', 'print']\n"
     ]
    }
   ],
   "source": [
    "from math import *\n",
    "\n",
    "globalsParameter = {'__builtins__' : None}\n",
    "localsParameter = {'print': print, 'dir': dir}\n",
    "exec('print(dir())', globalsParameter, localsParameter)"
   ]
  },
  {
   "cell_type": "markdown",
   "metadata": {},
   "source": [
    "<h3>filter(function,iterable)</h3>\n",
    "\n",
    "        Construct an iterator from those elements of iterable for which function returns true. iterable may be either a sequence, a container which supports iteration, or an iterator. If function is None, the identity function is assumed, that is, all elements of iterable that are false are removed.\n",
    "        Note that filter(function,iterable) is equivalent to the generator expression(item for item in iterable if function(item)) if function is not Nont and (item for item in iterable if item) if function is None.\n",
    "        See itertools.filterfalse() for the complementary function that returns elements of iterable for which function returns false."
   ]
  },
  {
   "cell_type": "code",
   "execution_count": 3,
   "metadata": {},
   "outputs": [
    {
     "name": "stdout",
     "output_type": "stream",
     "text": [
      "The filtered vowels are:\n",
      "a\n",
      "e\n",
      "i\n",
      "o\n"
     ]
    }
   ],
   "source": [
    "# list of letters\n",
    "letters = ['a', 'b', 'd', 'e', 'i', 'j', 'o']\n",
    "\n",
    "# function that filters vowels\n",
    "def filterVowels(letter):\n",
    "    vowels = ['a', 'e', 'i', 'o', 'u']\n",
    "\n",
    "    if(letter in vowels):\n",
    "        return True\n",
    "    else:\n",
    "        return False\n",
    "\n",
    "filteredVowels = filter(filterVowels, letters)\n",
    "\n",
    "print('The filtered vowels are:')\n",
    "for vowel in filteredVowels:\n",
    "    print(vowel)"
   ]
  },
  {
   "cell_type": "code",
   "execution_count": 4,
   "metadata": {},
   "outputs": [
    {
     "name": "stdout",
     "output_type": "stream",
     "text": [
      "The filtered elements are:\n",
      "1\n",
      "a\n",
      "True\n",
      "0\n"
     ]
    }
   ],
   "source": [
    "# random list\n",
    "randomList = [1, 'a', 0, False, True, '0']\n",
    "\n",
    "filteredList = filter(None, randomList)\n",
    "\n",
    "print('The filtered elements are:')\n",
    "for element in filteredList:\n",
    "    print(element)\n",
    "#When we loop through the final filteredList, we get the elements which are true: 1, a , True and '0'('0' as \n",
    "#a string is also true)"
   ]
  },
  {
   "cell_type": "markdown",
   "metadata": {},
   "source": [
    "<h3>class float([x])</h3>\n",
    "\n",
    "        Return a floating point number constructed from a number or string x.\n",
    "        If the argument is a string, it should contain a decimal number, optionally preceded by a sign, and optionally embedded in whitespace. The optional sign may be '+' or '-'; a sign has no effect on the value produced. The argument may also be a string representing a NaN(not-a-number). or a positive or negative infinity. More precisely, the input must conform to the following grammar after leading and trailing whitespace characters are removed:\n",
    "        \n",
    "        sign           ::= '+' | '-'\n",
    "        infinity       ::= 'Infinity' | 'inf'\n",
    "        nan            ::= 'nan'\n",
    "        numeric_value  ::= floatnumber | infinity | nan\n",
    "        numeric_string ::=[sign] numeric_value\n",
    "        \n",
    "        Here floatnumber is the form of a Python floating-point literal, described in Floating point literals. Case is not significant, so, for example. 'inf' , 'Inf, 'INFINITY' AND 'iNfINity' are all acceptable apellings for positive infinity.\n",
    "        Otherwise, if the argument is an integer or a floating point number, a floating point number with the same value(within Python's floating point precision) is returned. If the argument is outside the range of a Python float, an OverflowError will be raised.\n",
    "        For a general Python object x, float(x) delegates to x.__float__(). If __float__() is not defined then it falls back to __index__().\n",
    "        If no argument is given, 0.0 is returned.            \n",
    "      "
   ]
  },
  {
   "cell_type": "code",
   "execution_count": 4,
   "metadata": {},
   "outputs": [
    {
     "name": "stdout",
     "output_type": "stream",
     "text": [
      "1.23\n",
      "-12345.0\n",
      "0.001\n",
      "1000000.0\n",
      "-inf\n"
     ]
    }
   ],
   "source": [
    "print(float('+1.23'))\n",
    "print(float('      -12345\\n'))\n",
    "print(float('1e-003'))\n",
    "print(float('+1E6'))\n",
    "print(float('-Infinity'))"
   ]
  },
  {
   "cell_type": "markdown",
   "metadata": {},
   "source": [
    "<h3>format(value[,format_spec])</h3>\n",
    "\n",
    "        Convert a value to a 'formatted' representation, as controlled by format_spec. The interpretation of format_spec will depend on the type of the value argument, however there is a standart formatting syntax that is used by most built-in types: Format specification mini-language (https://docs.python.org/3/library/string.html#formatspec). \n",
    "        The defaut format_spec is an empty string which usually gives the same effect as calling str(value).\n",
    "        A call to format(value,format_spec) is translated to type(value).__format__(value,format_spec) which bypasses the instance dictionary when searching for the value's __format__() method. A TypeError exception is raised if the method search reaches object and the format_spec is non-empty, or if either the format_spec or the return value are not strings.\n",
    "        \n",
    "        Number formatting with allignment:\n",
    "        The operators <, ^, > and = are used for alignment when assigned a certain width to the numbers.\n",
    "        \n",
    "            <     -   left aligned to the remaining space\n",
    "            ^     -   center aligned to the remaining space\n",
    "            >     -   righ aligned to the remaining space\n",
    "            =     -   forces the signed (x)(-) to the leftmost position"
   ]
  },
  {
   "cell_type": "code",
   "execution_count": 10,
   "metadata": {},
   "outputs": [
    {
     "name": "stdout",
     "output_type": "stream",
     "text": [
      "Hello strange!\n",
      "Hello strange, good morning!\n",
      "Hello strange, Good morning!\n",
      "Hello strange, Good morning!\n"
     ]
    }
   ],
   "source": [
    "print('Hello {}!'.format('strange'))\n",
    "print('Hello {0}, {1}!'.format('strange', 'good morning'))\n",
    "print('Hello {name}, {greetings}!'.format(name = 'strange', greetings = 'Good morning'))\n",
    "print('Hello {0}, {greetings}!'.format('strange', greetings = 'Good morning'))"
   ]
  },
  {
   "cell_type": "code",
   "execution_count": 12,
   "metadata": {},
   "outputs": [
    {
     "name": "stdout",
     "output_type": "stream",
     "text": [
      "The number is 123\n",
      "The float number is : 123.456790\n",
      "bin: 1100, oct: 14, hex: c\n"
     ]
    }
   ],
   "source": [
    "#Simple number formatting\n",
    "print('The number is {:d}'.format(123))\n",
    "print('The float number is : {:f}'.format(123.4567898))\n",
    "print('bin: {0:b}, oct: {0:o}, hex: {0:x}'.format(12))"
   ]
  },
  {
   "cell_type": "code",
   "execution_count": 17,
   "metadata": {},
   "outputs": [
    {
     "name": "stdout",
     "output_type": "stream",
     "text": [
      "   12\n",
      "1234\n",
      "  12.235\n",
      "00012\n",
      "0012.235\n"
     ]
    }
   ],
   "source": [
    "#Number formatting with padding for int and floats\n",
    "\n",
    "print('{:5d}'.format(12)) #takes an integer argument and assigns a minimum width of 5. Since, no alignment \n",
    "                          #is specified, it is aligned to the right.   \n",
    "    \n",
    "print('{:2d}'.format(1234))#you can see the width (2) is less than the number (1234), so it doesn't take \n",
    "                           #any space to the left but also doesn't truncate the number.\n",
    "    \n",
    "print('{:8.3f}'.format(12.2346)) #{:8.3f} truncates the decimal part into 3 places rounding off the last 2\n",
    "                                 #digits. And, the number, now 12.235, takes a width of 8 as a whole leaving \n",
    "                                 #2 places to the left.\n",
    "        \n",
    "print('{:05d}'.format(12))    #{:05d}  fill the remaining places with zero\n",
    "print('{:08.3f}'.format(12.2346))"
   ]
  },
  {
   "cell_type": "code",
   "execution_count": 18,
   "metadata": {},
   "outputs": [
    {
     "name": "stdout",
     "output_type": "stream",
     "text": [
      "   12\n",
      "  12.235  \n",
      "12000\n",
      "- 12.235\n"
     ]
    }
   ],
   "source": [
    "# integer numbers with right alignment\n",
    "print(\"{:5d}\".format(12))\n",
    "\n",
    "# float numbers with center alignment\n",
    "print(\"{:^10.3f}\".format(12.2346))\n",
    "\n",
    "# integer left alignment filled with zeros\n",
    "print(\"{:<05d}\".format(12))\n",
    "\n",
    "# float numbers with center alignment\n",
    "print(\"{:=8.3f}\".format(-12.2346))"
   ]
  },
  {
   "cell_type": "code",
   "execution_count": 20,
   "metadata": {},
   "outputs": [
    {
     "name": "stdout",
     "output_type": "stream",
     "text": [
      "cat\n",
      "cat  \n",
      " cat \n"
     ]
    }
   ],
   "source": [
    "# truncating strings to 3 letters\n",
    "print(\"{:.3}\".format(\"caterpillar\"))\n",
    "\n",
    "# truncating strings to 3 letters\n",
    "# and padding\n",
    "print(\"{:5.3}\".format(\"caterpillar\"))\n",
    "\n",
    "# truncating strings to 3 letters,\n",
    "# padding and center alignment\n",
    "print(\"{:^5.3}\".format(\"caterpillar\"))"
   ]
  },
  {
   "cell_type": "code",
   "execution_count": 21,
   "metadata": {},
   "outputs": [
    {
     "name": "stdout",
     "output_type": "stream",
     "text": [
      "It's now: 2020/12/25 15:26:32\n"
     ]
    }
   ],
   "source": [
    "import datetime\n",
    "# datetime formatting\n",
    "date = datetime.datetime.now()\n",
    "print(\"It's now: {:%Y/%m/%d %H:%M:%S}\".format(date))"
   ]
  },
  {
   "cell_type": "markdown",
   "metadata": {},
   "source": [
    "<h3>class frozenset([iterable])</h3>\n",
    "\n",
    "        Return a new frozenset object, optionally with elements taken from iterable. frozenset is a built-in class. See frozenset and Set types - set, frozenset for documentation about this class."
   ]
  },
  {
   "cell_type": "code",
   "execution_count": 26,
   "metadata": {},
   "outputs": [
    {
     "name": "stdout",
     "output_type": "stream",
     "text": [
      "frozenset({1, 2, 3, 4, 5})\n",
      "frozenset()\n"
     ]
    },
    {
     "ename": "AttributeError",
     "evalue": "'frozenset' object has no attribute 'add'",
     "output_type": "error",
     "traceback": [
      "\u001b[0;31m---------------------------------------------------------------------------\u001b[0m",
      "\u001b[0;31mAttributeError\u001b[0m                            Traceback (most recent call last)",
      "\u001b[0;32m<ipython-input-26-ce930b8bfa38>\u001b[0m in \u001b[0;36m<module>\u001b[0;34m\u001b[0m\n\u001b[1;32m      4\u001b[0m \u001b[0mfset\u001b[0m \u001b[0;34m=\u001b[0m \u001b[0mfrozenset\u001b[0m\u001b[0;34m(\u001b[0m\u001b[0;34m[\u001b[0m\u001b[0;36m1\u001b[0m\u001b[0;34m,\u001b[0m\u001b[0;36m2\u001b[0m\u001b[0;34m,\u001b[0m\u001b[0;36m3\u001b[0m\u001b[0;34m,\u001b[0m\u001b[0;36m4\u001b[0m\u001b[0;34m,\u001b[0m\u001b[0;36m5\u001b[0m\u001b[0;34m]\u001b[0m\u001b[0;34m)\u001b[0m\u001b[0;34m\u001b[0m\u001b[0;34m\u001b[0m\u001b[0m\n\u001b[1;32m      5\u001b[0m \u001b[0;31m# frozensets are immutable\u001b[0m\u001b[0;34m\u001b[0m\u001b[0;34m\u001b[0m\u001b[0;34m\u001b[0m\u001b[0m\n\u001b[0;32m----> 6\u001b[0;31m \u001b[0mfset\u001b[0m\u001b[0;34m.\u001b[0m\u001b[0madd\u001b[0m\u001b[0;34m(\u001b[0m\u001b[0;34m'v'\u001b[0m\u001b[0;34m)\u001b[0m\u001b[0;34m\u001b[0m\u001b[0;34m\u001b[0m\u001b[0m\n\u001b[0m",
      "\u001b[0;31mAttributeError\u001b[0m: 'frozenset' object has no attribute 'add'"
     ]
    }
   ],
   "source": [
    "print(frozenset([1,2,3,4,5]))\n",
    "print(frozenset())\n",
    "\n",
    "fset = frozenset([1,2,3,4,5])\n",
    "# frozensets are immutable\n",
    "fset.add('v')"
   ]
  },
  {
   "cell_type": "code",
   "execution_count": 28,
   "metadata": {},
   "outputs": [
    {
     "name": "stdout",
     "output_type": "stream",
     "text": [
      "frozenset({'sex', 'age', 'name'})\n"
     ]
    }
   ],
   "source": [
    "#When you use a dictionary as an iterable for a frozen set, it only takes keys of the dictionary to create \n",
    "#the set.\n",
    "print(frozenset({'name':'John','age':23,'sex':'male'}))"
   ]
  },
  {
   "cell_type": "code",
   "execution_count": 29,
   "metadata": {},
   "outputs": [
    {
     "name": "stdout",
     "output_type": "stream",
     "text": [
      "frozenset({1, 2, 3, 4})\n",
      "frozenset({1, 2, 3, 4, 5, 6})\n",
      "frozenset({3, 4})\n",
      "frozenset({1, 2})\n",
      "frozenset({1, 2, 5, 6})\n"
     ]
    }
   ],
   "source": [
    "# Frozensets\n",
    "#Like normal sets, frozenset can also perform different operations like copy, difference, intersection, \n",
    "#symmetric_difference, and union.\n",
    "# initialize A and B\n",
    "A = frozenset([1, 2, 3, 4])\n",
    "B = frozenset([3, 4, 5, 6])\n",
    "\n",
    "# copying a frozenset\n",
    "C = A.copy()  # Output: frozenset({1, 2, 3, 4})\n",
    "print(C)\n",
    "\n",
    "# union\n",
    "print(A.union(B))  # Output: frozenset({1, 2, 3, 4, 5, 6})\n",
    "\n",
    "# intersection\n",
    "print(A.intersection(B))  # Output: frozenset({3, 4})\n",
    "\n",
    "# difference\n",
    "print(A.difference(B))  # Output: frozenset({1, 2})\n",
    "\n",
    "# symmetric_difference\n",
    "print(A.symmetric_difference(B))  # Output: frozenset({1, 2, 5, 6})"
   ]
  },
  {
   "cell_type": "markdown",
   "metadata": {},
   "source": [
    "<h3>getattr(object,name[,defaut])</h3>\n",
    "\n",
    "        Return the value of the named attribute of object. name must be a string. If the string is the name of one of the object's attributes, the result is the value of that attribute. For example, getattr(x,'foobar') is equivalent to x.foobar. If the named attribute does not exist, defaut is returned if provided, otherwise AttributeError is raised."
   ]
  },
  {
   "cell_type": "code",
   "execution_count": 34,
   "metadata": {},
   "outputs": [
    {
     "name": "stdout",
     "output_type": "stream",
     "text": [
      "23\n",
      "23\n",
      "Male\n"
     ]
    },
    {
     "ename": "AttributeError",
     "evalue": "'Person' object has no attribute 'sex'",
     "output_type": "error",
     "traceback": [
      "\u001b[0;31m---------------------------------------------------------------------------\u001b[0m",
      "\u001b[0;31mAttributeError\u001b[0m                            Traceback (most recent call last)",
      "\u001b[0;32m<ipython-input-34-ab06acfa41ad>\u001b[0m in \u001b[0;36m<module>\u001b[0;34m\u001b[0m\n\u001b[1;32m      8\u001b[0m \u001b[0mprint\u001b[0m\u001b[0;34m(\u001b[0m\u001b[0mperson\u001b[0m\u001b[0;34m.\u001b[0m\u001b[0mage\u001b[0m\u001b[0;34m)\u001b[0m\u001b[0;34m\u001b[0m\u001b[0;34m\u001b[0m\u001b[0m\n\u001b[1;32m      9\u001b[0m \u001b[0mprint\u001b[0m\u001b[0;34m(\u001b[0m\u001b[0mgetattr\u001b[0m\u001b[0;34m(\u001b[0m\u001b[0mperson\u001b[0m\u001b[0;34m,\u001b[0m\u001b[0;34m'sex'\u001b[0m\u001b[0;34m,\u001b[0m\u001b[0;34m'Male'\u001b[0m\u001b[0;34m)\u001b[0m\u001b[0;34m)\u001b[0m   \u001b[0;31m# default value is provided\u001b[0m\u001b[0;34m\u001b[0m\u001b[0;34m\u001b[0m\u001b[0m\n\u001b[0;32m---> 10\u001b[0;31m \u001b[0mprint\u001b[0m\u001b[0;34m(\u001b[0m\u001b[0mgetattr\u001b[0m\u001b[0;34m(\u001b[0m\u001b[0mperson\u001b[0m\u001b[0;34m,\u001b[0m\u001b[0;34m'sex'\u001b[0m\u001b[0;34m)\u001b[0m\u001b[0;34m)\u001b[0m\u001b[0;34m\u001b[0m\u001b[0;34m\u001b[0m\u001b[0m\n\u001b[0m",
      "\u001b[0;31mAttributeError\u001b[0m: 'Person' object has no attribute 'sex'"
     ]
    }
   ],
   "source": [
    "class Person:\n",
    "    age = 23\n",
    "    name = 'Adam'\n",
    "    \n",
    "person = Person()\n",
    "\n",
    "print(getattr(person,'age'))\n",
    "print(person.age)\n",
    "print(getattr(person,'sex','Male'))   # default value is provided\n",
    "print(getattr(person,'sex'))"
   ]
  },
  {
   "cell_type": "markdown",
   "metadata": {},
   "source": [
    "<h3>globals()</h3>\n",
    "\n",
    "        Return a dictionary representing the current global symbol table. This is always the dictionary of the current module(inside a function or method, this is the module where it is defined, not the module from which it is called)."
   ]
  },
  {
   "cell_type": "code",
   "execution_count": 4,
   "metadata": {},
   "outputs": [
    {
     "data": {
      "text/plain": [
       "23"
      ]
     },
     "execution_count": 4,
     "metadata": {},
     "output_type": "execute_result"
    }
   ],
   "source": [
    "age = 23\n",
    "globals()['age']"
   ]
  },
  {
   "cell_type": "code",
   "execution_count": 3,
   "metadata": {},
   "outputs": [
    {
     "data": {
      "text/plain": [
       "{'__name__': '__main__',\n",
       " '__doc__': 'Automatically created module for IPython interactive environment',\n",
       " '__package__': None,\n",
       " '__loader__': None,\n",
       " '__spec__': None,\n",
       " '__builtin__': <module 'builtins' (built-in)>,\n",
       " '__builtins__': <module 'builtins' (built-in)>,\n",
       " '_ih': ['', 'globals()', 'import os\\nglobals()', 'globals()'],\n",
       " '_oh': {1: {...}, 2: {...}},\n",
       " '_dh': ['/mnt/DeV/estudos/jupyter_notebook'],\n",
       " 'In': ['', 'globals()', 'import os\\nglobals()', 'globals()'],\n",
       " 'Out': {1: {...}, 2: {...}},\n",
       " 'get_ipython': <bound method InteractiveShell.get_ipython of <ipykernel.zmqshell.ZMQInteractiveShell object at 0x7f2a04127b20>>,\n",
       " 'exit': <IPython.core.autocall.ZMQExitAutocall at 0x7f2a040e7ac0>,\n",
       " 'quit': <IPython.core.autocall.ZMQExitAutocall at 0x7f2a040e7ac0>,\n",
       " '_': {...},\n",
       " '__': {...},\n",
       " '___': '',\n",
       " '_i': 'import os\\nglobals()',\n",
       " '_ii': 'globals()',\n",
       " '_iii': '',\n",
       " '_i1': 'globals()',\n",
       " '_1': {...},\n",
       " '_i2': 'import os\\nglobals()',\n",
       " 'os': <module 'os' from '/usr/lib/python3.8/os.py'>,\n",
       " '_2': {...},\n",
       " '_i3': 'globals()'}"
      ]
     },
     "execution_count": 3,
     "metadata": {},
     "output_type": "execute_result"
    }
   ],
   "source": [
    "globals()"
   ]
  },
  {
   "cell_type": "markdown",
   "metadata": {},
   "source": [
    "<h3>hasatt(object,name)</h3>\n",
    "\n",
    "        The arguments are an object and a string. The result is True if the string is the name of one of the object's attributes, False if not. (This is implemented by calling getattr(object, name) and seeing wherher it raises an AttributeError or not)"
   ]
  },
  {
   "cell_type": "code",
   "execution_count": 6,
   "metadata": {},
   "outputs": [
    {
     "name": "stdout",
     "output_type": "stream",
     "text": [
      "True\n",
      "False\n"
     ]
    }
   ],
   "source": [
    "class Person:\n",
    "    age = 23\n",
    "    name = 'Adam'\n",
    "    \n",
    "person = Person()\n",
    "\n",
    "print(hasattr(person,'age'))\n",
    "print(hasattr(person,'salary'))"
   ]
  },
  {
   "cell_type": "markdown",
   "metadata": {},
   "source": [
    "<h3>hash(object)</h3>\n",
    "\n",
    "        Return the hash value of the object(if it has one). Hash values are integers. They are used to quickly compare dictionary keys during a dictionary lookup. Numeric values that compare equal have the same hash value(even if they are of different types, as is the case for 1 and 1.0)\n",
    "        \n",
    "        Note: For objects with custom __hash__() methods, note that hash() truncates the return value based on the bit width of the host machines. See __hash__() for details."
   ]
  },
  {
   "cell_type": "code",
   "execution_count": 8,
   "metadata": {},
   "outputs": [
    {
     "name": "stdout",
     "output_type": "stream",
     "text": [
      "191\n",
      "2282784579121578165\n",
      "7932035169250502255\n"
     ]
    }
   ],
   "source": [
    "print(hash(191))\n",
    "print(hash(181.99))\n",
    "print(hash('python'))"
   ]
  },
  {
   "cell_type": "code",
   "execution_count": 9,
   "metadata": {},
   "outputs": [
    {
     "name": "stdout",
     "output_type": "stream",
     "text": [
      "-5659871693760987716\n"
     ]
    }
   ],
   "source": [
    "#Hash() method only works for immutable objects as tuple\n",
    "print(hash((1,2,3,4,5)))"
   ]
  },
  {
   "cell_type": "code",
   "execution_count": 10,
   "metadata": {},
   "outputs": [
    {
     "name": "stdout",
     "output_type": "stream",
     "text": [
      "The hash is:\n",
      "5377977745476858869\n"
     ]
    }
   ],
   "source": [
    "#hash() for custom objects by overriding __hash__()\n",
    "class Person:\n",
    "    def __init__(self, age, name):\n",
    "        self.age = age\n",
    "        self.name = name\n",
    "\n",
    "    def __eq__(self, other):\n",
    "        return self.age == other.age and self.name == other.name\n",
    "\n",
    "    def __hash__(self):\n",
    "        print('The hash is:')\n",
    "        return hash((self.age, self.name))\n",
    "\n",
    "person = Person(23, 'Adam')\n",
    "print(hash(person))"
   ]
  },
  {
   "cell_type": "markdown",
   "metadata": {},
   "source": [
    "<h3>help([object])</h3>\n",
    "\n",
    "        Invoke the built-in help system. (This function is intended for interactive use.) If no argument is given, the interactive help system starts on the interpreter console.If the argument is a string, then the string is looked up as the name of a module, function, class, method, keyword, or documentation topic, and a hel page is printed on the console.If the argument is any other kind of object, a help page on the object is generated.\n",
    "        Note that if a slash(/) appears in the parameter list of a function, when invoking help(), it means that the parameters prior to the slash are positional-only. For more info, see the FAQ entry on positional-only parameters.\n",
    "        "
   ]
  },
  {
   "cell_type": "code",
   "execution_count": 1,
   "metadata": {},
   "outputs": [
    {
     "name": "stdout",
     "output_type": "stream",
     "text": [
      "Help on built-in function print in module builtins:\n",
      "\n",
      "print(...)\n",
      "    print(value, ..., sep=' ', end='\\n', file=sys.stdout, flush=False)\n",
      "    \n",
      "    Prints the values to a stream, or to sys.stdout by default.\n",
      "    Optional keyword arguments:\n",
      "    file:  a file-like object (stream); defaults to the current sys.stdout.\n",
      "    sep:   string inserted between values, default a space.\n",
      "    end:   string appended after the last value, default a newline.\n",
      "    flush: whether to forcibly flush the stream.\n",
      "\n"
     ]
    }
   ],
   "source": [
    "help(print)"
   ]
  },
  {
   "cell_type": "code",
   "execution_count": 2,
   "metadata": {},
   "outputs": [
    {
     "name": "stdout",
     "output_type": "stream",
     "text": [
      "Help on module os:\n",
      "\n",
      "NAME\n",
      "    os - OS routines for NT or Posix depending on what system we're on.\n",
      "\n",
      "MODULE REFERENCE\n",
      "    https://docs.python.org/3.8/library/os\n",
      "    \n",
      "    The following documentation is automatically generated from the Python\n",
      "    source files.  It may be incomplete, incorrect or include features that\n",
      "    are considered implementation detail and may vary between Python\n",
      "    implementations.  When in doubt, consult the module reference at the\n",
      "    location listed above.\n",
      "\n",
      "DESCRIPTION\n",
      "    This exports:\n",
      "      - all functions from posix or nt, e.g. unlink, stat, etc.\n",
      "      - os.path is either posixpath or ntpath\n",
      "      - os.name is either 'posix' or 'nt'\n",
      "      - os.curdir is a string representing the current directory (always '.')\n",
      "      - os.pardir is a string representing the parent directory (always '..')\n",
      "      - os.sep is the (or a most common) pathname separator ('/' or '\\\\')\n",
      "      - os.extsep is the extension separator (always '.')\n",
      "      - os.altsep is the alternate pathname separator (None or '/')\n",
      "      - os.pathsep is the component separator used in $PATH etc\n",
      "      - os.linesep is the line separator in text files ('\\r' or '\\n' or '\\r\\n')\n",
      "      - os.defpath is the default search path for executables\n",
      "      - os.devnull is the file path of the null device ('/dev/null', etc.)\n",
      "    \n",
      "    Programs that import and use 'os' stand a better chance of being\n",
      "    portable between different platforms.  Of course, they must then\n",
      "    only use functions that are defined by all platforms (e.g., unlink\n",
      "    and opendir), and leave all pathname manipulation to os.path\n",
      "    (e.g., split and join).\n",
      "\n",
      "CLASSES\n",
      "    builtins.Exception(builtins.BaseException)\n",
      "        builtins.OSError\n",
      "    builtins.object\n",
      "        posix.DirEntry\n",
      "    builtins.tuple(builtins.object)\n",
      "        stat_result\n",
      "        statvfs_result\n",
      "        terminal_size\n",
      "        posix.sched_param\n",
      "        posix.times_result\n",
      "        posix.uname_result\n",
      "        posix.waitid_result\n",
      "    \n",
      "    class DirEntry(builtins.object)\n",
      "     |  Methods defined here:\n",
      "     |  \n",
      "     |  __fspath__(self, /)\n",
      "     |      Returns the path for the entry.\n",
      "     |  \n",
      "     |  __repr__(self, /)\n",
      "     |      Return repr(self).\n",
      "     |  \n",
      "     |  inode(self, /)\n",
      "     |      Return inode of the entry; cached per entry.\n",
      "     |  \n",
      "     |  is_dir(self, /, *, follow_symlinks=True)\n",
      "     |      Return True if the entry is a directory; cached per entry.\n",
      "     |  \n",
      "     |  is_file(self, /, *, follow_symlinks=True)\n",
      "     |      Return True if the entry is a file; cached per entry.\n",
      "     |  \n",
      "     |  is_symlink(self, /)\n",
      "     |      Return True if the entry is a symbolic link; cached per entry.\n",
      "     |  \n",
      "     |  stat(self, /, *, follow_symlinks=True)\n",
      "     |      Return stat_result object for the entry; cached per entry.\n",
      "     |  \n",
      "     |  ----------------------------------------------------------------------\n",
      "     |  Data descriptors defined here:\n",
      "     |  \n",
      "     |  name\n",
      "     |      the entry's base filename, relative to scandir() \"path\" argument\n",
      "     |  \n",
      "     |  path\n",
      "     |      the entry's full path name; equivalent to os.path.join(scandir_path, entry.name)\n",
      "    \n",
      "    error = class OSError(Exception)\n",
      "     |  Base class for I/O related errors.\n",
      "     |  \n",
      "     |  Method resolution order:\n",
      "     |      OSError\n",
      "     |      Exception\n",
      "     |      BaseException\n",
      "     |      object\n",
      "     |  \n",
      "     |  Built-in subclasses:\n",
      "     |      BlockingIOError\n",
      "     |      ChildProcessError\n",
      "     |      ConnectionError\n",
      "     |      FileExistsError\n",
      "     |      ... and 7 other subclasses\n",
      "     |  \n",
      "     |  Methods defined here:\n",
      "     |  \n",
      "     |  __init__(self, /, *args, **kwargs)\n",
      "     |      Initialize self.  See help(type(self)) for accurate signature.\n",
      "     |  \n",
      "     |  __reduce__(...)\n",
      "     |      Helper for pickle.\n",
      "     |  \n",
      "     |  __str__(self, /)\n",
      "     |      Return str(self).\n",
      "     |  \n",
      "     |  ----------------------------------------------------------------------\n",
      "     |  Static methods defined here:\n",
      "     |  \n",
      "     |  __new__(*args, **kwargs) from builtins.type\n",
      "     |      Create and return a new object.  See help(type) for accurate signature.\n",
      "     |  \n",
      "     |  ----------------------------------------------------------------------\n",
      "     |  Data descriptors defined here:\n",
      "     |  \n",
      "     |  characters_written\n",
      "     |  \n",
      "     |  errno\n",
      "     |      POSIX exception code\n",
      "     |  \n",
      "     |  filename\n",
      "     |      exception filename\n",
      "     |  \n",
      "     |  filename2\n",
      "     |      second exception filename\n",
      "     |  \n",
      "     |  strerror\n",
      "     |      exception strerror\n",
      "     |  \n",
      "     |  ----------------------------------------------------------------------\n",
      "     |  Methods inherited from BaseException:\n",
      "     |  \n",
      "     |  __delattr__(self, name, /)\n",
      "     |      Implement delattr(self, name).\n",
      "     |  \n",
      "     |  __getattribute__(self, name, /)\n",
      "     |      Return getattr(self, name).\n",
      "     |  \n",
      "     |  __repr__(self, /)\n",
      "     |      Return repr(self).\n",
      "     |  \n",
      "     |  __setattr__(self, name, value, /)\n",
      "     |      Implement setattr(self, name, value).\n",
      "     |  \n",
      "     |  __setstate__(...)\n",
      "     |  \n",
      "     |  with_traceback(...)\n",
      "     |      Exception.with_traceback(tb) --\n",
      "     |      set self.__traceback__ to tb and return self.\n",
      "     |  \n",
      "     |  ----------------------------------------------------------------------\n",
      "     |  Data descriptors inherited from BaseException:\n",
      "     |  \n",
      "     |  __cause__\n",
      "     |      exception cause\n",
      "     |  \n",
      "     |  __context__\n",
      "     |      exception context\n",
      "     |  \n",
      "     |  __dict__\n",
      "     |  \n",
      "     |  __suppress_context__\n",
      "     |  \n",
      "     |  __traceback__\n",
      "     |  \n",
      "     |  args\n",
      "    \n",
      "    class sched_param(builtins.tuple)\n",
      "     |  sched_param(iterable=(), /)\n",
      "     |  \n",
      "     |  Current has only one field: sched_priority\");\n",
      "     |  \n",
      "     |  sched_priority\n",
      "     |    A scheduling parameter.\n",
      "     |  \n",
      "     |  Method resolution order:\n",
      "     |      sched_param\n",
      "     |      builtins.tuple\n",
      "     |      builtins.object\n",
      "     |  \n",
      "     |  Methods defined here:\n",
      "     |  \n",
      "     |  __reduce__(...)\n",
      "     |      Helper for pickle.\n",
      "     |  \n",
      "     |  __repr__(self, /)\n",
      "     |      Return repr(self).\n",
      "     |  \n",
      "     |  ----------------------------------------------------------------------\n",
      "     |  Static methods defined here:\n",
      "     |  \n",
      "     |  __new__(*args, **kwargs) from builtins.type\n",
      "     |      Create and return a new object.  See help(type) for accurate signature.\n",
      "     |  \n",
      "     |  ----------------------------------------------------------------------\n",
      "     |  Data descriptors defined here:\n",
      "     |  \n",
      "     |  sched_priority\n",
      "     |      the scheduling priority\n",
      "     |  \n",
      "     |  ----------------------------------------------------------------------\n",
      "     |  Data and other attributes defined here:\n",
      "     |  \n",
      "     |  n_fields = 1\n",
      "     |  \n",
      "     |  n_sequence_fields = 1\n",
      "     |  \n",
      "     |  n_unnamed_fields = 0\n",
      "     |  \n",
      "     |  ----------------------------------------------------------------------\n",
      "     |  Methods inherited from builtins.tuple:\n",
      "     |  \n",
      "     |  __add__(self, value, /)\n",
      "     |      Return self+value.\n",
      "     |  \n",
      "     |  __contains__(self, key, /)\n",
      "     |      Return key in self.\n",
      "     |  \n",
      "     |  __eq__(self, value, /)\n",
      "     |      Return self==value.\n",
      "     |  \n",
      "     |  __ge__(self, value, /)\n",
      "     |      Return self>=value.\n",
      "     |  \n",
      "     |  __getattribute__(self, name, /)\n",
      "     |      Return getattr(self, name).\n",
      "     |  \n",
      "     |  __getitem__(self, key, /)\n",
      "     |      Return self[key].\n",
      "     |  \n",
      "     |  __getnewargs__(self, /)\n",
      "     |  \n",
      "     |  __gt__(self, value, /)\n",
      "     |      Return self>value.\n",
      "     |  \n",
      "     |  __hash__(self, /)\n",
      "     |      Return hash(self).\n",
      "     |  \n",
      "     |  __iter__(self, /)\n",
      "     |      Implement iter(self).\n",
      "     |  \n",
      "     |  __le__(self, value, /)\n",
      "     |      Return self<=value.\n",
      "     |  \n",
      "     |  __len__(self, /)\n",
      "     |      Return len(self).\n",
      "     |  \n",
      "     |  __lt__(self, value, /)\n",
      "     |      Return self<value.\n",
      "     |  \n",
      "     |  __mul__(self, value, /)\n",
      "     |      Return self*value.\n",
      "     |  \n",
      "     |  __ne__(self, value, /)\n",
      "     |      Return self!=value.\n",
      "     |  \n",
      "     |  __rmul__(self, value, /)\n",
      "     |      Return value*self.\n",
      "     |  \n",
      "     |  count(self, value, /)\n",
      "     |      Return number of occurrences of value.\n",
      "     |  \n",
      "     |  index(self, value, start=0, stop=9223372036854775807, /)\n",
      "     |      Return first index of value.\n",
      "     |      \n",
      "     |      Raises ValueError if the value is not present.\n",
      "    \n",
      "    class stat_result(builtins.tuple)\n",
      "     |  stat_result(iterable=(), /)\n",
      "     |  \n",
      "     |  stat_result: Result from stat, fstat, or lstat.\n",
      "     |  \n",
      "     |  This object may be accessed either as a tuple of\n",
      "     |    (mode, ino, dev, nlink, uid, gid, size, atime, mtime, ctime)\n",
      "     |  or via the attributes st_mode, st_ino, st_dev, st_nlink, st_uid, and so on.\n",
      "     |  \n",
      "     |  Posix/windows: If your platform supports st_blksize, st_blocks, st_rdev,\n",
      "     |  or st_flags, they are available as attributes only.\n",
      "     |  \n",
      "     |  See os.stat for more information.\n",
      "     |  \n",
      "     |  Method resolution order:\n",
      "     |      stat_result\n",
      "     |      builtins.tuple\n",
      "     |      builtins.object\n",
      "     |  \n",
      "     |  Methods defined here:\n",
      "     |  \n",
      "     |  __reduce__(...)\n",
      "     |      Helper for pickle.\n",
      "     |  \n",
      "     |  __repr__(self, /)\n",
      "     |      Return repr(self).\n",
      "     |  \n",
      "     |  ----------------------------------------------------------------------\n",
      "     |  Static methods defined here:\n",
      "     |  \n",
      "     |  __new__(*args, **kwargs) from builtins.type\n",
      "     |      Create and return a new object.  See help(type) for accurate signature.\n",
      "     |  \n",
      "     |  ----------------------------------------------------------------------\n",
      "     |  Data descriptors defined here:\n",
      "     |  \n",
      "     |  st_atime\n",
      "     |      time of last access\n",
      "     |  \n",
      "     |  st_atime_ns\n",
      "     |      time of last access in nanoseconds\n",
      "     |  \n",
      "     |  st_blksize\n",
      "     |      blocksize for filesystem I/O\n",
      "     |  \n",
      "     |  st_blocks\n",
      "     |      number of blocks allocated\n",
      "     |  \n",
      "     |  st_ctime\n",
      "     |      time of last change\n",
      "     |  \n",
      "     |  st_ctime_ns\n",
      "     |      time of last change in nanoseconds\n",
      "     |  \n",
      "     |  st_dev\n",
      "     |      device\n",
      "     |  \n",
      "     |  st_gid\n",
      "     |      group ID of owner\n",
      "     |  \n",
      "     |  st_ino\n",
      "     |      inode\n",
      "     |  \n",
      "     |  st_mode\n",
      "     |      protection bits\n",
      "     |  \n",
      "     |  st_mtime\n",
      "     |      time of last modification\n",
      "     |  \n",
      "     |  st_mtime_ns\n",
      "     |      time of last modification in nanoseconds\n",
      "     |  \n",
      "     |  st_nlink\n",
      "     |      number of hard links\n",
      "     |  \n",
      "     |  st_rdev\n",
      "     |      device type (if inode device)\n",
      "     |  \n",
      "     |  st_size\n",
      "     |      total size, in bytes\n",
      "     |  \n",
      "     |  st_uid\n",
      "     |      user ID of owner\n",
      "     |  \n",
      "     |  ----------------------------------------------------------------------\n",
      "     |  Data and other attributes defined here:\n",
      "     |  \n",
      "     |  n_fields = 19\n",
      "     |  \n",
      "     |  n_sequence_fields = 10\n",
      "     |  \n",
      "     |  n_unnamed_fields = 3\n",
      "     |  \n",
      "     |  ----------------------------------------------------------------------\n",
      "     |  Methods inherited from builtins.tuple:\n",
      "     |  \n",
      "     |  __add__(self, value, /)\n",
      "     |      Return self+value.\n",
      "     |  \n",
      "     |  __contains__(self, key, /)\n",
      "     |      Return key in self.\n",
      "     |  \n",
      "     |  __eq__(self, value, /)\n",
      "     |      Return self==value.\n",
      "     |  \n",
      "     |  __ge__(self, value, /)\n",
      "     |      Return self>=value.\n",
      "     |  \n",
      "     |  __getattribute__(self, name, /)\n",
      "     |      Return getattr(self, name).\n",
      "     |  \n",
      "     |  __getitem__(self, key, /)\n",
      "     |      Return self[key].\n",
      "     |  \n",
      "     |  __getnewargs__(self, /)\n",
      "     |  \n",
      "     |  __gt__(self, value, /)\n",
      "     |      Return self>value.\n",
      "     |  \n",
      "     |  __hash__(self, /)\n",
      "     |      Return hash(self).\n",
      "     |  \n",
      "     |  __iter__(self, /)\n",
      "     |      Implement iter(self).\n",
      "     |  \n",
      "     |  __le__(self, value, /)\n",
      "     |      Return self<=value.\n",
      "     |  \n",
      "     |  __len__(self, /)\n",
      "     |      Return len(self).\n",
      "     |  \n",
      "     |  __lt__(self, value, /)\n",
      "     |      Return self<value.\n",
      "     |  \n",
      "     |  __mul__(self, value, /)\n",
      "     |      Return self*value.\n",
      "     |  \n",
      "     |  __ne__(self, value, /)\n",
      "     |      Return self!=value.\n",
      "     |  \n",
      "     |  __rmul__(self, value, /)\n",
      "     |      Return value*self.\n",
      "     |  \n",
      "     |  count(self, value, /)\n",
      "     |      Return number of occurrences of value.\n",
      "     |  \n",
      "     |  index(self, value, start=0, stop=9223372036854775807, /)\n",
      "     |      Return first index of value.\n",
      "     |      \n",
      "     |      Raises ValueError if the value is not present.\n",
      "    \n",
      "    class statvfs_result(builtins.tuple)\n",
      "     |  statvfs_result(iterable=(), /)\n",
      "     |  \n",
      "     |  statvfs_result: Result from statvfs or fstatvfs.\n",
      "     |  \n",
      "     |  This object may be accessed either as a tuple of\n",
      "     |    (bsize, frsize, blocks, bfree, bavail, files, ffree, favail, flag, namemax),\n",
      "     |  or via the attributes f_bsize, f_frsize, f_blocks, f_bfree, and so on.\n",
      "     |  \n",
      "     |  See os.statvfs for more information.\n",
      "     |  \n",
      "     |  Method resolution order:\n",
      "     |      statvfs_result\n",
      "     |      builtins.tuple\n",
      "     |      builtins.object\n",
      "     |  \n",
      "     |  Methods defined here:\n",
      "     |  \n",
      "     |  __reduce__(...)\n",
      "     |      Helper for pickle.\n",
      "     |  \n",
      "     |  __repr__(self, /)\n",
      "     |      Return repr(self).\n",
      "     |  \n",
      "     |  ----------------------------------------------------------------------\n",
      "     |  Static methods defined here:\n",
      "     |  \n",
      "     |  __new__(*args, **kwargs) from builtins.type\n",
      "     |      Create and return a new object.  See help(type) for accurate signature.\n",
      "     |  \n",
      "     |  ----------------------------------------------------------------------\n",
      "     |  Data descriptors defined here:\n",
      "     |  \n",
      "     |  f_bavail\n",
      "     |  \n",
      "     |  f_bfree\n",
      "     |  \n",
      "     |  f_blocks\n",
      "     |  \n",
      "     |  f_bsize\n",
      "     |  \n",
      "     |  f_favail\n",
      "     |  \n",
      "     |  f_ffree\n",
      "     |  \n",
      "     |  f_files\n",
      "     |  \n",
      "     |  f_flag\n",
      "     |  \n",
      "     |  f_frsize\n",
      "     |  \n",
      "     |  f_fsid\n",
      "     |  \n",
      "     |  f_namemax\n",
      "     |  \n",
      "     |  ----------------------------------------------------------------------\n",
      "     |  Data and other attributes defined here:\n",
      "     |  \n",
      "     |  n_fields = 11\n",
      "     |  \n",
      "     |  n_sequence_fields = 10\n",
      "     |  \n",
      "     |  n_unnamed_fields = 0\n",
      "     |  \n",
      "     |  ----------------------------------------------------------------------\n",
      "     |  Methods inherited from builtins.tuple:\n",
      "     |  \n",
      "     |  __add__(self, value, /)\n",
      "     |      Return self+value.\n",
      "     |  \n",
      "     |  __contains__(self, key, /)\n",
      "     |      Return key in self.\n",
      "     |  \n",
      "     |  __eq__(self, value, /)\n",
      "     |      Return self==value.\n",
      "     |  \n",
      "     |  __ge__(self, value, /)\n",
      "     |      Return self>=value.\n",
      "     |  \n",
      "     |  __getattribute__(self, name, /)\n",
      "     |      Return getattr(self, name).\n",
      "     |  \n",
      "     |  __getitem__(self, key, /)\n",
      "     |      Return self[key].\n",
      "     |  \n",
      "     |  __getnewargs__(self, /)\n",
      "     |  \n",
      "     |  __gt__(self, value, /)\n",
      "     |      Return self>value.\n",
      "     |  \n",
      "     |  __hash__(self, /)\n",
      "     |      Return hash(self).\n",
      "     |  \n",
      "     |  __iter__(self, /)\n",
      "     |      Implement iter(self).\n",
      "     |  \n",
      "     |  __le__(self, value, /)\n",
      "     |      Return self<=value.\n",
      "     |  \n",
      "     |  __len__(self, /)\n",
      "     |      Return len(self).\n",
      "     |  \n",
      "     |  __lt__(self, value, /)\n",
      "     |      Return self<value.\n",
      "     |  \n",
      "     |  __mul__(self, value, /)\n",
      "     |      Return self*value.\n",
      "     |  \n",
      "     |  __ne__(self, value, /)\n",
      "     |      Return self!=value.\n",
      "     |  \n",
      "     |  __rmul__(self, value, /)\n",
      "     |      Return value*self.\n",
      "     |  \n",
      "     |  count(self, value, /)\n",
      "     |      Return number of occurrences of value.\n",
      "     |  \n",
      "     |  index(self, value, start=0, stop=9223372036854775807, /)\n",
      "     |      Return first index of value.\n",
      "     |      \n",
      "     |      Raises ValueError if the value is not present.\n",
      "    \n",
      "    class terminal_size(builtins.tuple)\n",
      "     |  terminal_size(iterable=(), /)\n",
      "     |  \n",
      "     |  A tuple of (columns, lines) for holding terminal window size\n",
      "     |  \n",
      "     |  Method resolution order:\n",
      "     |      terminal_size\n",
      "     |      builtins.tuple\n",
      "     |      builtins.object\n",
      "     |  \n",
      "     |  Methods defined here:\n",
      "     |  \n",
      "     |  __reduce__(...)\n",
      "     |      Helper for pickle.\n",
      "     |  \n",
      "     |  __repr__(self, /)\n",
      "     |      Return repr(self).\n",
      "     |  \n",
      "     |  ----------------------------------------------------------------------\n",
      "     |  Static methods defined here:\n",
      "     |  \n",
      "     |  __new__(*args, **kwargs) from builtins.type\n",
      "     |      Create and return a new object.  See help(type) for accurate signature.\n",
      "     |  \n",
      "     |  ----------------------------------------------------------------------\n",
      "     |  Data descriptors defined here:\n",
      "     |  \n",
      "     |  columns\n",
      "     |      width of the terminal window in characters\n",
      "     |  \n",
      "     |  lines\n",
      "     |      height of the terminal window in characters\n",
      "     |  \n",
      "     |  ----------------------------------------------------------------------\n",
      "     |  Data and other attributes defined here:\n",
      "     |  \n",
      "     |  n_fields = 2\n",
      "     |  \n",
      "     |  n_sequence_fields = 2\n",
      "     |  \n",
      "     |  n_unnamed_fields = 0\n",
      "     |  \n",
      "     |  ----------------------------------------------------------------------\n",
      "     |  Methods inherited from builtins.tuple:\n",
      "     |  \n",
      "     |  __add__(self, value, /)\n",
      "     |      Return self+value.\n",
      "     |  \n",
      "     |  __contains__(self, key, /)\n",
      "     |      Return key in self.\n",
      "     |  \n",
      "     |  __eq__(self, value, /)\n",
      "     |      Return self==value.\n",
      "     |  \n",
      "     |  __ge__(self, value, /)\n",
      "     |      Return self>=value.\n",
      "     |  \n",
      "     |  __getattribute__(self, name, /)\n",
      "     |      Return getattr(self, name).\n",
      "     |  \n",
      "     |  __getitem__(self, key, /)\n",
      "     |      Return self[key].\n",
      "     |  \n",
      "     |  __getnewargs__(self, /)\n",
      "     |  \n",
      "     |  __gt__(self, value, /)\n",
      "     |      Return self>value.\n",
      "     |  \n",
      "     |  __hash__(self, /)\n",
      "     |      Return hash(self).\n",
      "     |  \n",
      "     |  __iter__(self, /)\n",
      "     |      Implement iter(self).\n",
      "     |  \n",
      "     |  __le__(self, value, /)\n",
      "     |      Return self<=value.\n",
      "     |  \n",
      "     |  __len__(self, /)\n",
      "     |      Return len(self).\n",
      "     |  \n",
      "     |  __lt__(self, value, /)\n",
      "     |      Return self<value.\n",
      "     |  \n",
      "     |  __mul__(self, value, /)\n",
      "     |      Return self*value.\n",
      "     |  \n",
      "     |  __ne__(self, value, /)\n",
      "     |      Return self!=value.\n",
      "     |  \n",
      "     |  __rmul__(self, value, /)\n",
      "     |      Return value*self.\n",
      "     |  \n",
      "     |  count(self, value, /)\n",
      "     |      Return number of occurrences of value.\n",
      "     |  \n",
      "     |  index(self, value, start=0, stop=9223372036854775807, /)\n",
      "     |      Return first index of value.\n",
      "     |      \n",
      "     |      Raises ValueError if the value is not present.\n",
      "    \n",
      "    class times_result(builtins.tuple)\n",
      "     |  times_result(iterable=(), /)\n",
      "     |  \n",
      "     |  times_result: Result from os.times().\n",
      "     |  \n",
      "     |  This object may be accessed either as a tuple of\n",
      "     |    (user, system, children_user, children_system, elapsed),\n",
      "     |  or via the attributes user, system, children_user, children_system,\n",
      "     |  and elapsed.\n",
      "     |  \n",
      "     |  See os.times for more information.\n",
      "     |  \n",
      "     |  Method resolution order:\n",
      "     |      times_result\n",
      "     |      builtins.tuple\n",
      "     |      builtins.object\n",
      "     |  \n",
      "     |  Methods defined here:\n",
      "     |  \n",
      "     |  __reduce__(...)\n",
      "     |      Helper for pickle.\n",
      "     |  \n",
      "     |  __repr__(self, /)\n",
      "     |      Return repr(self).\n",
      "     |  \n",
      "     |  ----------------------------------------------------------------------\n",
      "     |  Static methods defined here:\n",
      "     |  \n",
      "     |  __new__(*args, **kwargs) from builtins.type\n",
      "     |      Create and return a new object.  See help(type) for accurate signature.\n",
      "     |  \n",
      "     |  ----------------------------------------------------------------------\n",
      "     |  Data descriptors defined here:\n",
      "     |  \n",
      "     |  children_system\n",
      "     |      system time of children\n",
      "     |  \n",
      "     |  children_user\n",
      "     |      user time of children\n",
      "     |  \n",
      "     |  elapsed\n",
      "     |      elapsed time since an arbitrary point in the past\n",
      "     |  \n",
      "     |  system\n",
      "     |      system time\n",
      "     |  \n",
      "     |  user\n",
      "     |      user time\n",
      "     |  \n",
      "     |  ----------------------------------------------------------------------\n",
      "     |  Data and other attributes defined here:\n",
      "     |  \n",
      "     |  n_fields = 5\n",
      "     |  \n",
      "     |  n_sequence_fields = 5\n",
      "     |  \n",
      "     |  n_unnamed_fields = 0\n",
      "     |  \n",
      "     |  ----------------------------------------------------------------------\n",
      "     |  Methods inherited from builtins.tuple:\n",
      "     |  \n",
      "     |  __add__(self, value, /)\n",
      "     |      Return self+value.\n",
      "     |  \n",
      "     |  __contains__(self, key, /)\n",
      "     |      Return key in self.\n",
      "     |  \n",
      "     |  __eq__(self, value, /)\n",
      "     |      Return self==value.\n",
      "     |  \n",
      "     |  __ge__(self, value, /)\n",
      "     |      Return self>=value.\n",
      "     |  \n",
      "     |  __getattribute__(self, name, /)\n",
      "     |      Return getattr(self, name).\n",
      "     |  \n",
      "     |  __getitem__(self, key, /)\n",
      "     |      Return self[key].\n",
      "     |  \n",
      "     |  __getnewargs__(self, /)\n",
      "     |  \n",
      "     |  __gt__(self, value, /)\n",
      "     |      Return self>value.\n",
      "     |  \n",
      "     |  __hash__(self, /)\n",
      "     |      Return hash(self).\n",
      "     |  \n",
      "     |  __iter__(self, /)\n",
      "     |      Implement iter(self).\n",
      "     |  \n",
      "     |  __le__(self, value, /)\n",
      "     |      Return self<=value.\n",
      "     |  \n",
      "     |  __len__(self, /)\n",
      "     |      Return len(self).\n",
      "     |  \n",
      "     |  __lt__(self, value, /)\n",
      "     |      Return self<value.\n",
      "     |  \n",
      "     |  __mul__(self, value, /)\n",
      "     |      Return self*value.\n",
      "     |  \n",
      "     |  __ne__(self, value, /)\n",
      "     |      Return self!=value.\n",
      "     |  \n",
      "     |  __rmul__(self, value, /)\n",
      "     |      Return value*self.\n",
      "     |  \n",
      "     |  count(self, value, /)\n",
      "     |      Return number of occurrences of value.\n",
      "     |  \n",
      "     |  index(self, value, start=0, stop=9223372036854775807, /)\n",
      "     |      Return first index of value.\n",
      "     |      \n",
      "     |      Raises ValueError if the value is not present.\n",
      "    \n",
      "    class uname_result(builtins.tuple)\n",
      "     |  uname_result(iterable=(), /)\n",
      "     |  \n",
      "     |  uname_result: Result from os.uname().\n",
      "     |  \n",
      "     |  This object may be accessed either as a tuple of\n",
      "     |    (sysname, nodename, release, version, machine),\n",
      "     |  or via the attributes sysname, nodename, release, version, and machine.\n",
      "     |  \n",
      "     |  See os.uname for more information.\n",
      "     |  \n",
      "     |  Method resolution order:\n",
      "     |      uname_result\n",
      "     |      builtins.tuple\n",
      "     |      builtins.object\n",
      "     |  \n",
      "     |  Methods defined here:\n",
      "     |  \n",
      "     |  __reduce__(...)\n",
      "     |      Helper for pickle.\n",
      "     |  \n",
      "     |  __repr__(self, /)\n",
      "     |      Return repr(self).\n",
      "     |  \n",
      "     |  ----------------------------------------------------------------------\n",
      "     |  Static methods defined here:\n",
      "     |  \n",
      "     |  __new__(*args, **kwargs) from builtins.type\n",
      "     |      Create and return a new object.  See help(type) for accurate signature.\n",
      "     |  \n",
      "     |  ----------------------------------------------------------------------\n",
      "     |  Data descriptors defined here:\n",
      "     |  \n",
      "     |  machine\n",
      "     |      hardware identifier\n",
      "     |  \n",
      "     |  nodename\n",
      "     |      name of machine on network (implementation-defined)\n",
      "     |  \n",
      "     |  release\n",
      "     |      operating system release\n",
      "     |  \n",
      "     |  sysname\n",
      "     |      operating system name\n",
      "     |  \n",
      "     |  version\n",
      "     |      operating system version\n",
      "     |  \n",
      "     |  ----------------------------------------------------------------------\n",
      "     |  Data and other attributes defined here:\n",
      "     |  \n",
      "     |  n_fields = 5\n",
      "     |  \n",
      "     |  n_sequence_fields = 5\n",
      "     |  \n",
      "     |  n_unnamed_fields = 0\n",
      "     |  \n",
      "     |  ----------------------------------------------------------------------\n",
      "     |  Methods inherited from builtins.tuple:\n",
      "     |  \n",
      "     |  __add__(self, value, /)\n",
      "     |      Return self+value.\n",
      "     |  \n",
      "     |  __contains__(self, key, /)\n",
      "     |      Return key in self.\n",
      "     |  \n",
      "     |  __eq__(self, value, /)\n",
      "     |      Return self==value.\n",
      "     |  \n",
      "     |  __ge__(self, value, /)\n",
      "     |      Return self>=value.\n",
      "     |  \n",
      "     |  __getattribute__(self, name, /)\n",
      "     |      Return getattr(self, name).\n",
      "     |  \n",
      "     |  __getitem__(self, key, /)\n",
      "     |      Return self[key].\n",
      "     |  \n",
      "     |  __getnewargs__(self, /)\n",
      "     |  \n",
      "     |  __gt__(self, value, /)\n",
      "     |      Return self>value.\n",
      "     |  \n",
      "     |  __hash__(self, /)\n",
      "     |      Return hash(self).\n",
      "     |  \n",
      "     |  __iter__(self, /)\n",
      "     |      Implement iter(self).\n",
      "     |  \n",
      "     |  __le__(self, value, /)\n",
      "     |      Return self<=value.\n",
      "     |  \n",
      "     |  __len__(self, /)\n",
      "     |      Return len(self).\n",
      "     |  \n",
      "     |  __lt__(self, value, /)\n",
      "     |      Return self<value.\n",
      "     |  \n",
      "     |  __mul__(self, value, /)\n",
      "     |      Return self*value.\n",
      "     |  \n",
      "     |  __ne__(self, value, /)\n",
      "     |      Return self!=value.\n",
      "     |  \n",
      "     |  __rmul__(self, value, /)\n",
      "     |      Return value*self.\n",
      "     |  \n",
      "     |  count(self, value, /)\n",
      "     |      Return number of occurrences of value.\n",
      "     |  \n",
      "     |  index(self, value, start=0, stop=9223372036854775807, /)\n",
      "     |      Return first index of value.\n",
      "     |      \n",
      "     |      Raises ValueError if the value is not present.\n",
      "    \n",
      "    class waitid_result(builtins.tuple)\n",
      "     |  waitid_result(iterable=(), /)\n",
      "     |  \n",
      "     |  waitid_result: Result from waitid.\n",
      "     |  \n",
      "     |  This object may be accessed either as a tuple of\n",
      "     |    (si_pid, si_uid, si_signo, si_status, si_code),\n",
      "     |  or via the attributes si_pid, si_uid, and so on.\n",
      "     |  \n",
      "     |  See os.waitid for more information.\n",
      "     |  \n",
      "     |  Method resolution order:\n",
      "     |      waitid_result\n",
      "     |      builtins.tuple\n",
      "     |      builtins.object\n",
      "     |  \n",
      "     |  Methods defined here:\n",
      "     |  \n",
      "     |  __reduce__(...)\n",
      "     |      Helper for pickle.\n",
      "     |  \n",
      "     |  __repr__(self, /)\n",
      "     |      Return repr(self).\n",
      "     |  \n",
      "     |  ----------------------------------------------------------------------\n",
      "     |  Static methods defined here:\n",
      "     |  \n",
      "     |  __new__(*args, **kwargs) from builtins.type\n",
      "     |      Create and return a new object.  See help(type) for accurate signature.\n",
      "     |  \n",
      "     |  ----------------------------------------------------------------------\n",
      "     |  Data descriptors defined here:\n",
      "     |  \n",
      "     |  si_code\n",
      "     |  \n",
      "     |  si_pid\n",
      "     |  \n",
      "     |  si_signo\n",
      "     |  \n",
      "     |  si_status\n",
      "     |  \n",
      "     |  si_uid\n",
      "     |  \n",
      "     |  ----------------------------------------------------------------------\n",
      "     |  Data and other attributes defined here:\n",
      "     |  \n",
      "     |  n_fields = 5\n",
      "     |  \n",
      "     |  n_sequence_fields = 5\n",
      "     |  \n",
      "     |  n_unnamed_fields = 0\n",
      "     |  \n",
      "     |  ----------------------------------------------------------------------\n",
      "     |  Methods inherited from builtins.tuple:\n",
      "     |  \n",
      "     |  __add__(self, value, /)\n",
      "     |      Return self+value.\n",
      "     |  \n",
      "     |  __contains__(self, key, /)\n",
      "     |      Return key in self.\n",
      "     |  \n",
      "     |  __eq__(self, value, /)\n",
      "     |      Return self==value.\n",
      "     |  \n",
      "     |  __ge__(self, value, /)\n",
      "     |      Return self>=value.\n",
      "     |  \n",
      "     |  __getattribute__(self, name, /)\n",
      "     |      Return getattr(self, name).\n",
      "     |  \n",
      "     |  __getitem__(self, key, /)\n",
      "     |      Return self[key].\n",
      "     |  \n",
      "     |  __getnewargs__(self, /)\n",
      "     |  \n",
      "     |  __gt__(self, value, /)\n",
      "     |      Return self>value.\n",
      "     |  \n",
      "     |  __hash__(self, /)\n",
      "     |      Return hash(self).\n",
      "     |  \n",
      "     |  __iter__(self, /)\n",
      "     |      Implement iter(self).\n",
      "     |  \n",
      "     |  __le__(self, value, /)\n",
      "     |      Return self<=value.\n",
      "     |  \n",
      "     |  __len__(self, /)\n",
      "     |      Return len(self).\n",
      "     |  \n",
      "     |  __lt__(self, value, /)\n",
      "     |      Return self<value.\n",
      "     |  \n",
      "     |  __mul__(self, value, /)\n",
      "     |      Return self*value.\n",
      "     |  \n",
      "     |  __ne__(self, value, /)\n",
      "     |      Return self!=value.\n",
      "     |  \n",
      "     |  __rmul__(self, value, /)\n",
      "     |      Return value*self.\n",
      "     |  \n",
      "     |  count(self, value, /)\n",
      "     |      Return number of occurrences of value.\n",
      "     |  \n",
      "     |  index(self, value, start=0, stop=9223372036854775807, /)\n",
      "     |      Return first index of value.\n",
      "     |      \n",
      "     |      Raises ValueError if the value is not present.\n",
      "\n",
      "FUNCTIONS\n",
      "    WCOREDUMP(status, /)\n",
      "        Return True if the process returning status was dumped to a core file.\n",
      "    \n",
      "    WEXITSTATUS(status)\n",
      "        Return the process return code from status.\n",
      "    \n",
      "    WIFCONTINUED(status)\n",
      "        Return True if a particular process was continued from a job control stop.\n",
      "        \n",
      "        Return True if the process returning status was continued from a\n",
      "        job control stop.\n",
      "    \n",
      "    WIFEXITED(status)\n",
      "        Return True if the process returning status exited via the exit() system call.\n",
      "    \n",
      "    WIFSIGNALED(status)\n",
      "        Return True if the process returning status was terminated by a signal.\n",
      "    \n",
      "    WIFSTOPPED(status)\n",
      "        Return True if the process returning status was stopped.\n",
      "    \n",
      "    WSTOPSIG(status)\n",
      "        Return the signal that stopped the process that provided the status value.\n",
      "    \n",
      "    WTERMSIG(status)\n",
      "        Return the signal that terminated the process that provided the status value.\n",
      "    \n",
      "    _exit(status)\n",
      "        Exit to the system with specified status, without normal exit processing.\n",
      "    \n",
      "    abort()\n",
      "        Abort the interpreter immediately.\n",
      "        \n",
      "        This function 'dumps core' or otherwise fails in the hardest way possible\n",
      "        on the hosting operating system.  This function never returns.\n",
      "    \n",
      "    access(path, mode, *, dir_fd=None, effective_ids=False, follow_symlinks=True)\n",
      "        Use the real uid/gid to test for access to a path.\n",
      "        \n",
      "          path\n",
      "            Path to be tested; can be string, bytes, or a path-like object.\n",
      "          mode\n",
      "            Operating-system mode bitfield.  Can be F_OK to test existence,\n",
      "            or the inclusive-OR of R_OK, W_OK, and X_OK.\n",
      "          dir_fd\n",
      "            If not None, it should be a file descriptor open to a directory,\n",
      "            and path should be relative; path will then be relative to that\n",
      "            directory.\n",
      "          effective_ids\n",
      "            If True, access will use the effective uid/gid instead of\n",
      "            the real uid/gid.\n",
      "          follow_symlinks\n",
      "            If False, and the last element of the path is a symbolic link,\n",
      "            access will examine the symbolic link itself instead of the file\n",
      "            the link points to.\n",
      "        \n",
      "        dir_fd, effective_ids, and follow_symlinks may not be implemented\n",
      "          on your platform.  If they are unavailable, using them will raise a\n",
      "          NotImplementedError.\n",
      "        \n",
      "        Note that most operations will use the effective uid/gid, therefore this\n",
      "          routine can be used in a suid/sgid environment to test if the invoking user\n",
      "          has the specified access to the path.\n",
      "    \n",
      "    chdir(path)\n",
      "        Change the current working directory to the specified path.\n",
      "        \n",
      "        path may always be specified as a string.\n",
      "        On some platforms, path may also be specified as an open file descriptor.\n",
      "          If this functionality is unavailable, using it raises an exception.\n",
      "    \n",
      "    chmod(path, mode, *, dir_fd=None, follow_symlinks=True)\n",
      "        Change the access permissions of a file.\n",
      "        \n",
      "          path\n",
      "            Path to be modified.  May always be specified as a str, bytes, or a path-like object.\n",
      "            On some platforms, path may also be specified as an open file descriptor.\n",
      "            If this functionality is unavailable, using it raises an exception.\n",
      "          mode\n",
      "            Operating-system mode bitfield.\n",
      "          dir_fd\n",
      "            If not None, it should be a file descriptor open to a directory,\n",
      "            and path should be relative; path will then be relative to that\n",
      "            directory.\n",
      "          follow_symlinks\n",
      "            If False, and the last element of the path is a symbolic link,\n",
      "            chmod will modify the symbolic link itself instead of the file\n",
      "            the link points to.\n",
      "        \n",
      "        It is an error to use dir_fd or follow_symlinks when specifying path as\n",
      "          an open file descriptor.\n",
      "        dir_fd and follow_symlinks may not be implemented on your platform.\n",
      "          If they are unavailable, using them will raise a NotImplementedError.\n",
      "    \n",
      "    chown(path, uid, gid, *, dir_fd=None, follow_symlinks=True)\n",
      "        Change the owner and group id of path to the numeric uid and gid.\\\n",
      "        \n",
      "          path\n",
      "            Path to be examined; can be string, bytes, a path-like object, or open-file-descriptor int.\n",
      "          dir_fd\n",
      "            If not None, it should be a file descriptor open to a directory,\n",
      "            and path should be relative; path will then be relative to that\n",
      "            directory.\n",
      "          follow_symlinks\n",
      "            If False, and the last element of the path is a symbolic link,\n",
      "            stat will examine the symbolic link itself instead of the file\n",
      "            the link points to.\n",
      "        \n",
      "        path may always be specified as a string.\n",
      "        On some platforms, path may also be specified as an open file descriptor.\n",
      "          If this functionality is unavailable, using it raises an exception.\n",
      "        If dir_fd is not None, it should be a file descriptor open to a directory,\n",
      "          and path should be relative; path will then be relative to that directory.\n",
      "        If follow_symlinks is False, and the last element of the path is a symbolic\n",
      "          link, chown will modify the symbolic link itself instead of the file the\n",
      "          link points to.\n",
      "        It is an error to use dir_fd or follow_symlinks when specifying path as\n",
      "          an open file descriptor.\n",
      "        dir_fd and follow_symlinks may not be implemented on your platform.\n",
      "          If they are unavailable, using them will raise a NotImplementedError.\n",
      "    \n",
      "    chroot(path)\n",
      "        Change root directory to path.\n",
      "    \n",
      "    close(fd)\n",
      "        Close a file descriptor.\n",
      "    \n",
      "    closerange(fd_low, fd_high, /)\n",
      "        Closes all file descriptors in [fd_low, fd_high), ignoring errors.\n",
      "    \n",
      "    confstr(name, /)\n",
      "        Return a string-valued system configuration variable.\n",
      "    \n",
      "    copy_file_range(src, dst, count, offset_src=None, offset_dst=None)\n",
      "        Copy count bytes from one file descriptor to another.\n",
      "        \n",
      "          src\n",
      "            Source file descriptor.\n",
      "          dst\n",
      "            Destination file descriptor.\n",
      "          count\n",
      "            Number of bytes to copy.\n",
      "          offset_src\n",
      "            Starting offset in src.\n",
      "          offset_dst\n",
      "            Starting offset in dst.\n",
      "        \n",
      "        If offset_src is None, then src is read from the current position;\n",
      "        respectively for offset_dst.\n",
      "    \n",
      "    cpu_count()\n",
      "        Return the number of CPUs in the system; return None if indeterminable.\n",
      "        \n",
      "        This number is not equivalent to the number of CPUs the current process can\n",
      "        use.  The number of usable CPUs can be obtained with\n",
      "        ``len(os.sched_getaffinity(0))``\n",
      "    \n",
      "    ctermid()\n",
      "        Return the name of the controlling terminal for this process.\n",
      "    \n",
      "    device_encoding(fd)\n",
      "        Return a string describing the encoding of a terminal's file descriptor.\n",
      "        \n",
      "        The file descriptor must be attached to a terminal.\n",
      "        If the device is not a terminal, return None.\n",
      "    \n",
      "    dup(fd, /)\n",
      "        Return a duplicate of a file descriptor.\n",
      "    \n",
      "    dup2(fd, fd2, inheritable=True)\n",
      "        Duplicate file descriptor.\n",
      "    \n",
      "    execl(file, *args)\n",
      "        execl(file, *args)\n",
      "        \n",
      "        Execute the executable file with argument list args, replacing the\n",
      "        current process.\n",
      "    \n",
      "    execle(file, *args)\n",
      "        execle(file, *args, env)\n",
      "        \n",
      "        Execute the executable file with argument list args and\n",
      "        environment env, replacing the current process.\n",
      "    \n",
      "    execlp(file, *args)\n",
      "        execlp(file, *args)\n",
      "        \n",
      "        Execute the executable file (which is searched for along $PATH)\n",
      "        with argument list args, replacing the current process.\n",
      "    \n",
      "    execlpe(file, *args)\n",
      "        execlpe(file, *args, env)\n",
      "        \n",
      "        Execute the executable file (which is searched for along $PATH)\n",
      "        with argument list args and environment env, replacing the current\n",
      "        process.\n",
      "    \n",
      "    execv(path, argv, /)\n",
      "        Execute an executable path with arguments, replacing current process.\n",
      "        \n",
      "        path\n",
      "          Path of executable file.\n",
      "        argv\n",
      "          Tuple or list of strings.\n",
      "    \n",
      "    execve(path, argv, env)\n",
      "        Execute an executable path with arguments, replacing current process.\n",
      "        \n",
      "        path\n",
      "          Path of executable file.\n",
      "        argv\n",
      "          Tuple or list of strings.\n",
      "        env\n",
      "          Dictionary of strings mapping to strings.\n",
      "    \n",
      "    execvp(file, args)\n",
      "        execvp(file, args)\n",
      "        \n",
      "        Execute the executable file (which is searched for along $PATH)\n",
      "        with argument list args, replacing the current process.\n",
      "        args may be a list or tuple of strings.\n",
      "    \n",
      "    execvpe(file, args, env)\n",
      "        execvpe(file, args, env)\n",
      "        \n",
      "        Execute the executable file (which is searched for along $PATH)\n",
      "        with argument list args and environment env, replacing the\n",
      "        current process.\n",
      "        args may be a list or tuple of strings.\n",
      "    \n",
      "    fchdir(fd)\n",
      "        Change to the directory of the given file descriptor.\n",
      "        \n",
      "        fd must be opened on a directory, not a file.\n",
      "        Equivalent to os.chdir(fd).\n",
      "    \n",
      "    fchmod(fd, mode)\n",
      "        Change the access permissions of the file given by file descriptor fd.\n",
      "        \n",
      "        Equivalent to os.chmod(fd, mode).\n",
      "    \n",
      "    fchown(fd, uid, gid)\n",
      "        Change the owner and group id of the file specified by file descriptor.\n",
      "        \n",
      "        Equivalent to os.chown(fd, uid, gid).\n",
      "    \n",
      "    fdatasync(fd)\n",
      "        Force write of fd to disk without forcing update of metadata.\n",
      "    \n",
      "    fdopen(fd, *args, **kwargs)\n",
      "        # Supply os.fdopen()\n",
      "    \n",
      "    fork()\n",
      "        Fork a child process.\n",
      "        \n",
      "        Return 0 to child process and PID of child to parent process.\n",
      "    \n",
      "    forkpty()\n",
      "        Fork a new process with a new pseudo-terminal as controlling tty.\n",
      "        \n",
      "        Returns a tuple of (pid, master_fd).\n",
      "        Like fork(), return pid of 0 to the child process,\n",
      "        and pid of child to the parent process.\n",
      "        To both, return fd of newly opened pseudo-terminal.\n",
      "    \n",
      "    fpathconf(fd, name, /)\n",
      "        Return the configuration limit name for the file descriptor fd.\n",
      "        \n",
      "        If there is no limit, return -1.\n",
      "    \n",
      "    fsdecode(filename)\n",
      "        Decode filename (an os.PathLike, bytes, or str) from the filesystem\n",
      "        encoding with 'surrogateescape' error handler, return str unchanged. On\n",
      "        Windows, use 'strict' error handler if the file system encoding is\n",
      "        'mbcs' (which is the default encoding).\n",
      "    \n",
      "    fsencode(filename)\n",
      "        Encode filename (an os.PathLike, bytes, or str) to the filesystem\n",
      "        encoding with 'surrogateescape' error handler, return bytes unchanged.\n",
      "        On Windows, use 'strict' error handler if the file system encoding is\n",
      "        'mbcs' (which is the default encoding).\n",
      "    \n",
      "    fspath(path)\n",
      "        Return the file system path representation of the object.\n",
      "        \n",
      "        If the object is str or bytes, then allow it to pass through as-is. If the\n",
      "        object defines __fspath__(), then return the result of that method. All other\n",
      "        types raise a TypeError.\n",
      "    \n",
      "    fstat(fd)\n",
      "        Perform a stat system call on the given file descriptor.\n",
      "        \n",
      "        Like stat(), but for an open file descriptor.\n",
      "        Equivalent to os.stat(fd).\n",
      "    \n",
      "    fstatvfs(fd, /)\n",
      "        Perform an fstatvfs system call on the given fd.\n",
      "        \n",
      "        Equivalent to statvfs(fd).\n",
      "    \n",
      "    fsync(fd)\n",
      "        Force write of fd to disk.\n",
      "    \n",
      "    ftruncate(fd, length, /)\n",
      "        Truncate a file, specified by file descriptor, to a specific length.\n",
      "    \n",
      "    fwalk(top='.', topdown=True, onerror=None, *, follow_symlinks=False, dir_fd=None)\n",
      "        Directory tree generator.\n",
      "        \n",
      "        This behaves exactly like walk(), except that it yields a 4-tuple\n",
      "        \n",
      "            dirpath, dirnames, filenames, dirfd\n",
      "        \n",
      "        `dirpath`, `dirnames` and `filenames` are identical to walk() output,\n",
      "        and `dirfd` is a file descriptor referring to the directory `dirpath`.\n",
      "        \n",
      "        The advantage of fwalk() over walk() is that it's safe against symlink\n",
      "        races (when follow_symlinks is False).\n",
      "        \n",
      "        If dir_fd is not None, it should be a file descriptor open to a directory,\n",
      "          and top should be relative; top will then be relative to that directory.\n",
      "          (dir_fd is always supported for fwalk.)\n",
      "        \n",
      "        Caution:\n",
      "        Since fwalk() yields file descriptors, those are only valid until the\n",
      "        next iteration step, so you should dup() them if you want to keep them\n",
      "        for a longer period.\n",
      "        \n",
      "        Example:\n",
      "        \n",
      "        import os\n",
      "        for root, dirs, files, rootfd in os.fwalk('python/Lib/email'):\n",
      "            print(root, \"consumes\", end=\"\")\n",
      "            print(sum(os.stat(name, dir_fd=rootfd).st_size for name in files),\n",
      "                  end=\"\")\n",
      "            print(\"bytes in\", len(files), \"non-directory files\")\n",
      "            if 'CVS' in dirs:\n",
      "                dirs.remove('CVS')  # don't visit CVS directories\n",
      "    \n",
      "    get_blocking(fd, /)\n",
      "        Get the blocking mode of the file descriptor.\n",
      "        \n",
      "        Return False if the O_NONBLOCK flag is set, True if the flag is cleared.\n",
      "    \n",
      "    get_exec_path(env=None)\n",
      "        Returns the sequence of directories that will be searched for the\n",
      "        named executable (similar to a shell) when launching a process.\n",
      "        \n",
      "        *env* must be an environment variable dict or None.  If *env* is None,\n",
      "        os.environ will be used.\n",
      "    \n",
      "    get_inheritable(fd, /)\n",
      "        Get the close-on-exe flag of the specified file descriptor.\n",
      "    \n",
      "    get_terminal_size(...)\n",
      "        Return the size of the terminal window as (columns, lines).\n",
      "        \n",
      "        The optional argument fd (default standard output) specifies\n",
      "        which file descriptor should be queried.\n",
      "        \n",
      "        If the file descriptor is not connected to a terminal, an OSError\n",
      "        is thrown.\n",
      "        \n",
      "        This function will only be defined if an implementation is\n",
      "        available for this system.\n",
      "        \n",
      "        shutil.get_terminal_size is the high-level function which should\n",
      "        normally be used, os.get_terminal_size is the low-level implementation.\n",
      "    \n",
      "    getcwd()\n",
      "        Return a unicode string representing the current working directory.\n",
      "    \n",
      "    getcwdb()\n",
      "        Return a bytes string representing the current working directory.\n",
      "    \n",
      "    getegid()\n",
      "        Return the current process's effective group id.\n",
      "    \n",
      "    getenv(key, default=None)\n",
      "        Get an environment variable, return None if it doesn't exist.\n",
      "        The optional second argument can specify an alternate default.\n",
      "        key, default and the result are str.\n",
      "    \n",
      "    getenvb(key, default=None)\n",
      "        Get an environment variable, return None if it doesn't exist.\n",
      "        The optional second argument can specify an alternate default.\n",
      "        key, default and the result are bytes.\n",
      "    \n",
      "    geteuid()\n",
      "        Return the current process's effective user id.\n",
      "    \n",
      "    getgid()\n",
      "        Return the current process's group id.\n",
      "    \n",
      "    getgrouplist(...)\n",
      "        getgrouplist(user, group) -> list of groups to which a user belongs\n",
      "        \n",
      "        Returns a list of groups to which a user belongs.\n",
      "        \n",
      "            user: username to lookup\n",
      "            group: base group id of the user\n",
      "    \n",
      "    getgroups()\n",
      "        Return list of supplemental group IDs for the process.\n",
      "    \n",
      "    getloadavg()\n",
      "        Return average recent system load information.\n",
      "        \n",
      "        Return the number of processes in the system run queue averaged over\n",
      "        the last 1, 5, and 15 minutes as a tuple of three floats.\n",
      "        Raises OSError if the load average was unobtainable.\n",
      "    \n",
      "    getlogin()\n",
      "        Return the actual login name.\n",
      "    \n",
      "    getpgid(pid)\n",
      "        Call the system call getpgid(), and return the result.\n",
      "    \n",
      "    getpgrp()\n",
      "        Return the current process group id.\n",
      "    \n",
      "    getpid()\n",
      "        Return the current process id.\n",
      "    \n",
      "    getppid()\n",
      "        Return the parent's process id.\n",
      "        \n",
      "        If the parent process has already exited, Windows machines will still\n",
      "        return its id; others systems will return the id of the 'init' process (1).\n",
      "    \n",
      "    getpriority(which, who)\n",
      "        Return program scheduling priority.\n",
      "    \n",
      "    getrandom(size, flags=0)\n",
      "        Obtain a series of random bytes.\n",
      "    \n",
      "    getresgid()\n",
      "        Return a tuple of the current process's real, effective, and saved group ids.\n",
      "    \n",
      "    getresuid()\n",
      "        Return a tuple of the current process's real, effective, and saved user ids.\n",
      "    \n",
      "    getsid(pid, /)\n",
      "        Call the system call getsid(pid) and return the result.\n",
      "    \n",
      "    getuid()\n",
      "        Return the current process's user id.\n",
      "    \n",
      "    getxattr(path, attribute, *, follow_symlinks=True)\n",
      "        Return the value of extended attribute attribute on path.\n",
      "        \n",
      "        path may be either a string, a path-like object, or an open file descriptor.\n",
      "        If follow_symlinks is False, and the last element of the path is a symbolic\n",
      "          link, getxattr will examine the symbolic link itself instead of the file\n",
      "          the link points to.\n",
      "    \n",
      "    initgroups(...)\n",
      "        initgroups(username, gid) -> None\n",
      "        \n",
      "        Call the system initgroups() to initialize the group access list with all of\n",
      "        the groups of which the specified username is a member, plus the specified\n",
      "        group id.\n",
      "    \n",
      "    isatty(fd, /)\n",
      "        Return True if the fd is connected to a terminal.\n",
      "        \n",
      "        Return True if the file descriptor is an open file descriptor\n",
      "        connected to the slave end of a terminal.\n",
      "    \n",
      "    kill(pid, signal, /)\n",
      "        Kill a process with a signal.\n",
      "    \n",
      "    killpg(pgid, signal, /)\n",
      "        Kill a process group with a signal.\n",
      "    \n",
      "    lchown(path, uid, gid)\n",
      "        Change the owner and group id of path to the numeric uid and gid.\n",
      "        \n",
      "        This function will not follow symbolic links.\n",
      "        Equivalent to os.chown(path, uid, gid, follow_symlinks=False).\n",
      "    \n",
      "    link(src, dst, *, src_dir_fd=None, dst_dir_fd=None, follow_symlinks=True)\n",
      "        Create a hard link to a file.\n",
      "        \n",
      "        If either src_dir_fd or dst_dir_fd is not None, it should be a file\n",
      "          descriptor open to a directory, and the respective path string (src or dst)\n",
      "          should be relative; the path will then be relative to that directory.\n",
      "        If follow_symlinks is False, and the last element of src is a symbolic\n",
      "          link, link will create a link to the symbolic link itself instead of the\n",
      "          file the link points to.\n",
      "        src_dir_fd, dst_dir_fd, and follow_symlinks may not be implemented on your\n",
      "          platform.  If they are unavailable, using them will raise a\n",
      "          NotImplementedError.\n",
      "    \n",
      "    listdir(path=None)\n",
      "        Return a list containing the names of the files in the directory.\n",
      "        \n",
      "        path can be specified as either str, bytes, or a path-like object.  If path is bytes,\n",
      "          the filenames returned will also be bytes; in all other circumstances\n",
      "          the filenames returned will be str.\n",
      "        If path is None, uses the path='.'.\n",
      "        On some platforms, path may also be specified as an open file descriptor;\\\n",
      "          the file descriptor must refer to a directory.\n",
      "          If this functionality is unavailable, using it raises NotImplementedError.\n",
      "        \n",
      "        The list is in arbitrary order.  It does not include the special\n",
      "        entries '.' and '..' even if they are present in the directory.\n",
      "    \n",
      "    listxattr(path=None, *, follow_symlinks=True)\n",
      "        Return a list of extended attributes on path.\n",
      "        \n",
      "        path may be either None, a string, a path-like object, or an open file descriptor.\n",
      "        if path is None, listxattr will examine the current directory.\n",
      "        If follow_symlinks is False, and the last element of the path is a symbolic\n",
      "          link, listxattr will examine the symbolic link itself instead of the file\n",
      "          the link points to.\n",
      "    \n",
      "    lockf(fd, command, length, /)\n",
      "        Apply, test or remove a POSIX lock on an open file descriptor.\n",
      "        \n",
      "        fd\n",
      "          An open file descriptor.\n",
      "        command\n",
      "          One of F_LOCK, F_TLOCK, F_ULOCK or F_TEST.\n",
      "        length\n",
      "          The number of bytes to lock, starting at the current position.\n",
      "    \n",
      "    lseek(fd, position, how, /)\n",
      "        Set the position of a file descriptor.  Return the new position.\n",
      "        \n",
      "        Return the new cursor position in number of bytes\n",
      "        relative to the beginning of the file.\n",
      "    \n",
      "    lstat(path, *, dir_fd=None)\n",
      "        Perform a stat system call on the given path, without following symbolic links.\n",
      "        \n",
      "        Like stat(), but do not follow symbolic links.\n",
      "        Equivalent to stat(path, follow_symlinks=False).\n",
      "    \n",
      "    major(device, /)\n",
      "        Extracts a device major number from a raw device number.\n",
      "    \n",
      "    makedev(major, minor, /)\n",
      "        Composes a raw device number from the major and minor device numbers.\n",
      "    \n",
      "    makedirs(name, mode=511, exist_ok=False)\n",
      "        makedirs(name [, mode=0o777][, exist_ok=False])\n",
      "        \n",
      "        Super-mkdir; create a leaf directory and all intermediate ones.  Works like\n",
      "        mkdir, except that any intermediate path segment (not just the rightmost)\n",
      "        will be created if it does not exist. If the target directory already\n",
      "        exists, raise an OSError if exist_ok is False. Otherwise no exception is\n",
      "        raised.  This is recursive.\n",
      "    \n",
      "    memfd_create(name, flags=1)\n",
      "    \n",
      "    minor(device, /)\n",
      "        Extracts a device minor number from a raw device number.\n",
      "    \n",
      "    mkdir(path, mode=511, *, dir_fd=None)\n",
      "        Create a directory.\n",
      "        \n",
      "        If dir_fd is not None, it should be a file descriptor open to a directory,\n",
      "          and path should be relative; path will then be relative to that directory.\n",
      "        dir_fd may not be implemented on your platform.\n",
      "          If it is unavailable, using it will raise a NotImplementedError.\n",
      "        \n",
      "        The mode argument is ignored on Windows.\n",
      "    \n",
      "    mkfifo(path, mode=438, *, dir_fd=None)\n",
      "        Create a \"fifo\" (a POSIX named pipe).\n",
      "        \n",
      "        If dir_fd is not None, it should be a file descriptor open to a directory,\n",
      "          and path should be relative; path will then be relative to that directory.\n",
      "        dir_fd may not be implemented on your platform.\n",
      "          If it is unavailable, using it will raise a NotImplementedError.\n",
      "    \n",
      "    mknod(path, mode=384, device=0, *, dir_fd=None)\n",
      "        Create a node in the file system.\n",
      "        \n",
      "        Create a node in the file system (file, device special file or named pipe)\n",
      "        at path.  mode specifies both the permissions to use and the\n",
      "        type of node to be created, being combined (bitwise OR) with one of\n",
      "        S_IFREG, S_IFCHR, S_IFBLK, and S_IFIFO.  If S_IFCHR or S_IFBLK is set on mode,\n",
      "        device defines the newly created device special file (probably using\n",
      "        os.makedev()).  Otherwise device is ignored.\n",
      "        \n",
      "        If dir_fd is not None, it should be a file descriptor open to a directory,\n",
      "          and path should be relative; path will then be relative to that directory.\n",
      "        dir_fd may not be implemented on your platform.\n",
      "          If it is unavailable, using it will raise a NotImplementedError.\n",
      "    \n",
      "    nice(increment, /)\n",
      "        Add increment to the priority of process and return the new priority.\n",
      "    \n",
      "    open(path, flags, mode=511, *, dir_fd=None)\n",
      "        Open a file for low level IO.  Returns a file descriptor (integer).\n",
      "        \n",
      "        If dir_fd is not None, it should be a file descriptor open to a directory,\n",
      "          and path should be relative; path will then be relative to that directory.\n",
      "        dir_fd may not be implemented on your platform.\n",
      "          If it is unavailable, using it will raise a NotImplementedError.\n",
      "    \n",
      "    openpty()\n",
      "        Open a pseudo-terminal.\n",
      "        \n",
      "        Return a tuple of (master_fd, slave_fd) containing open file descriptors\n",
      "        for both the master and slave ends.\n",
      "    \n",
      "    pathconf(path, name)\n",
      "        Return the configuration limit name for the file or directory path.\n",
      "        \n",
      "        If there is no limit, return -1.\n",
      "        On some platforms, path may also be specified as an open file descriptor.\n",
      "          If this functionality is unavailable, using it raises an exception.\n",
      "    \n",
      "    pipe()\n",
      "        Create a pipe.\n",
      "        \n",
      "        Returns a tuple of two file descriptors:\n",
      "          (read_fd, write_fd)\n",
      "    \n",
      "    pipe2(flags, /)\n",
      "        Create a pipe with flags set atomically.\n",
      "        \n",
      "        Returns a tuple of two file descriptors:\n",
      "          (read_fd, write_fd)\n",
      "        \n",
      "        flags can be constructed by ORing together one or more of these values:\n",
      "        O_NONBLOCK, O_CLOEXEC.\n",
      "    \n",
      "    popen(cmd, mode='r', buffering=-1)\n",
      "        # Supply os.popen()\n",
      "    \n",
      "    posix_fadvise(fd, offset, length, advice, /)\n",
      "        Announce an intention to access data in a specific pattern.\n",
      "        \n",
      "        Announce an intention to access data in a specific pattern, thus allowing\n",
      "        the kernel to make optimizations.\n",
      "        The advice applies to the region of the file specified by fd starting at\n",
      "        offset and continuing for length bytes.\n",
      "        advice is one of POSIX_FADV_NORMAL, POSIX_FADV_SEQUENTIAL,\n",
      "        POSIX_FADV_RANDOM, POSIX_FADV_NOREUSE, POSIX_FADV_WILLNEED, or\n",
      "        POSIX_FADV_DONTNEED.\n",
      "    \n",
      "    posix_fallocate(fd, offset, length, /)\n",
      "        Ensure a file has allocated at least a particular number of bytes on disk.\n",
      "        \n",
      "        Ensure that the file specified by fd encompasses a range of bytes\n",
      "        starting at offset bytes from the beginning and continuing for length bytes.\n",
      "    \n",
      "    posix_spawn(...)\n",
      "        Execute the program specified by path in a new process.\n",
      "        \n",
      "        path\n",
      "          Path of executable file.\n",
      "        argv\n",
      "          Tuple or list of strings.\n",
      "        env\n",
      "          Dictionary of strings mapping to strings.\n",
      "        file_actions\n",
      "          A sequence of file action tuples.\n",
      "        setpgroup\n",
      "          The pgroup to use with the POSIX_SPAWN_SETPGROUP flag.\n",
      "        resetids\n",
      "          If the value is `true` the POSIX_SPAWN_RESETIDS will be activated.\n",
      "        setsid\n",
      "          If the value is `true` the POSIX_SPAWN_SETSID or POSIX_SPAWN_SETSID_NP will be activated.\n",
      "        setsigmask\n",
      "          The sigmask to use with the POSIX_SPAWN_SETSIGMASK flag.\n",
      "        setsigdef\n",
      "          The sigmask to use with the POSIX_SPAWN_SETSIGDEF flag.\n",
      "        scheduler\n",
      "          A tuple with the scheduler policy (optional) and parameters.\n",
      "    \n",
      "    posix_spawnp(...)\n",
      "        Execute the program specified by path in a new process.\n",
      "        \n",
      "        path\n",
      "          Path of executable file.\n",
      "        argv\n",
      "          Tuple or list of strings.\n",
      "        env\n",
      "          Dictionary of strings mapping to strings.\n",
      "        file_actions\n",
      "          A sequence of file action tuples.\n",
      "        setpgroup\n",
      "          The pgroup to use with the POSIX_SPAWN_SETPGROUP flag.\n",
      "        resetids\n",
      "          If the value is `True` the POSIX_SPAWN_RESETIDS will be activated.\n",
      "        setsid\n",
      "          If the value is `True` the POSIX_SPAWN_SETSID or POSIX_SPAWN_SETSID_NP will be activated.\n",
      "        setsigmask\n",
      "          The sigmask to use with the POSIX_SPAWN_SETSIGMASK flag.\n",
      "        setsigdef\n",
      "          The sigmask to use with the POSIX_SPAWN_SETSIGDEF flag.\n",
      "        scheduler\n",
      "          A tuple with the scheduler policy (optional) and parameters.\n",
      "    \n",
      "    pread(fd, length, offset, /)\n",
      "        Read a number of bytes from a file descriptor starting at a particular offset.\n",
      "        \n",
      "        Read length bytes from file descriptor fd, starting at offset bytes from\n",
      "        the beginning of the file.  The file offset remains unchanged.\n",
      "    \n",
      "    preadv(fd, buffers, offset, flags=0, /)\n",
      "        Reads from a file descriptor into a number of mutable bytes-like objects.\n",
      "        \n",
      "        Combines the functionality of readv() and pread(). As readv(), it will\n",
      "        transfer data into each buffer until it is full and then move on to the next\n",
      "        buffer in the sequence to hold the rest of the data. Its fourth argument,\n",
      "        specifies the file offset at which the input operation is to be performed. It\n",
      "        will return the total number of bytes read (which can be less than the total\n",
      "        capacity of all the objects).\n",
      "        \n",
      "        The flags argument contains a bitwise OR of zero or more of the following flags:\n",
      "        \n",
      "        - RWF_HIPRI\n",
      "        - RWF_NOWAIT\n",
      "        \n",
      "        Using non-zero flags requires Linux 4.6 or newer.\n",
      "    \n",
      "    putenv(name, value, /)\n",
      "        Change or add an environment variable.\n",
      "    \n",
      "    pwrite(fd, buffer, offset, /)\n",
      "        Write bytes to a file descriptor starting at a particular offset.\n",
      "        \n",
      "        Write buffer to fd, starting at offset bytes from the beginning of\n",
      "        the file.  Returns the number of bytes writte.  Does not change the\n",
      "        current file offset.\n",
      "    \n",
      "    pwritev(fd, buffers, offset, flags=0, /)\n",
      "        Writes the contents of bytes-like objects to a file descriptor at a given offset.\n",
      "        \n",
      "        Combines the functionality of writev() and pwrite(). All buffers must be a sequence\n",
      "        of bytes-like objects. Buffers are processed in array order. Entire contents of first\n",
      "        buffer is written before proceeding to second, and so on. The operating system may\n",
      "        set a limit (sysconf() value SC_IOV_MAX) on the number of buffers that can be used.\n",
      "        This function writes the contents of each object to the file descriptor and returns\n",
      "        the total number of bytes written.\n",
      "        \n",
      "        The flags argument contains a bitwise OR of zero or more of the following flags:\n",
      "        \n",
      "        - RWF_DSYNC\n",
      "        - RWF_SYNC\n",
      "        \n",
      "        Using non-zero flags requires Linux 4.7 or newer.\n",
      "    \n",
      "    read(fd, length, /)\n",
      "        Read from a file descriptor.  Returns a bytes object.\n",
      "    \n",
      "    readlink(path, *, dir_fd=None)\n",
      "        Return a string representing the path to which the symbolic link points.\n",
      "        \n",
      "        If dir_fd is not None, it should be a file descriptor open to a directory,\n",
      "        and path should be relative; path will then be relative to that directory.\n",
      "        \n",
      "        dir_fd may not be implemented on your platform.  If it is unavailable,\n",
      "        using it will raise a NotImplementedError.\n",
      "    \n",
      "    readv(fd, buffers, /)\n",
      "        Read from a file descriptor fd into an iterable of buffers.\n",
      "        \n",
      "        The buffers should be mutable buffers accepting bytes.\n",
      "        readv will transfer data into each buffer until it is full\n",
      "        and then move on to the next buffer in the sequence to hold\n",
      "        the rest of the data.\n",
      "        \n",
      "        readv returns the total number of bytes read,\n",
      "        which may be less than the total capacity of all the buffers.\n",
      "    \n",
      "    register_at_fork(...)\n",
      "        Register callables to be called when forking a new process.\n",
      "        \n",
      "          before\n",
      "            A callable to be called in the parent before the fork() syscall.\n",
      "          after_in_child\n",
      "            A callable to be called in the child after fork().\n",
      "          after_in_parent\n",
      "            A callable to be called in the parent after fork().\n",
      "        \n",
      "        'before' callbacks are called in reverse order.\n",
      "        'after_in_child' and 'after_in_parent' callbacks are called in order.\n",
      "    \n",
      "    remove(path, *, dir_fd=None)\n",
      "        Remove a file (same as unlink()).\n",
      "        \n",
      "        If dir_fd is not None, it should be a file descriptor open to a directory,\n",
      "          and path should be relative; path will then be relative to that directory.\n",
      "        dir_fd may not be implemented on your platform.\n",
      "          If it is unavailable, using it will raise a NotImplementedError.\n",
      "    \n",
      "    removedirs(name)\n",
      "        removedirs(name)\n",
      "        \n",
      "        Super-rmdir; remove a leaf directory and all empty intermediate\n",
      "        ones.  Works like rmdir except that, if the leaf directory is\n",
      "        successfully removed, directories corresponding to rightmost path\n",
      "        segments will be pruned away until either the whole path is\n",
      "        consumed or an error occurs.  Errors during this latter phase are\n",
      "        ignored -- they generally mean that a directory was not empty.\n",
      "    \n",
      "    removexattr(path, attribute, *, follow_symlinks=True)\n",
      "        Remove extended attribute attribute on path.\n",
      "        \n",
      "        path may be either a string, a path-like object, or an open file descriptor.\n",
      "        If follow_symlinks is False, and the last element of the path is a symbolic\n",
      "          link, removexattr will modify the symbolic link itself instead of the file\n",
      "          the link points to.\n",
      "    \n",
      "    rename(src, dst, *, src_dir_fd=None, dst_dir_fd=None)\n",
      "        Rename a file or directory.\n",
      "        \n",
      "        If either src_dir_fd or dst_dir_fd is not None, it should be a file\n",
      "          descriptor open to a directory, and the respective path string (src or dst)\n",
      "          should be relative; the path will then be relative to that directory.\n",
      "        src_dir_fd and dst_dir_fd, may not be implemented on your platform.\n",
      "          If they are unavailable, using them will raise a NotImplementedError.\n",
      "    \n",
      "    renames(old, new)\n",
      "        renames(old, new)\n",
      "        \n",
      "        Super-rename; create directories as necessary and delete any left\n",
      "        empty.  Works like rename, except creation of any intermediate\n",
      "        directories needed to make the new pathname good is attempted\n",
      "        first.  After the rename, directories corresponding to rightmost\n",
      "        path segments of the old name will be pruned until either the\n",
      "        whole path is consumed or a nonempty directory is found.\n",
      "        \n",
      "        Note: this function can fail with the new directory structure made\n",
      "        if you lack permissions needed to unlink the leaf directory or\n",
      "        file.\n",
      "    \n",
      "    replace(src, dst, *, src_dir_fd=None, dst_dir_fd=None)\n",
      "        Rename a file or directory, overwriting the destination.\n",
      "        \n",
      "        If either src_dir_fd or dst_dir_fd is not None, it should be a file\n",
      "          descriptor open to a directory, and the respective path string (src or dst)\n",
      "          should be relative; the path will then be relative to that directory.\n",
      "        src_dir_fd and dst_dir_fd, may not be implemented on your platform.\n",
      "          If they are unavailable, using them will raise a NotImplementedError.\n",
      "    \n",
      "    rmdir(path, *, dir_fd=None)\n",
      "        Remove a directory.\n",
      "        \n",
      "        If dir_fd is not None, it should be a file descriptor open to a directory,\n",
      "          and path should be relative; path will then be relative to that directory.\n",
      "        dir_fd may not be implemented on your platform.\n",
      "          If it is unavailable, using it will raise a NotImplementedError.\n",
      "    \n",
      "    scandir(path=None)\n",
      "        Return an iterator of DirEntry objects for given path.\n",
      "        \n",
      "        path can be specified as either str, bytes, or a path-like object.  If path\n",
      "        is bytes, the names of yielded DirEntry objects will also be bytes; in\n",
      "        all other circumstances they will be str.\n",
      "        \n",
      "        If path is None, uses the path='.'.\n",
      "    \n",
      "    sched_get_priority_max(policy)\n",
      "        Get the maximum scheduling priority for policy.\n",
      "    \n",
      "    sched_get_priority_min(policy)\n",
      "        Get the minimum scheduling priority for policy.\n",
      "    \n",
      "    sched_getaffinity(pid, /)\n",
      "        Return the affinity of the process identified by pid (or the current process if zero).\n",
      "        \n",
      "        The affinity is returned as a set of CPU identifiers.\n",
      "    \n",
      "    sched_getparam(pid, /)\n",
      "        Returns scheduling parameters for the process identified by pid.\n",
      "        \n",
      "        If pid is 0, returns parameters for the calling process.\n",
      "        Return value is an instance of sched_param.\n",
      "    \n",
      "    sched_getscheduler(pid, /)\n",
      "        Get the scheduling policy for the process identifiedy by pid.\n",
      "        \n",
      "        Passing 0 for pid returns the scheduling policy for the calling process.\n",
      "    \n",
      "    sched_rr_get_interval(pid, /)\n",
      "        Return the round-robin quantum for the process identified by pid, in seconds.\n",
      "        \n",
      "        Value returned is a float.\n",
      "    \n",
      "    sched_setaffinity(pid, mask, /)\n",
      "        Set the CPU affinity of the process identified by pid to mask.\n",
      "        \n",
      "        mask should be an iterable of integers identifying CPUs.\n",
      "    \n",
      "    sched_setparam(pid, param, /)\n",
      "        Set scheduling parameters for the process identified by pid.\n",
      "        \n",
      "        If pid is 0, sets parameters for the calling process.\n",
      "        param should be an instance of sched_param.\n",
      "    \n",
      "    sched_setscheduler(pid, policy, param, /)\n",
      "        Set the scheduling policy for the process identified by pid.\n",
      "        \n",
      "        If pid is 0, the calling process is changed.\n",
      "        param is an instance of sched_param.\n",
      "    \n",
      "    sched_yield()\n",
      "        Voluntarily relinquish the CPU.\n",
      "    \n",
      "    sendfile(...)\n",
      "        sendfile(out, in, offset, count) -> byteswritten\n",
      "        sendfile(out, in, offset, count[, headers][, trailers], flags=0)\n",
      "                    -> byteswritten\n",
      "        Copy count bytes from file descriptor in to file descriptor out.\n",
      "    \n",
      "    set_blocking(fd, blocking, /)\n",
      "        Set the blocking mode of the specified file descriptor.\n",
      "        \n",
      "        Set the O_NONBLOCK flag if blocking is False,\n",
      "        clear the O_NONBLOCK flag otherwise.\n",
      "    \n",
      "    set_inheritable(fd, inheritable, /)\n",
      "        Set the inheritable flag of the specified file descriptor.\n",
      "    \n",
      "    setegid(egid, /)\n",
      "        Set the current process's effective group id.\n",
      "    \n",
      "    seteuid(euid, /)\n",
      "        Set the current process's effective user id.\n",
      "    \n",
      "    setgid(gid, /)\n",
      "        Set the current process's group id.\n",
      "    \n",
      "    setgroups(groups, /)\n",
      "        Set the groups of the current process to list.\n",
      "    \n",
      "    setpgid(pid, pgrp, /)\n",
      "        Call the system call setpgid(pid, pgrp).\n",
      "    \n",
      "    setpgrp()\n",
      "        Make the current process the leader of its process group.\n",
      "    \n",
      "    setpriority(which, who, priority)\n",
      "        Set program scheduling priority.\n",
      "    \n",
      "    setregid(rgid, egid, /)\n",
      "        Set the current process's real and effective group ids.\n",
      "    \n",
      "    setresgid(rgid, egid, sgid, /)\n",
      "        Set the current process's real, effective, and saved group ids.\n",
      "    \n",
      "    setresuid(ruid, euid, suid, /)\n",
      "        Set the current process's real, effective, and saved user ids.\n",
      "    \n",
      "    setreuid(ruid, euid, /)\n",
      "        Set the current process's real and effective user ids.\n",
      "    \n",
      "    setsid()\n",
      "        Call the system call setsid().\n",
      "    \n",
      "    setuid(uid, /)\n",
      "        Set the current process's user id.\n",
      "    \n",
      "    setxattr(path, attribute, value, flags=0, *, follow_symlinks=True)\n",
      "        Set extended attribute attribute on path to value.\n",
      "        \n",
      "        path may be either a string, a path-like object,  or an open file descriptor.\n",
      "        If follow_symlinks is False, and the last element of the path is a symbolic\n",
      "          link, setxattr will modify the symbolic link itself instead of the file\n",
      "          the link points to.\n",
      "    \n",
      "    spawnl(mode, file, *args)\n",
      "        spawnl(mode, file, *args) -> integer\n",
      "        \n",
      "        Execute file with arguments from args in a subprocess.\n",
      "        If mode == P_NOWAIT return the pid of the process.\n",
      "        If mode == P_WAIT return the process's exit code if it exits normally;\n",
      "        otherwise return -SIG, where SIG is the signal that killed it.\n",
      "    \n",
      "    spawnle(mode, file, *args)\n",
      "        spawnle(mode, file, *args, env) -> integer\n",
      "        \n",
      "        Execute file with arguments from args in a subprocess with the\n",
      "        supplied environment.\n",
      "        If mode == P_NOWAIT return the pid of the process.\n",
      "        If mode == P_WAIT return the process's exit code if it exits normally;\n",
      "        otherwise return -SIG, where SIG is the signal that killed it.\n",
      "    \n",
      "    spawnlp(mode, file, *args)\n",
      "        spawnlp(mode, file, *args) -> integer\n",
      "        \n",
      "        Execute file (which is looked for along $PATH) with arguments from\n",
      "        args in a subprocess with the supplied environment.\n",
      "        If mode == P_NOWAIT return the pid of the process.\n",
      "        If mode == P_WAIT return the process's exit code if it exits normally;\n",
      "        otherwise return -SIG, where SIG is the signal that killed it.\n",
      "    \n",
      "    spawnlpe(mode, file, *args)\n",
      "        spawnlpe(mode, file, *args, env) -> integer\n",
      "        \n",
      "        Execute file (which is looked for along $PATH) with arguments from\n",
      "        args in a subprocess with the supplied environment.\n",
      "        If mode == P_NOWAIT return the pid of the process.\n",
      "        If mode == P_WAIT return the process's exit code if it exits normally;\n",
      "        otherwise return -SIG, where SIG is the signal that killed it.\n",
      "    \n",
      "    spawnv(mode, file, args)\n",
      "        spawnv(mode, file, args) -> integer\n",
      "        \n",
      "        Execute file with arguments from args in a subprocess.\n",
      "        If mode == P_NOWAIT return the pid of the process.\n",
      "        If mode == P_WAIT return the process's exit code if it exits normally;\n",
      "        otherwise return -SIG, where SIG is the signal that killed it.\n",
      "    \n",
      "    spawnve(mode, file, args, env)\n",
      "        spawnve(mode, file, args, env) -> integer\n",
      "        \n",
      "        Execute file with arguments from args in a subprocess with the\n",
      "        specified environment.\n",
      "        If mode == P_NOWAIT return the pid of the process.\n",
      "        If mode == P_WAIT return the process's exit code if it exits normally;\n",
      "        otherwise return -SIG, where SIG is the signal that killed it.\n",
      "    \n",
      "    spawnvp(mode, file, args)\n",
      "        spawnvp(mode, file, args) -> integer\n",
      "        \n",
      "        Execute file (which is looked for along $PATH) with arguments from\n",
      "        args in a subprocess.\n",
      "        If mode == P_NOWAIT return the pid of the process.\n",
      "        If mode == P_WAIT return the process's exit code if it exits normally;\n",
      "        otherwise return -SIG, where SIG is the signal that killed it.\n",
      "    \n",
      "    spawnvpe(mode, file, args, env)\n",
      "        spawnvpe(mode, file, args, env) -> integer\n",
      "        \n",
      "        Execute file (which is looked for along $PATH) with arguments from\n",
      "        args in a subprocess with the supplied environment.\n",
      "        If mode == P_NOWAIT return the pid of the process.\n",
      "        If mode == P_WAIT return the process's exit code if it exits normally;\n",
      "        otherwise return -SIG, where SIG is the signal that killed it.\n",
      "    \n",
      "    stat(path, *, dir_fd=None, follow_symlinks=True)\n",
      "        Perform a stat system call on the given path.\n",
      "        \n",
      "          path\n",
      "            Path to be examined; can be string, bytes, a path-like object or\n",
      "            open-file-descriptor int.\n",
      "          dir_fd\n",
      "            If not None, it should be a file descriptor open to a directory,\n",
      "            and path should be a relative string; path will then be relative to\n",
      "            that directory.\n",
      "          follow_symlinks\n",
      "            If False, and the last element of the path is a symbolic link,\n",
      "            stat will examine the symbolic link itself instead of the file\n",
      "            the link points to.\n",
      "        \n",
      "        dir_fd and follow_symlinks may not be implemented\n",
      "          on your platform.  If they are unavailable, using them will raise a\n",
      "          NotImplementedError.\n",
      "        \n",
      "        It's an error to use dir_fd or follow_symlinks when specifying path as\n",
      "          an open file descriptor.\n",
      "    \n",
      "    statvfs(path)\n",
      "        Perform a statvfs system call on the given path.\n",
      "        \n",
      "        path may always be specified as a string.\n",
      "        On some platforms, path may also be specified as an open file descriptor.\n",
      "          If this functionality is unavailable, using it raises an exception.\n",
      "    \n",
      "    strerror(code, /)\n",
      "        Translate an error code to a message string.\n",
      "    \n",
      "    symlink(src, dst, target_is_directory=False, *, dir_fd=None)\n",
      "        Create a symbolic link pointing to src named dst.\n",
      "        \n",
      "        target_is_directory is required on Windows if the target is to be\n",
      "          interpreted as a directory.  (On Windows, symlink requires\n",
      "          Windows 6.0 or greater, and raises a NotImplementedError otherwise.)\n",
      "          target_is_directory is ignored on non-Windows platforms.\n",
      "        \n",
      "        If dir_fd is not None, it should be a file descriptor open to a directory,\n",
      "          and path should be relative; path will then be relative to that directory.\n",
      "        dir_fd may not be implemented on your platform.\n",
      "          If it is unavailable, using it will raise a NotImplementedError.\n",
      "    \n",
      "    sync()\n",
      "        Force write of everything to disk.\n",
      "    \n",
      "    sysconf(name, /)\n",
      "        Return an integer-valued system configuration variable.\n",
      "    \n",
      "    system(command)\n",
      "        Execute the command in a subshell.\n",
      "    \n",
      "    tcgetpgrp(fd, /)\n",
      "        Return the process group associated with the terminal specified by fd.\n",
      "    \n",
      "    tcsetpgrp(fd, pgid, /)\n",
      "        Set the process group associated with the terminal specified by fd.\n",
      "    \n",
      "    times()\n",
      "        Return a collection containing process timing information.\n",
      "        \n",
      "        The object returned behaves like a named tuple with these fields:\n",
      "          (utime, stime, cutime, cstime, elapsed_time)\n",
      "        All fields are floating point numbers.\n",
      "    \n",
      "    truncate(path, length)\n",
      "        Truncate a file, specified by path, to a specific length.\n",
      "        \n",
      "        On some platforms, path may also be specified as an open file descriptor.\n",
      "          If this functionality is unavailable, using it raises an exception.\n",
      "    \n",
      "    ttyname(fd, /)\n",
      "        Return the name of the terminal device connected to 'fd'.\n",
      "        \n",
      "        fd\n",
      "          Integer file descriptor handle.\n",
      "    \n",
      "    umask(mask, /)\n",
      "        Set the current numeric umask and return the previous umask.\n",
      "    \n",
      "    uname()\n",
      "        Return an object identifying the current operating system.\n",
      "        \n",
      "        The object behaves like a named tuple with the following fields:\n",
      "          (sysname, nodename, release, version, machine)\n",
      "    \n",
      "    unlink(path, *, dir_fd=None)\n",
      "        Remove a file (same as remove()).\n",
      "        \n",
      "        If dir_fd is not None, it should be a file descriptor open to a directory,\n",
      "          and path should be relative; path will then be relative to that directory.\n",
      "        dir_fd may not be implemented on your platform.\n",
      "          If it is unavailable, using it will raise a NotImplementedError.\n",
      "    \n",
      "    unsetenv(name, /)\n",
      "        Delete an environment variable.\n",
      "    \n",
      "    urandom(size, /)\n",
      "        Return a bytes object containing random bytes suitable for cryptographic use.\n",
      "    \n",
      "    utime(...)\n",
      "        Set the access and modified time of path.\n",
      "        \n",
      "        path may always be specified as a string.\n",
      "        On some platforms, path may also be specified as an open file descriptor.\n",
      "          If this functionality is unavailable, using it raises an exception.\n",
      "        \n",
      "        If times is not None, it must be a tuple (atime, mtime);\n",
      "            atime and mtime should be expressed as float seconds since the epoch.\n",
      "        If ns is specified, it must be a tuple (atime_ns, mtime_ns);\n",
      "            atime_ns and mtime_ns should be expressed as integer nanoseconds\n",
      "            since the epoch.\n",
      "        If times is None and ns is unspecified, utime uses the current time.\n",
      "        Specifying tuples for both times and ns is an error.\n",
      "        \n",
      "        If dir_fd is not None, it should be a file descriptor open to a directory,\n",
      "          and path should be relative; path will then be relative to that directory.\n",
      "        If follow_symlinks is False, and the last element of the path is a symbolic\n",
      "          link, utime will modify the symbolic link itself instead of the file the\n",
      "          link points to.\n",
      "        It is an error to use dir_fd or follow_symlinks when specifying path\n",
      "          as an open file descriptor.\n",
      "        dir_fd and follow_symlinks may not be available on your platform.\n",
      "          If they are unavailable, using them will raise a NotImplementedError.\n",
      "    \n",
      "    wait()\n",
      "        Wait for completion of a child process.\n",
      "        \n",
      "        Returns a tuple of information about the child process:\n",
      "            (pid, status)\n",
      "    \n",
      "    wait3(options)\n",
      "        Wait for completion of a child process.\n",
      "        \n",
      "        Returns a tuple of information about the child process:\n",
      "          (pid, status, rusage)\n",
      "    \n",
      "    wait4(pid, options)\n",
      "        Wait for completion of a specific child process.\n",
      "        \n",
      "        Returns a tuple of information about the child process:\n",
      "          (pid, status, rusage)\n",
      "    \n",
      "    waitid(idtype, id, options, /)\n",
      "        Returns the result of waiting for a process or processes.\n",
      "        \n",
      "          idtype\n",
      "            Must be one of be P_PID, P_PGID or P_ALL.\n",
      "          id\n",
      "            The id to wait on.\n",
      "          options\n",
      "            Constructed from the ORing of one or more of WEXITED, WSTOPPED\n",
      "            or WCONTINUED and additionally may be ORed with WNOHANG or WNOWAIT.\n",
      "        \n",
      "        Returns either waitid_result or None if WNOHANG is specified and there are\n",
      "        no children in a waitable state.\n",
      "    \n",
      "    waitpid(pid, options, /)\n",
      "        Wait for completion of a given child process.\n",
      "        \n",
      "        Returns a tuple of information regarding the child process:\n",
      "            (pid, status)\n",
      "        \n",
      "        The options argument is ignored on Windows.\n",
      "    \n",
      "    walk(top, topdown=True, onerror=None, followlinks=False)\n",
      "        Directory tree generator.\n",
      "        \n",
      "        For each directory in the directory tree rooted at top (including top\n",
      "        itself, but excluding '.' and '..'), yields a 3-tuple\n",
      "        \n",
      "            dirpath, dirnames, filenames\n",
      "        \n",
      "        dirpath is a string, the path to the directory.  dirnames is a list of\n",
      "        the names of the subdirectories in dirpath (excluding '.' and '..').\n",
      "        filenames is a list of the names of the non-directory files in dirpath.\n",
      "        Note that the names in the lists are just names, with no path components.\n",
      "        To get a full path (which begins with top) to a file or directory in\n",
      "        dirpath, do os.path.join(dirpath, name).\n",
      "        \n",
      "        If optional arg 'topdown' is true or not specified, the triple for a\n",
      "        directory is generated before the triples for any of its subdirectories\n",
      "        (directories are generated top down).  If topdown is false, the triple\n",
      "        for a directory is generated after the triples for all of its\n",
      "        subdirectories (directories are generated bottom up).\n",
      "        \n",
      "        When topdown is true, the caller can modify the dirnames list in-place\n",
      "        (e.g., via del or slice assignment), and walk will only recurse into the\n",
      "        subdirectories whose names remain in dirnames; this can be used to prune the\n",
      "        search, or to impose a specific order of visiting.  Modifying dirnames when\n",
      "        topdown is false has no effect on the behavior of os.walk(), since the\n",
      "        directories in dirnames have already been generated by the time dirnames\n",
      "        itself is generated. No matter the value of topdown, the list of\n",
      "        subdirectories is retrieved before the tuples for the directory and its\n",
      "        subdirectories are generated.\n",
      "        \n",
      "        By default errors from the os.scandir() call are ignored.  If\n",
      "        optional arg 'onerror' is specified, it should be a function; it\n",
      "        will be called with one argument, an OSError instance.  It can\n",
      "        report the error to continue with the walk, or raise the exception\n",
      "        to abort the walk.  Note that the filename is available as the\n",
      "        filename attribute of the exception object.\n",
      "        \n",
      "        By default, os.walk does not follow symbolic links to subdirectories on\n",
      "        systems that support them.  In order to get this functionality, set the\n",
      "        optional argument 'followlinks' to true.\n",
      "        \n",
      "        Caution:  if you pass a relative pathname for top, don't change the\n",
      "        current working directory between resumptions of walk.  walk never\n",
      "        changes the current directory, and assumes that the client doesn't\n",
      "        either.\n",
      "        \n",
      "        Example:\n",
      "        \n",
      "        import os\n",
      "        from os.path import join, getsize\n",
      "        for root, dirs, files in os.walk('python/Lib/email'):\n",
      "            print(root, \"consumes\", end=\"\")\n",
      "            print(sum(getsize(join(root, name)) for name in files), end=\"\")\n",
      "            print(\"bytes in\", len(files), \"non-directory files\")\n",
      "            if 'CVS' in dirs:\n",
      "                dirs.remove('CVS')  # don't visit CVS directories\n",
      "    \n",
      "    write(fd, data, /)\n",
      "        Write a bytes object to a file descriptor.\n",
      "    \n",
      "    writev(fd, buffers, /)\n",
      "        Iterate over buffers, and write the contents of each to a file descriptor.\n",
      "        \n",
      "        Returns the total number of bytes written.\n",
      "        buffers must be a sequence of bytes-like objects.\n",
      "\n",
      "DATA\n",
      "    CLD_CONTINUED = 6\n",
      "    CLD_DUMPED = 3\n",
      "    CLD_EXITED = 1\n",
      "    CLD_TRAPPED = 4\n",
      "    EX_CANTCREAT = 73\n",
      "    EX_CONFIG = 78\n",
      "    EX_DATAERR = 65\n",
      "    EX_IOERR = 74\n",
      "    EX_NOHOST = 68\n",
      "    EX_NOINPUT = 66\n",
      "    EX_NOPERM = 77\n",
      "    EX_NOUSER = 67\n",
      "    EX_OK = 0\n",
      "    EX_OSERR = 71\n",
      "    EX_OSFILE = 72\n",
      "    EX_PROTOCOL = 76\n",
      "    EX_SOFTWARE = 70\n",
      "    EX_TEMPFAIL = 75\n",
      "    EX_UNAVAILABLE = 69\n",
      "    EX_USAGE = 64\n",
      "    F_LOCK = 1\n",
      "    F_OK = 0\n",
      "    F_TEST = 3\n",
      "    F_TLOCK = 2\n",
      "    F_ULOCK = 0\n",
      "    GRND_NONBLOCK = 1\n",
      "    GRND_RANDOM = 2\n",
      "    MFD_ALLOW_SEALING = 2\n",
      "    MFD_CLOEXEC = 1\n",
      "    MFD_HUGETLB = 4\n",
      "    MFD_HUGE_16GB = -2013265920\n",
      "    MFD_HUGE_16MB = 1610612736\n",
      "    MFD_HUGE_1GB = 2013265920\n",
      "    MFD_HUGE_1MB = 1342177280\n",
      "    MFD_HUGE_256MB = 1879048192\n",
      "    MFD_HUGE_2GB = 2080374784\n",
      "    MFD_HUGE_2MB = 1409286144\n",
      "    MFD_HUGE_32MB = 1677721600\n",
      "    MFD_HUGE_512KB = 1275068416\n",
      "    MFD_HUGE_512MB = 1946157056\n",
      "    MFD_HUGE_64KB = 1073741824\n",
      "    MFD_HUGE_8MB = 1543503872\n",
      "    MFD_HUGE_MASK = 63\n",
      "    MFD_HUGE_SHIFT = 26\n",
      "    NGROUPS_MAX = 65536\n",
      "    O_ACCMODE = 3\n",
      "    O_APPEND = 1024\n",
      "    O_ASYNC = 8192\n",
      "    O_CLOEXEC = 524288\n",
      "    O_CREAT = 64\n",
      "    O_DIRECT = 16384\n",
      "    O_DIRECTORY = 65536\n",
      "    O_DSYNC = 4096\n",
      "    O_EXCL = 128\n",
      "    O_LARGEFILE = 0\n",
      "    O_NDELAY = 2048\n",
      "    O_NOATIME = 262144\n",
      "    O_NOCTTY = 256\n",
      "    O_NOFOLLOW = 131072\n",
      "    O_NONBLOCK = 2048\n",
      "    O_PATH = 2097152\n",
      "    O_RDONLY = 0\n",
      "    O_RDWR = 2\n",
      "    O_RSYNC = 1052672\n",
      "    O_SYNC = 1052672\n",
      "    O_TMPFILE = 4259840\n",
      "    O_TRUNC = 512\n",
      "    O_WRONLY = 1\n",
      "    POSIX_FADV_DONTNEED = 4\n",
      "    POSIX_FADV_NOREUSE = 5\n",
      "    POSIX_FADV_NORMAL = 0\n",
      "    POSIX_FADV_RANDOM = 1\n",
      "    POSIX_FADV_SEQUENTIAL = 2\n",
      "    POSIX_FADV_WILLNEED = 3\n",
      "    POSIX_SPAWN_CLOSE = 1\n",
      "    POSIX_SPAWN_DUP2 = 2\n",
      "    POSIX_SPAWN_OPEN = 0\n",
      "    PRIO_PGRP = 1\n",
      "    PRIO_PROCESS = 0\n",
      "    PRIO_USER = 2\n",
      "    P_ALL = 0\n",
      "    P_NOWAIT = 1\n",
      "    P_NOWAITO = 1\n",
      "    P_PGID = 2\n",
      "    P_PID = 1\n",
      "    P_WAIT = 0\n",
      "    RTLD_DEEPBIND = 8\n",
      "    RTLD_GLOBAL = 256\n",
      "    RTLD_LAZY = 1\n",
      "    RTLD_LOCAL = 0\n",
      "    RTLD_NODELETE = 4096\n",
      "    RTLD_NOLOAD = 4\n",
      "    RTLD_NOW = 2\n",
      "    RWF_DSYNC = 2\n",
      "    RWF_HIPRI = 1\n",
      "    RWF_NOWAIT = 8\n",
      "    RWF_SYNC = 4\n",
      "    R_OK = 4\n",
      "    SCHED_BATCH = 3\n",
      "    SCHED_FIFO = 1\n",
      "    SCHED_IDLE = 5\n",
      "    SCHED_OTHER = 0\n",
      "    SCHED_RESET_ON_FORK = 1073741824\n",
      "    SCHED_RR = 2\n",
      "    SEEK_CUR = 1\n",
      "    SEEK_DATA = 3\n",
      "    SEEK_END = 2\n",
      "    SEEK_HOLE = 4\n",
      "    SEEK_SET = 0\n",
      "    ST_APPEND = 256\n",
      "    ST_MANDLOCK = 64\n",
      "    ST_NOATIME = 1024\n",
      "    ST_NODEV = 4\n",
      "    ST_NODIRATIME = 2048\n",
      "    ST_NOEXEC = 8\n",
      "    ST_NOSUID = 2\n",
      "    ST_RDONLY = 1\n",
      "    ST_RELATIME = 4096\n",
      "    ST_SYNCHRONOUS = 16\n",
      "    ST_WRITE = 128\n",
      "    TMP_MAX = 238328\n",
      "    WCONTINUED = 8\n",
      "    WEXITED = 4\n",
      "    WNOHANG = 1\n",
      "    WNOWAIT = 16777216\n",
      "    WSTOPPED = 2\n",
      "    WUNTRACED = 2\n",
      "    W_OK = 2\n",
      "    XATTR_CREATE = 1\n",
      "    XATTR_REPLACE = 2\n",
      "    XATTR_SIZE_MAX = 65536\n",
      "    X_OK = 1\n",
      "    __all__ = ['altsep', 'curdir', 'pardir', 'sep', 'pathsep', 'linesep', ...\n",
      "    altsep = None\n",
      "    confstr_names = {'CS_GNU_LIBC_VERSION': 2, 'CS_GNU_LIBPTHREAD_VERSION'...\n",
      "    curdir = '.'\n",
      "    defpath = '/bin:/usr/bin'\n",
      "    devnull = '/dev/null'\n",
      "    environ = environ({'SHELL': '/bin/bash', 'SESSION_MANAGER'...END': 'mo...\n",
      "    environb = environ({b'SHELL': b'/bin/bash', b'SESSION_MANAG...ND': b'm...\n",
      "    extsep = '.'\n",
      "    linesep = '\\n'\n",
      "    name = 'posix'\n",
      "    pardir = '..'\n",
      "    pathconf_names = {'PC_ALLOC_SIZE_MIN': 18, 'PC_ASYNC_IO': 10, 'PC_CHOW...\n",
      "    pathsep = ':'\n",
      "    sep = '/'\n",
      "    supports_bytes_environ = True\n",
      "    sysconf_names = {'SC_2_CHAR_TERM': 95, 'SC_2_C_BIND': 47, 'SC_2_C_DEV'...\n",
      "\n",
      "FILE\n",
      "    /usr/lib/python3.8/os.py\n",
      "\n",
      "\n"
     ]
    }
   ],
   "source": [
    "help('os')"
   ]
  },
  {
   "cell_type": "code",
   "execution_count": 4,
   "metadata": {},
   "outputs": [
    {
     "name": "stdout",
     "output_type": "stream",
     "text": [
      "Help on built-in function __new__:\n",
      "\n",
      "__new__(*args, **kwargs) method of builtins.type instance\n",
      "    Create and return a new object.  See help(type) for accurate signature.\n",
      "\n"
     ]
    }
   ],
   "source": [
    "help('__new__')"
   ]
  },
  {
   "cell_type": "markdown",
   "metadata": {},
   "source": [
    "<h3>hex(x)</h3>\n",
    "\n",
    "        Convert an integer number to a lowercase hexadecimal string prefixed with '0x'. If x is not a python int object, it has to define an __index__() method that return an integer. "
   ]
  },
  {
   "cell_type": "code",
   "execution_count": 7,
   "metadata": {},
   "outputs": [
    {
     "name": "stdout",
     "output_type": "stream",
     "text": [
      "0xff\n",
      "-0x2a\n"
     ]
    }
   ],
   "source": [
    "print(hex(255))\n",
    "print(hex(-42))"
   ]
  },
  {
   "cell_type": "markdown",
   "metadata": {},
   "source": [
    "<h3>id(object)</h3>\n",
    "\n",
    "        Return the 'identity' of an object. This is an integer which is guaranteed to be unique and constant for this object during its lifetime.. Two objects with non-overlapping lifetimes may hava the same id() value."
   ]
  },
  {
   "cell_type": "code",
   "execution_count": 9,
   "metadata": {},
   "outputs": [
    {
     "name": "stdout",
     "output_type": "stream",
     "text": [
      "9784896\n",
      "139903849915120\n"
     ]
    }
   ],
   "source": [
    "a = 2\n",
    "print(id(a))\n",
    "print(id(str()))"
   ]
  },
  {
   "cell_type": "markdown",
   "metadata": {},
   "source": [
    "<h3>input([prompt])</h3>\n",
    "\n",
    "        If the prompt argument is present, it is written to standard output without a trailing newline. The function then reads a line from input, converts it to a string(stripping a trailing newline), and returns that. When EOF is read, EOFError is raised.\n",
    "        If the readline module was loaded, then input() will use it to provide elaborate line editing and history features."
   ]
  },
  {
   "cell_type": "code",
   "execution_count": 12,
   "metadata": {},
   "outputs": [
    {
     "name": "stdout",
     "output_type": "stream",
     "text": [
      "-->Hello\n"
     ]
    }
   ],
   "source": [
    "s = input('-->')"
   ]
  },
  {
   "cell_type": "markdown",
   "metadata": {},
   "source": [
    "<h3>class int([x])<br>\n",
    "    class int (x,base = 10)</h3>\n",
    "    \n",
    "        Return an integer object constructed from a number or string x, or return 0 if no arguments are given.If x defines __int__(), int(x) returns x.__int__(). If x defines __index__(), it returns x.__index__(). If x defines __trunc__(), it returns x.__truncs__(). For floating point numbers, this truncates towards zero.\n",
    "        If x is not a number or if base is given, then x must be a string, bytes, or bytearray instance representing an integer literal in radix base. Optionally, the literal can be preceded by + or -(with no space in between) and surrounded by whitespace. A base-n literal consists of the digits 0 to n-1, with a to z (or A to Z) having values 10 to 35. The defaut base is 10. The allowed values are 0 and 2-36. Base-2, -8, and -'16 literals can be optionally prefixed with 0b/0B, or 0x/0X, as with integer literals in code. Base 0 means to interpret exactly as a code literal, so that the actual base is 2,8,10 or 16, and so that int('010',0) is not legal, while int('010') is , as well as int('010',8)."
   ]
  },
  {
   "cell_type": "code",
   "execution_count": 17,
   "metadata": {},
   "outputs": [
    {
     "name": "stdout",
     "output_type": "stream",
     "text": [
      "222\n",
      "222\n"
     ]
    }
   ],
   "source": [
    "print(int('222'))\n",
    "print(int(222.22))"
   ]
  },
  {
   "cell_type": "code",
   "execution_count": 19,
   "metadata": {},
   "outputs": [
    {
     "name": "stdout",
     "output_type": "stream",
     "text": [
      "For 1010, int is: 10\n",
      "For 0b1010, int is: 10\n",
      "For 12, int is: 10\n",
      "For 0o12, int is: 10\n",
      "For A, int is: 10\n",
      "For 0xA, int is: 10\n"
     ]
    }
   ],
   "source": [
    "# binary 0b or 0B\n",
    "print(\"For 1010, int is:\", int('1010', 2))\n",
    "print(\"For 0b1010, int is:\", int('0b1010', 2))\n",
    "\n",
    "# octal 0o or 0O\n",
    "print(\"For 12, int is:\", int('12', 8))\n",
    "print(\"For 0o12, int is:\", int('0o12', 8))\n",
    "\n",
    "# hexadecimal\n",
    "print(\"For A, int is:\", int('A', 16))\n",
    "print(\"For 0xA, int is:\", int('0xA', 16))"
   ]
  },
  {
   "cell_type": "code",
   "execution_count": 24,
   "metadata": {},
   "outputs": [
    {
     "name": "stdout",
     "output_type": "stream",
     "text": [
      "int(person) is: 23\n"
     ]
    }
   ],
   "source": [
    "#if there isn't __int__() , __index__() is returned\n",
    "class Person:\n",
    "    age = 23\n",
    "    salary = 22\n",
    "\n",
    "    def __index__(self):\n",
    "        return self.salary\n",
    "    \n",
    "    def __int__(self):\n",
    "        return self.age\n",
    "\n",
    "person = Person()\n",
    "print('int(person) is:', int(person))"
   ]
  },
  {
   "cell_type": "markdown",
   "metadata": {},
   "source": [
    "<h3>isinstance(object,classinfo)</h3>\n",
    "\n",
    "        Return True if the object is an instance of the classinfo argument, or of a (direct,indirect or virtual) subclass thereof. If object is not an object of the given type, the function always returns False. If classinfo is a tuple of type objects(or recursively, other such tuples), return True if object is an instance of any of the types. If classinfo is not a type or tuple of types and such tuples, a TypeError exception is raised."
   ]
  },
  {
   "cell_type": "code",
   "execution_count": 37,
   "metadata": {},
   "outputs": [
    {
     "name": "stdout",
     "output_type": "stream",
     "text": [
      "True\n",
      "False\n",
      "True\n"
     ]
    }
   ],
   "source": [
    "class Foo:\n",
    "    a = 5\n",
    "    \n",
    "fooinstance = Foo()\n",
    "\n",
    "print(isinstance(fooinstance, Foo))\n",
    "print(isinstance(fooinstance, (list,tuple)))\n",
    "print(isinstance(fooinstance, (list,tuple, Foo)))\n"
   ]
  },
  {
   "cell_type": "code",
   "execution_count": 38,
   "metadata": {},
   "outputs": [
    {
     "name": "stdout",
     "output_type": "stream",
     "text": [
      "True\n",
      "False\n",
      "True\n",
      "False\n"
     ]
    }
   ],
   "source": [
    "numbers = [1,2,3]\n",
    "print(isinstance(numbers,list))\n",
    "print(isinstance(numbers,dict))\n",
    "n = 5\n",
    "print(isinstance(n,int))\n",
    "print(isinstance(n,str))\n"
   ]
  },
  {
   "cell_type": "markdown",
   "metadata": {},
   "source": [
    "<h3>issubclass(class,classinfo)</h3>\n",
    "\n",
    "        Return True if class is a subclass(direct, indirect or virtual) of classinfo.A class is considered a subclass of itself. classinfo may be a tuple of class objects, in which case every entry in classinfo will be checked. In any other case, a TypeError exception is raised."
   ]
  },
  {
   "cell_type": "code",
   "execution_count": 45,
   "metadata": {},
   "outputs": [
    {
     "name": "stdout",
     "output_type": "stream",
     "text": [
      "True\n",
      "False\n",
      "True\n",
      "True\n"
     ]
    }
   ],
   "source": [
    "class Polygon:\n",
    "    def __init__(polygonType):\n",
    "        print('Polygon is a ' ,polygonType)\n",
    "        \n",
    "class Triangle(Polygon):\n",
    "    def __init__(self):\n",
    "        Polygon.__init__('triangle')\n",
    "        \n",
    "print(issubclass(Triangle,Polygon))\n",
    "print(issubclass(Triangle,list))\n",
    "print(issubclass(Triangle, (list,Polygon)))\n",
    "print(issubclass(Polygon,(list,Polygon)))"
   ]
  },
  {
   "cell_type": "markdown",
   "metadata": {},
   "source": [
    "<h3>iter(object[,sentinel])</h3>\n",
    "\n",
    "        Return an iterator object. The first argument is interpreted very differently depending on the presence of the second argument.Without a second argument, object must be a collection object which supports the iteration protocol(the __iter__() method), or it must support the sequence protocol(the __getitem__() method with integer arguments starting at 0). If it does not support either of those protocols, TypeError is raised. If the second argument, sentinel, is given, then object must be a callable object. The iterator created in this case will call object with no arguments for each call to its __next__() method; if the value returned is equal to sentinel, StopIteration will be raised, otherwise the value will be returned.\n",
    "        One useful application of the second form of iter() is to build a block-reader. For example, reading fixed-width blocks from a binary database file until the end of file is reached.\n",
    "        \n",
    "        from functools import partial\n",
    "            with open('mydata.db', 'rb') as f:\n",
    "                for block in iter(partial(f.read,64),b''):\n",
    "                    process_block(block)\n",
    "                    \n",
    "        sentinel(optional) - special value that is used to represent the end of a sequence"
   ]
  },
  {
   "cell_type": "code",
   "execution_count": 53,
   "metadata": {},
   "outputs": [
    {
     "name": "stdout",
     "output_type": "stream",
     "text": [
      "1\n",
      "2\n",
      "3\n",
      "4\n",
      "5\n"
     ]
    }
   ],
   "source": [
    "numbers = [1,2,3,4,5]\n",
    "numbers_iter = iter(numbers)\n",
    "\n",
    "print(next(numbers_iter))\n",
    "print(next(numbers_iter))\n",
    "print(next(numbers_iter))\n",
    "print(next(numbers_iter))\n",
    "print(next(numbers_iter))"
   ]
  },
  {
   "cell_type": "code",
   "execution_count": 50,
   "metadata": {},
   "outputs": [
    {
     "name": "stdout",
     "output_type": "stream",
     "text": [
      "1\n",
      "2\n",
      "3\n"
     ]
    },
    {
     "ename": "StopIteration",
     "evalue": "",
     "output_type": "error",
     "traceback": [
      "\u001b[0;31m---------------------------------------------------------------------------\u001b[0m",
      "\u001b[0;31mStopIteration\u001b[0m                             Traceback (most recent call last)",
      "\u001b[0;32m<ipython-input-50-2efbcc953286>\u001b[0m in \u001b[0;36m<module>\u001b[0;34m\u001b[0m\n\u001b[1;32m     18\u001b[0m \u001b[0mprint\u001b[0m\u001b[0;34m(\u001b[0m\u001b[0mnext\u001b[0m\u001b[0;34m(\u001b[0m\u001b[0mprint_num_iter\u001b[0m\u001b[0;34m)\u001b[0m\u001b[0;34m)\u001b[0m\u001b[0;34m\u001b[0m\u001b[0;34m\u001b[0m\u001b[0m\n\u001b[1;32m     19\u001b[0m \u001b[0mprint\u001b[0m\u001b[0;34m(\u001b[0m\u001b[0mnext\u001b[0m\u001b[0;34m(\u001b[0m\u001b[0mprint_num_iter\u001b[0m\u001b[0;34m)\u001b[0m\u001b[0;34m)\u001b[0m\u001b[0;34m\u001b[0m\u001b[0;34m\u001b[0m\u001b[0m\n\u001b[0;32m---> 20\u001b[0;31m \u001b[0mprint\u001b[0m\u001b[0;34m(\u001b[0m\u001b[0mnext\u001b[0m\u001b[0;34m(\u001b[0m\u001b[0mprint_num_iter\u001b[0m\u001b[0;34m)\u001b[0m\u001b[0;34m)\u001b[0m\u001b[0;34m\u001b[0m\u001b[0;34m\u001b[0m\u001b[0m\n\u001b[0m\u001b[1;32m     21\u001b[0m \u001b[0;34m\u001b[0m\u001b[0m\n",
      "\u001b[0;32m<ipython-input-50-2efbcc953286>\u001b[0m in \u001b[0;36m__next__\u001b[0;34m(self)\u001b[0m\n\u001b[1;32m      9\u001b[0m     \u001b[0;32mdef\u001b[0m \u001b[0m__next__\u001b[0m\u001b[0;34m(\u001b[0m\u001b[0mself\u001b[0m\u001b[0;34m)\u001b[0m\u001b[0;34m:\u001b[0m\u001b[0;34m\u001b[0m\u001b[0;34m\u001b[0m\u001b[0m\n\u001b[1;32m     10\u001b[0m         \u001b[0;32mif\u001b[0m \u001b[0mself\u001b[0m\u001b[0;34m.\u001b[0m\u001b[0mnum\u001b[0m \u001b[0;34m>=\u001b[0m\u001b[0mself\u001b[0m\u001b[0;34m.\u001b[0m\u001b[0mmax\u001b[0m\u001b[0;34m:\u001b[0m\u001b[0;34m\u001b[0m\u001b[0;34m\u001b[0m\u001b[0m\n\u001b[0;32m---> 11\u001b[0;31m             \u001b[0;32mraise\u001b[0m \u001b[0mStopIteration\u001b[0m\u001b[0;34m\u001b[0m\u001b[0;34m\u001b[0m\u001b[0m\n\u001b[0m\u001b[1;32m     12\u001b[0m         \u001b[0mself\u001b[0m\u001b[0;34m.\u001b[0m\u001b[0mnum\u001b[0m \u001b[0;34m+=\u001b[0m\u001b[0;36m1\u001b[0m\u001b[0;34m\u001b[0m\u001b[0;34m\u001b[0m\u001b[0m\n\u001b[1;32m     13\u001b[0m         \u001b[0;32mreturn\u001b[0m \u001b[0mself\u001b[0m\u001b[0;34m.\u001b[0m\u001b[0mnum\u001b[0m\u001b[0;34m\u001b[0m\u001b[0;34m\u001b[0m\u001b[0m\n",
      "\u001b[0;31mStopIteration\u001b[0m: "
     ]
    }
   ],
   "source": [
    "class PrintNumber:\n",
    "    def __init__(self,max):\n",
    "        self.max = max\n",
    "        \n",
    "    def __iter__(self):\n",
    "        self.num = 0\n",
    "        return self\n",
    "    \n",
    "    def __next__(self):\n",
    "        if self.num >=self.max:\n",
    "            raise StopIteration\n",
    "        self.num +=1\n",
    "        return self.num\n",
    "\n",
    "print_num = PrintNumber(3)\n",
    "print_num_iter = iter(print_num)\n",
    "print(next(print_num_iter))\n",
    "print(next(print_num_iter))\n",
    "print(next(print_num_iter))\n",
    "print(next(print_num_iter))\n",
    "      "
   ]
  },
  {
   "cell_type": "code",
   "execution_count": 51,
   "metadata": {},
   "outputs": [
    {
     "name": "stdout",
     "output_type": "stream",
     "text": [
      "2\n",
      "4\n",
      "8\n"
     ]
    }
   ],
   "source": [
    "class DoubleIt:\n",
    "    def __init__(self):\n",
    "        self.start = 1\n",
    "        \n",
    "    def __iter__(self):\n",
    "        return self\n",
    "    \n",
    "    def __next__(self):\n",
    "        self.start *=2\n",
    "        return self.start\n",
    "    \n",
    "    __call__ = __next__\n",
    "    \n",
    "my_iter = iter(DoubleIt(), 16)\n",
    "\n",
    "for x in my_iter:\n",
    "    print(x)"
   ]
  },
  {
   "cell_type": "markdown",
   "metadata": {},
   "source": [
    "<h3>len(s)</h3>\n",
    "\n",
    "        Return the lenght(the number of items) of an object. The argument may be a sequence (such as a string, bytes,tuple,list or range) or a collection(such as a dictionary,set, or frozen set)."
   ]
  },
  {
   "cell_type": "code",
   "execution_count": 56,
   "metadata": {},
   "outputs": [
    {
     "name": "stdout",
     "output_type": "stream",
     "text": [
      "5\n",
      "10\n",
      "5\n",
      "2\n"
     ]
    }
   ],
   "source": [
    "print(len([1,2,3,4,5]))\n",
    "print(len(range(10)))\n",
    "print(len('Bruno'))\n",
    "print(len({'um':1,'dois':2}))"
   ]
  },
  {
   "cell_type": "code",
   "execution_count": 58,
   "metadata": {},
   "outputs": [
    {
     "name": "stdout",
     "output_type": "stream",
     "text": [
      "0\n",
      "6\n"
     ]
    }
   ],
   "source": [
    "class Session:\n",
    "    def __init__(self,number = 0):\n",
    "        self.number = number\n",
    "    \n",
    "    def __len__(self):\n",
    "        return self.number\n",
    "    \n",
    "s1 = Session()\n",
    "print(len(s1))\n",
    "\n",
    "s2 = Session(6)\n",
    "print(len(s2))"
   ]
  },
  {
   "cell_type": "markdown",
   "metadata": {},
   "source": [
    "<h3>class list([iterable])</h3>\n",
    "\n",
    "        Rather than being a function, list is actually a mutable sequence type, as documented in Lists and Sequences types - list,tuple, range."
   ]
  },
  {
   "cell_type": "code",
   "execution_count": 1,
   "metadata": {},
   "outputs": [
    {
     "name": "stdout",
     "output_type": "stream",
     "text": [
      "[]\n",
      "['a', 'e', 'i', 'o', 'u']\n",
      "['a', 'e', 'i', 'o', 'u']\n",
      "['a', 'e', 'i', 'o', 'u']\n"
     ]
    }
   ],
   "source": [
    "print(list())\n",
    "print(list('aeiou'))\n",
    "print(list(['a','e','i','o','u']))\n",
    "print(list(('a','e','i','o','u')))"
   ]
  },
  {
   "cell_type": "code",
   "execution_count": 3,
   "metadata": {},
   "outputs": [
    {
     "name": "stdout",
     "output_type": "stream",
     "text": [
      "['o', 'a', 'u', 'i', 'e']\n",
      "['a', 'e', 'i', 'o', 'u']\n"
     ]
    }
   ],
   "source": [
    "#vowel set\n",
    "print(list({'a','e','i','o','u'}))\n",
    "\n",
    "#vowel dictionary\n",
    "print(list({'a':1,'e':2,'i':3,'o':4,'u':5}))"
   ]
  },
  {
   "cell_type": "code",
   "execution_count": 9,
   "metadata": {},
   "outputs": [
    {
     "name": "stdout",
     "output_type": "stream",
     "text": [
      "[0, 2, 4, 6, 8]\n"
     ]
    }
   ],
   "source": [
    "#objects of this class are iterators\n",
    "class PowTwo:\n",
    "    def __init__(self,max):\n",
    "        self.max = max\n",
    "        \n",
    "    def __iter__(self):\n",
    "        self.num = 0\n",
    "        return self\n",
    "    \n",
    "    def __next__(self):\n",
    "        if self.num >= self.max:\n",
    "            raise StopIteration\n",
    "        result = 2 * self.num\n",
    "        self.num += 1\n",
    "        return result\n",
    "\n",
    "pow_two = PowTwo(5)\n",
    "pow_two_iter = iter(pow_two)\n",
    "print(list(pow_two_iter))"
   ]
  },
  {
   "cell_type": "markdown",
   "metadata": {},
   "source": [
    "<h3>locals()</h3>\n",
    "\n",
    "        Update and return a dictionary representing the current local symbol table. Free variables are returned by locals() hwne it is called in function blocks, but not in class blocks. Note that at the module level, locals() and globals(), are the same dictionary.\n",
    "        \n",
    "        Note: The contents of this dictionary should not be modified; changes may not affect the values of local and free variables used by the interpreter"
   ]
  },
  {
   "cell_type": "code",
   "execution_count": 12,
   "metadata": {},
   "outputs": [
    {
     "name": "stdout",
     "output_type": "stream",
     "text": [
      "{}\n",
      "{'present': True}\n"
     ]
    }
   ],
   "source": [
    "def localsNotPresent():\n",
    "    return locals()\n",
    "\n",
    "def localpresent():\n",
    "    present = True\n",
    "    return locals()\n",
    "\n",
    "print(localsNotPresent())\n",
    "print(localpresent())"
   ]
  },
  {
   "cell_type": "code",
   "execution_count": 14,
   "metadata": {},
   "outputs": [
    {
     "name": "stdout",
     "output_type": "stream",
     "text": [
      "True\n",
      "True\n"
     ]
    }
   ],
   "source": [
    "#Unlike, globals() dictionary which reflects the change to the actual global table, locals() dictionary may \n",
    "#not change the information inside the locals table.\n",
    "def localsPresent():\n",
    "    present = True\n",
    "    print(present)\n",
    "    locals()['present'] = False\n",
    "    print(present)\n",
    "localsPresent()"
   ]
  },
  {
   "cell_type": "code",
   "execution_count": 15,
   "metadata": {},
   "outputs": [
    {
     "data": {
      "text/plain": [
       "{'__name__': '__main__',\n",
       " '__doc__': 'Automatically created module for IPython interactive environment',\n",
       " '__package__': None,\n",
       " '__loader__': None,\n",
       " '__spec__': None,\n",
       " '__builtin__': <module 'builtins' (built-in)>,\n",
       " '__builtins__': <module 'builtins' (built-in)>,\n",
       " '_ih': ['',\n",
       "  \"print(list())\\nprint(list('aeiou'))\\nprint(list(['a','e','i','o','u']))\\nprint(list(('a','e','i','o','u')))\",\n",
       "  \"#vowel set\\nprint(list({'a','e','i','o','u'}))\\n\\n#vowel dictionary\\nprint(list({'a':1,'e':2,'i':3,'o':4,'u':5}))\",\n",
       "  \"#vowel set\\nprint(list({'a','e','i','o','u'}))\\n\\n#vowel dictionary\\nprint(list({'a':1,'e':2,'i':3,'o':4,'u':5}))\",\n",
       "  '#objects of this class are iterators\\nclass PowTwo:\\n    def __init__(self,max):\\n        self.max = max\\n        \\n    def __iter__(self):\\n        self.num = 0\\n        return self\\n    \\n    def __next__(self):\\n        if self.num >= self.max:\\n            raise StopIteration\\n        result = 2 * self.num\\n        self.num += 1\\n        return result\\n\\npow_two = PowTwo(5)\\npow_two_iter = iter(pow_two)\\n\\nprint(list(pow_two_iter))',\n",
       "  '#objects of this class are iterators\\nclass PowTwo:\\n    def __init__(self,max):\\n        self.max = max\\n        \\n    def __iter__(self):\\n        self.num = 0\\n        return self\\n    \\n    def __next__(self):\\n        if self.num >= self.max:\\n            raise StopIteration\\n        result = 2 * self.num\\n        self.num += 1\\n        return result\\n\\npow_two = PowTwo(5)\\npow_two_iter = iter(pow_two)\\npow_two_iter.__next__()\\nprint(list(pow_two_iter))',\n",
       "  '#objects of this class are iterators\\nclass PowTwo:\\n    def __init__(self,max):\\n        self.max = max\\n        \\n    def __iter__(self):\\n        self.num = 0\\n        return self\\n    \\n    def __next__(self):\\n        if self.num >= self.max:\\n            raise StopIteration\\n        result = 2 * self.num\\n        self.num += 1\\n        return result\\n\\npow_two = PowTwo(5)\\npow_two_iter = iter(pow_two)\\npow_two_iter.__next__()\\n#print(list(pow_two_iter))',\n",
       "  '#objects of this class are iterators\\nclass PowTwo:\\n    def __init__(self,max):\\n        self.max = max\\n        \\n    def __iter__(self):\\n        self.num = 0\\n        return self\\n    \\n    def __next__(self):\\n        if self.num >= self.max:\\n            raise StopIteration\\n        result = 2 * self.num\\n        self.num += 1\\n        return result\\n\\npow_two = PowTwo(5)\\npow_two_iter = iter(pow_two)\\npow_two_iter.__next__()\\npow_two_iter.__next__()\\n#print(list(pow_two_iter))',\n",
       "  '#objects of this class are iterators\\nclass PowTwo:\\n    def __init__(self,max):\\n        self.max = max\\n        \\n    def __iter__(self):\\n        self.num = 0\\n        return self\\n    \\n    def __next__(self):\\n        if self.num >= self.max:\\n            raise StopIteration\\n        result = 2 * self.num\\n        self.num += 1\\n        return result\\n\\npow_two = PowTwo(5)\\npow_two_iter = iter(pow_two)\\npow_two_iter.__next__()\\npow_two_iter.__next__()\\npow_two_iter.__next__()\\n\\n#print(list(pow_two_iter))',\n",
       "  '#objects of this class are iterators\\nclass PowTwo:\\n    def __init__(self,max):\\n        self.max = max\\n        \\n    def __iter__(self):\\n        self.num = 0\\n        return self\\n    \\n    def __next__(self):\\n        if self.num >= self.max:\\n            raise StopIteration\\n        result = 2 * self.num\\n        self.num += 1\\n        return result\\n\\npow_two = PowTwo(5)\\npow_two_iter = iter(pow_two)\\nprint(list(pow_two_iter))',\n",
       "  'locals()',\n",
       "  'def localsNotPresent():\\n    return locals()\\n\\ndef localpresent():\\n    present = True\\n    return locals()\\n\\nprint(localsnotPresent())\\nprint(localpresent())',\n",
       "  'def localsNotPresent():\\n    return locals()\\n\\ndef localpresent():\\n    present = True\\n    return locals()\\n\\nprint(localsNotPresent())\\nprint(localpresent())',\n",
       "  \"#Unlike, globals() dictionary which reflects the change to the actual global table, locals() dictionary may \\n#not change the information inside the locals table.\\ndef localsPresent():\\n    present = True\\n    print(present)\\n    locals()['present'] = False\\n    print(present)\",\n",
       "  \"#Unlike, globals() dictionary which reflects the change to the actual global table, locals() dictionary may \\n#not change the information inside the locals table.\\ndef localsPresent():\\n    present = True\\n    print(present)\\n    locals()['present'] = False\\n    print(present)\\nlocalsPresent()\",\n",
       "  'locals()'],\n",
       " '_oh': {6: 0, 7: 2, 8: 4, 10: {...}},\n",
       " '_dh': ['/mnt/DeV/estudos/jupyter_notebook'],\n",
       " 'In': ['',\n",
       "  \"print(list())\\nprint(list('aeiou'))\\nprint(list(['a','e','i','o','u']))\\nprint(list(('a','e','i','o','u')))\",\n",
       "  \"#vowel set\\nprint(list({'a','e','i','o','u'}))\\n\\n#vowel dictionary\\nprint(list({'a':1,'e':2,'i':3,'o':4,'u':5}))\",\n",
       "  \"#vowel set\\nprint(list({'a','e','i','o','u'}))\\n\\n#vowel dictionary\\nprint(list({'a':1,'e':2,'i':3,'o':4,'u':5}))\",\n",
       "  '#objects of this class are iterators\\nclass PowTwo:\\n    def __init__(self,max):\\n        self.max = max\\n        \\n    def __iter__(self):\\n        self.num = 0\\n        return self\\n    \\n    def __next__(self):\\n        if self.num >= self.max:\\n            raise StopIteration\\n        result = 2 * self.num\\n        self.num += 1\\n        return result\\n\\npow_two = PowTwo(5)\\npow_two_iter = iter(pow_two)\\n\\nprint(list(pow_two_iter))',\n",
       "  '#objects of this class are iterators\\nclass PowTwo:\\n    def __init__(self,max):\\n        self.max = max\\n        \\n    def __iter__(self):\\n        self.num = 0\\n        return self\\n    \\n    def __next__(self):\\n        if self.num >= self.max:\\n            raise StopIteration\\n        result = 2 * self.num\\n        self.num += 1\\n        return result\\n\\npow_two = PowTwo(5)\\npow_two_iter = iter(pow_two)\\npow_two_iter.__next__()\\nprint(list(pow_two_iter))',\n",
       "  '#objects of this class are iterators\\nclass PowTwo:\\n    def __init__(self,max):\\n        self.max = max\\n        \\n    def __iter__(self):\\n        self.num = 0\\n        return self\\n    \\n    def __next__(self):\\n        if self.num >= self.max:\\n            raise StopIteration\\n        result = 2 * self.num\\n        self.num += 1\\n        return result\\n\\npow_two = PowTwo(5)\\npow_two_iter = iter(pow_two)\\npow_two_iter.__next__()\\n#print(list(pow_two_iter))',\n",
       "  '#objects of this class are iterators\\nclass PowTwo:\\n    def __init__(self,max):\\n        self.max = max\\n        \\n    def __iter__(self):\\n        self.num = 0\\n        return self\\n    \\n    def __next__(self):\\n        if self.num >= self.max:\\n            raise StopIteration\\n        result = 2 * self.num\\n        self.num += 1\\n        return result\\n\\npow_two = PowTwo(5)\\npow_two_iter = iter(pow_two)\\npow_two_iter.__next__()\\npow_two_iter.__next__()\\n#print(list(pow_two_iter))',\n",
       "  '#objects of this class are iterators\\nclass PowTwo:\\n    def __init__(self,max):\\n        self.max = max\\n        \\n    def __iter__(self):\\n        self.num = 0\\n        return self\\n    \\n    def __next__(self):\\n        if self.num >= self.max:\\n            raise StopIteration\\n        result = 2 * self.num\\n        self.num += 1\\n        return result\\n\\npow_two = PowTwo(5)\\npow_two_iter = iter(pow_two)\\npow_two_iter.__next__()\\npow_two_iter.__next__()\\npow_two_iter.__next__()\\n\\n#print(list(pow_two_iter))',\n",
       "  '#objects of this class are iterators\\nclass PowTwo:\\n    def __init__(self,max):\\n        self.max = max\\n        \\n    def __iter__(self):\\n        self.num = 0\\n        return self\\n    \\n    def __next__(self):\\n        if self.num >= self.max:\\n            raise StopIteration\\n        result = 2 * self.num\\n        self.num += 1\\n        return result\\n\\npow_two = PowTwo(5)\\npow_two_iter = iter(pow_two)\\nprint(list(pow_two_iter))',\n",
       "  'locals()',\n",
       "  'def localsNotPresent():\\n    return locals()\\n\\ndef localpresent():\\n    present = True\\n    return locals()\\n\\nprint(localsnotPresent())\\nprint(localpresent())',\n",
       "  'def localsNotPresent():\\n    return locals()\\n\\ndef localpresent():\\n    present = True\\n    return locals()\\n\\nprint(localsNotPresent())\\nprint(localpresent())',\n",
       "  \"#Unlike, globals() dictionary which reflects the change to the actual global table, locals() dictionary may \\n#not change the information inside the locals table.\\ndef localsPresent():\\n    present = True\\n    print(present)\\n    locals()['present'] = False\\n    print(present)\",\n",
       "  \"#Unlike, globals() dictionary which reflects the change to the actual global table, locals() dictionary may \\n#not change the information inside the locals table.\\ndef localsPresent():\\n    present = True\\n    print(present)\\n    locals()['present'] = False\\n    print(present)\\nlocalsPresent()\",\n",
       "  'locals()'],\n",
       " 'Out': {6: 0, 7: 2, 8: 4, 10: {...}},\n",
       " 'get_ipython': <bound method InteractiveShell.get_ipython of <ipykernel.zmqshell.ZMQInteractiveShell object at 0x7f270116eb50>>,\n",
       " 'exit': <IPython.core.autocall.ZMQExitAutocall at 0x7f2701120a90>,\n",
       " 'quit': <IPython.core.autocall.ZMQExitAutocall at 0x7f2701120a90>,\n",
       " '_': {...},\n",
       " '__': 4,\n",
       " '___': 2,\n",
       " '_i': \"#Unlike, globals() dictionary which reflects the change to the actual global table, locals() dictionary may \\n#not change the information inside the locals table.\\ndef localsPresent():\\n    present = True\\n    print(present)\\n    locals()['present'] = False\\n    print(present)\\nlocalsPresent()\",\n",
       " '_ii': \"#Unlike, globals() dictionary which reflects the change to the actual global table, locals() dictionary may \\n#not change the information inside the locals table.\\ndef localsPresent():\\n    present = True\\n    print(present)\\n    locals()['present'] = False\\n    print(present)\",\n",
       " '_iii': 'def localsNotPresent():\\n    return locals()\\n\\ndef localpresent():\\n    present = True\\n    return locals()\\n\\nprint(localsNotPresent())\\nprint(localpresent())',\n",
       " '_i1': \"print(list())\\nprint(list('aeiou'))\\nprint(list(['a','e','i','o','u']))\\nprint(list(('a','e','i','o','u')))\",\n",
       " '_i2': \"#vowel set\\nprint(list({'a','e','i','o','u'}))\\n\\n#vowel dictionary\\nprint(list({'a':1,'e':2,'i':3,'o':4,'u':5}))\",\n",
       " '_i3': \"#vowel set\\nprint(list({'a','e','i','o','u'}))\\n\\n#vowel dictionary\\nprint(list({'a':1,'e':2,'i':3,'o':4,'u':5}))\",\n",
       " '_i4': '#objects of this class are iterators\\nclass PowTwo:\\n    def __init__(self,max):\\n        self.max = max\\n        \\n    def __iter__(self):\\n        self.num = 0\\n        return self\\n    \\n    def __next__(self):\\n        if self.num >= self.max:\\n            raise StopIteration\\n        result = 2 * self.num\\n        self.num += 1\\n        return result\\n\\npow_two = PowTwo(5)\\npow_two_iter = iter(pow_two)\\n\\nprint(list(pow_two_iter))',\n",
       " 'PowTwo': __main__.PowTwo,\n",
       " 'pow_two': <__main__.PowTwo at 0x7f27000a6610>,\n",
       " 'pow_two_iter': <__main__.PowTwo at 0x7f27000a6610>,\n",
       " '_i5': '#objects of this class are iterators\\nclass PowTwo:\\n    def __init__(self,max):\\n        self.max = max\\n        \\n    def __iter__(self):\\n        self.num = 0\\n        return self\\n    \\n    def __next__(self):\\n        if self.num >= self.max:\\n            raise StopIteration\\n        result = 2 * self.num\\n        self.num += 1\\n        return result\\n\\npow_two = PowTwo(5)\\npow_two_iter = iter(pow_two)\\npow_two_iter.__next__()\\nprint(list(pow_two_iter))',\n",
       " '_i6': '#objects of this class are iterators\\nclass PowTwo:\\n    def __init__(self,max):\\n        self.max = max\\n        \\n    def __iter__(self):\\n        self.num = 0\\n        return self\\n    \\n    def __next__(self):\\n        if self.num >= self.max:\\n            raise StopIteration\\n        result = 2 * self.num\\n        self.num += 1\\n        return result\\n\\npow_two = PowTwo(5)\\npow_two_iter = iter(pow_two)\\npow_two_iter.__next__()\\n#print(list(pow_two_iter))',\n",
       " '_6': 0,\n",
       " '_i7': '#objects of this class are iterators\\nclass PowTwo:\\n    def __init__(self,max):\\n        self.max = max\\n        \\n    def __iter__(self):\\n        self.num = 0\\n        return self\\n    \\n    def __next__(self):\\n        if self.num >= self.max:\\n            raise StopIteration\\n        result = 2 * self.num\\n        self.num += 1\\n        return result\\n\\npow_two = PowTwo(5)\\npow_two_iter = iter(pow_two)\\npow_two_iter.__next__()\\npow_two_iter.__next__()\\n#print(list(pow_two_iter))',\n",
       " '_7': 2,\n",
       " '_i8': '#objects of this class are iterators\\nclass PowTwo:\\n    def __init__(self,max):\\n        self.max = max\\n        \\n    def __iter__(self):\\n        self.num = 0\\n        return self\\n    \\n    def __next__(self):\\n        if self.num >= self.max:\\n            raise StopIteration\\n        result = 2 * self.num\\n        self.num += 1\\n        return result\\n\\npow_two = PowTwo(5)\\npow_two_iter = iter(pow_two)\\npow_two_iter.__next__()\\npow_two_iter.__next__()\\npow_two_iter.__next__()\\n\\n#print(list(pow_two_iter))',\n",
       " '_8': 4,\n",
       " '_i9': '#objects of this class are iterators\\nclass PowTwo:\\n    def __init__(self,max):\\n        self.max = max\\n        \\n    def __iter__(self):\\n        self.num = 0\\n        return self\\n    \\n    def __next__(self):\\n        if self.num >= self.max:\\n            raise StopIteration\\n        result = 2 * self.num\\n        self.num += 1\\n        return result\\n\\npow_two = PowTwo(5)\\npow_two_iter = iter(pow_two)\\nprint(list(pow_two_iter))',\n",
       " '_i10': 'locals()',\n",
       " '_10': {...},\n",
       " '_i11': 'def localsNotPresent():\\n    return locals()\\n\\ndef localpresent():\\n    present = True\\n    return locals()\\n\\nprint(localsnotPresent())\\nprint(localpresent())',\n",
       " 'localsNotPresent': <function __main__.localsNotPresent()>,\n",
       " 'localpresent': <function __main__.localpresent()>,\n",
       " '_i12': 'def localsNotPresent():\\n    return locals()\\n\\ndef localpresent():\\n    present = True\\n    return locals()\\n\\nprint(localsNotPresent())\\nprint(localpresent())',\n",
       " '_i13': \"#Unlike, globals() dictionary which reflects the change to the actual global table, locals() dictionary may \\n#not change the information inside the locals table.\\ndef localsPresent():\\n    present = True\\n    print(present)\\n    locals()['present'] = False\\n    print(present)\",\n",
       " 'localsPresent': <function __main__.localsPresent()>,\n",
       " '_i14': \"#Unlike, globals() dictionary which reflects the change to the actual global table, locals() dictionary may \\n#not change the information inside the locals table.\\ndef localsPresent():\\n    present = True\\n    print(present)\\n    locals()['present'] = False\\n    print(present)\\nlocalsPresent()\",\n",
       " '_i15': 'locals()'}"
      ]
     },
     "execution_count": 15,
     "metadata": {},
     "output_type": "execute_result"
    }
   ],
   "source": [
    "locals()"
   ]
  },
  {
   "cell_type": "markdown",
   "metadata": {},
   "source": [
    "<h3>map(function, iterable, ...)</h3>\n",
    "    \n",
    "        Return an iterator that applies function to every item of iterable, yielding the results. If additional iterable arguments are passed, function must take that many arguments and is applied to the items from all iterables in parallel. With multiple iterables, the iterator stops when the shortest iterable is exhausted. For cases where the function input are already arranged into argument tuples, see itertools.starmap()"
   ]
  },
  {
   "cell_type": "code",
   "execution_count": 16,
   "metadata": {},
   "outputs": [
    {
     "name": "stdout",
     "output_type": "stream",
     "text": [
      "<map object at 0x7f27000e1e50>\n",
      "{16, 1, 4, 9}\n"
     ]
    }
   ],
   "source": [
    "def calculateSquare(n):\n",
    "    return n * n\n",
    "\n",
    "numbers = (1,2,3,4)\n",
    "result = map(calculateSquare, numbers)\n",
    "print(result)\n",
    "\n",
    "#converting map object to set\n",
    "numbersSquare = set(result)\n",
    "print(numbersSquare)"
   ]
  },
  {
   "cell_type": "code",
   "execution_count": 18,
   "metadata": {},
   "outputs": [
    {
     "name": "stdout",
     "output_type": "stream",
     "text": [
      "<map object at 0x7f27000a66a0>\n",
      "{16, 1, 4, 9}\n"
     ]
    }
   ],
   "source": [
    "numbers = (1,2,3,4)\n",
    "result = map(lambda x: x * x, numbers)\n",
    "print(result)\n",
    "\n",
    "numbersSquare = set(result)\n",
    "print(numbersSquare)"
   ]
  },
  {
   "cell_type": "code",
   "execution_count": 19,
   "metadata": {},
   "outputs": [
    {
     "name": "stdout",
     "output_type": "stream",
     "text": [
      "[9, 11, 13]\n"
     ]
    }
   ],
   "source": [
    "num1 = [4, 5, 6]\n",
    "num2 = [5, 6, 7]\n",
    "\n",
    "result = map(lambda n1, n2 : n1 + n2, num1, num2)\n",
    "print(list(result))"
   ]
  },
  {
   "cell_type": "markdown",
   "metadata": {},
   "source": [
    "<h3>max(iterable, *[,key,defaut])<br>\n",
    "    max(arg1,arg2, *args[,key])</h3>\n",
    "    \n",
    "        Return the largest item in an iterable or the largest of two or more arguments.\n",
    "        If one positional argument is provided, it should be an iterable. The largest item in the iterable is returned. f two or more positional arguments are provided the largest of the positional arguments is returned.\n",
    "        There are two optional keyword-only arguments. The key argument apecifies a one-argument ordering function like that used for list.sort(). The defaut argument specifies an object to return if the provided iterable is empty. If the iterable is empty and default is not provided, a ValueError is raised.\n",
    "        If multiple items are maximal, the function returns the first one encountered. This is consistent with other sort-stability preserving tools such as sorted(iterable, key = keyfunc, reverse = True)[0] and heapq.nlargest(1,iterable, key , keyfunc).\n",
    "        \n",
    "        Changed in version 3.8: The key can be None"
   ]
  },
  {
   "cell_type": "code",
   "execution_count": 28,
   "metadata": {},
   "outputs": [
    {
     "name": "stdout",
     "output_type": "stream",
     "text": [
      "20\n",
      "5\n",
      "dandara\n"
     ]
    }
   ],
   "source": [
    "print(max(10,20))\n",
    "print(max([1,2,3,4,5]))\n",
    "print(max(['albano','barbara','carlos','dandara']))"
   ]
  },
  {
   "cell_type": "code",
   "execution_count": 26,
   "metadata": {},
   "outputs": [
    {
     "name": "stdout",
     "output_type": "stream",
     "text": [
      "2\n",
      "-3\n",
      "9\n"
     ]
    }
   ],
   "source": [
    "square = {2:4, -3:9, -1:1, -2:4}\n",
    "\n",
    "#the largest key\n",
    "key1 = max(square)\n",
    "print(key1)\n",
    "\n",
    "#the key whose value is the largest\n",
    "key2 = max(square, key = lambda k:square[k])\n",
    "print(key2)\n",
    "\n",
    "#getting the largest value\n",
    "print(square[key2])"
   ]
  },
  {
   "cell_type": "markdown",
   "metadata": {},
   "source": [
    "<h3>class memoryview(obj)</h3>\n",
    "\n",
    "        Create a memoryview that references obj. obj mus support the buffer protocol. Built-in objects that support the buffer protocol include bytes and bytearray.\n",
    "        A memoryview has the notion of an element, which is the atomic memory unit handled by the originating object obj. For many simple types such as bytes and bytearray, an element is a single byte, but other types such as array.array may have bigger elements.\n",
    "        len(view) is equal to the lenght of tolist. If view.ndim = 0, the length is 1. If view.ndim = 1, the length is equal to the number of elements in the view. For higher dimension, the length is equal to the length  of the nested list representation of the view. The itemsize attribute will give you the numbers of bytes in a single element.\n",
    "        A memoryview supports slicing and indexing to expose its data. One-dimensional slicing will result in a subview"
   ]
  },
  {
   "cell_type": "code",
   "execution_count": 32,
   "metadata": {},
   "outputs": [
    {
     "name": "stdout",
     "output_type": "stream",
     "text": [
      "98\n",
      "103\n",
      "<memory at 0x7f2701189f40>\n",
      "b'bce'\n"
     ]
    }
   ],
   "source": [
    "v = memoryview(b'abcefg')\n",
    "print(v[1])\n",
    "print(v[-1])\n",
    "print(v[1:4])\n",
    "print(bytes(v[1:4]))\n",
    "            "
   ]
  },
  {
   "cell_type": "markdown",
   "metadata": {},
   "source": [
    "        If format is one of the native format specifiers from the strict module, indexing with an integer or a tuple of integers is also supported and returns a single element with the correct type. One-dimensional memoryviews can be indexed with an integer or a one-integer tuple. Multi-dimensional memoryviews can be indexed with tuples of exactly ndim integers where ndim is the number of dimensions. Zero-dimensional memoryviews can be indexed with the empty tuple."
   ]
  },
  {
   "cell_type": "code",
   "execution_count": 35,
   "metadata": {},
   "outputs": [
    {
     "name": "stdout",
     "output_type": "stream",
     "text": [
      "-11111111\n",
      "44444444\n",
      "[-11111111, -33333333]\n"
     ]
    }
   ],
   "source": [
    "#Here is an example with a non-byte format.\n",
    "import array\n",
    "a = array.array('l',[-11111111,22222222,-33333333,44444444])\n",
    "m = memoryview(a)\n",
    "print(m[0])\n",
    "print(m[-1])\n",
    "print(m[::2].tolist())"
   ]
  },
  {
   "cell_type": "markdown",
   "metadata": {},
   "source": [
    "        If the underlying object is writable, the memoryview supports one-dimensional slice assignment. Resizing is not allowed:"
   ]
  },
  {
   "cell_type": "code",
   "execution_count": 42,
   "metadata": {},
   "outputs": [
    {
     "name": "stdout",
     "output_type": "stream",
     "text": [
      "False\n",
      "bytearray(b'zbcefg')\n",
      "bytearray(b'z123fg')\n",
      "bytearray(b'z1spam')\n"
     ]
    },
    {
     "ename": "ValueError",
     "evalue": "memoryview assignment: lvalue and rvalue have different structures",
     "output_type": "error",
     "traceback": [
      "\u001b[0;31m---------------------------------------------------------------------------\u001b[0m",
      "\u001b[0;31mValueError\u001b[0m                                Traceback (most recent call last)",
      "\u001b[0;32m<ipython-input-42-fd11653d5a28>\u001b[0m in \u001b[0;36m<module>\u001b[0;34m\u001b[0m\n\u001b[1;32m      8\u001b[0m \u001b[0mv\u001b[0m\u001b[0;34m[\u001b[0m\u001b[0;36m2\u001b[0m\u001b[0;34m:\u001b[0m\u001b[0;36m6\u001b[0m\u001b[0;34m]\u001b[0m \u001b[0;34m=\u001b[0m \u001b[0;34mb'spam'\u001b[0m\u001b[0;34m\u001b[0m\u001b[0;34m\u001b[0m\u001b[0m\n\u001b[1;32m      9\u001b[0m \u001b[0mprint\u001b[0m\u001b[0;34m(\u001b[0m\u001b[0mdata\u001b[0m\u001b[0;34m)\u001b[0m\u001b[0;34m\u001b[0m\u001b[0;34m\u001b[0m\u001b[0m\n\u001b[0;32m---> 10\u001b[0;31m \u001b[0mv\u001b[0m\u001b[0;34m[\u001b[0m\u001b[0;36m2\u001b[0m\u001b[0;34m:\u001b[0m\u001b[0;36m3\u001b[0m\u001b[0;34m]\u001b[0m \u001b[0;34m=\u001b[0m \u001b[0;34mb'spam'\u001b[0m\u001b[0;34m\u001b[0m\u001b[0;34m\u001b[0m\u001b[0m\n\u001b[0m",
      "\u001b[0;31mValueError\u001b[0m: memoryview assignment: lvalue and rvalue have different structures"
     ]
    }
   ],
   "source": [
    "data = bytearray(b'abcefg')\n",
    "v = memoryview(data)\n",
    "print(v.readonly)\n",
    "v[0] = ord(b'z')\n",
    "print(data)\n",
    "v[1:4]=b'123'\n",
    "print(data)\n",
    "v[2:6] = b'spam'\n",
    "print(data)\n",
    "v[2:3] = b'spam'"
   ]
  },
  {
   "cell_type": "markdown",
   "metadata": {},
   "source": [
    "         One-dimensional memoryviews of hashable (read-only) types with formats 'B', 'b' or 'c' are also hashable. The hash is define as hash(m) == hash(m.tobytes())"
   ]
  },
  {
   "cell_type": "code",
   "execution_count": 49,
   "metadata": {},
   "outputs": [
    {
     "name": "stdout",
     "output_type": "stream",
     "text": [
      "True\n",
      "True\n",
      "True\n"
     ]
    }
   ],
   "source": [
    "v = memoryview(b'abcefg')\n",
    "print(hash(v) == hash(b'abcefg'))\n",
    "print(hash(v[2:4]) == hash(b'ce'))\n",
    "print(hash(v[::-2]) == hash(b'abcefg'[::-2]))"
   ]
  },
  {
   "cell_type": "markdown",
   "metadata": {},
   "source": [
    "        Changed in version 3.3: One-dimensional memoryviews can now be sliced. One-dimensional memoryviews with formats ‘B’, ‘b’ or ‘c’ are now hashable.\n",
    "\n",
    "        Changed in version 3.4: memoryview is now registered automatically with collections.abc.Sequence\n",
    "\n",
    "        Changed in version 3.5: memoryviews can now be indexed with tuple of integers.\n",
    "        \n",
    "        memoryview has several methods : https://docs.python.org/3/library/stdtypes.html#typememoryview"
   ]
  },
  {
   "cell_type": "markdown",
   "metadata": {},
   "source": [
    "<h3>min(iterable,*[,key,default])<br>\n",
    "    min(arg1,arg2,*args[,key])</h3>\n",
    "    \n",
    "        Return the smallest item in an iterable or the smallest of two or more arguments.\n",
    "        If one positional argument is provided, it should be an iterable. The smallest item in the iterable is returned. If two or more positional arguments are provided, the smallest of the positional arguments is returned.\n",
    "        There are two optional keyword-only arguments. The key argument specifies a one-argument ordering function like that used for list.sort(). The defaut argument specifies an object to return if the provided iterable is empty. If the iterable is empty and default is not provided, a ValueError is raised.\n",
    "        If multiple items are minimal, the function returns the first one encountered. This is consistent with other sortstability preserving tools such as sorted(iterable, key = keyfunc)[0] and heapq.nsmallest(1, iterable,key = keyfunc)\n",
    "        \n",
    "        Changed in version 3.8 : The key can be None.\n",
    "        "
   ]
  },
  {
   "cell_type": "code",
   "execution_count": 59,
   "metadata": {},
   "outputs": [
    {
     "name": "stdout",
     "output_type": "stream",
     "text": [
      "2\n",
      "1\n",
      "angelo\n",
      "-2\n",
      "-1\n",
      "1\n"
     ]
    }
   ],
   "source": [
    "print(min(2,5))\n",
    "print(min([1,2,3,4,5,6]))\n",
    "print(min(['angelo','beralda','carlos','danubio']))\n",
    "\n",
    "square = {2:4,3:9, -1:1, -2:4}\n",
    "print(min(square))\n",
    "print(min(square, key = lambda k: square[k]))\n",
    "print(square[min(square, key = lambda k: square[k])])"
   ]
  },
  {
   "cell_type": "markdown",
   "metadata": {},
   "source": [
    "<h3>next(iterator[, defaut])</h3>\n",
    "\n",
    "        Retrieve the next item from the iterator by calling its __next__() method. If default is given, it is returned if the iterator is exhausted, otherwise StopIteration is raised"
   ]
  },
  {
   "cell_type": "code",
   "execution_count": 62,
   "metadata": {},
   "outputs": [
    {
     "name": "stdout",
     "output_type": "stream",
     "text": [
      "<list_iterator object at 0x7f26f8fa0f40>\n",
      "1\n",
      "2\n",
      "3\n",
      "4\n",
      "5\n"
     ]
    }
   ],
   "source": [
    "random = [1,2,3,4,5]\n",
    "random_iterator = iter(random)\n",
    "print(random_iterator)\n",
    "print(next(random_iterator))\n",
    "print(next(random_iterator))\n",
    "print(next(random_iterator))\n",
    "print(next(random_iterator))\n",
    "print(next(random_iterator))"
   ]
  },
  {
   "cell_type": "code",
   "execution_count": 63,
   "metadata": {},
   "outputs": [
    {
     "name": "stdout",
     "output_type": "stream",
     "text": [
      "1\n",
      "2\n",
      "-1\n",
      "-1\n"
     ]
    }
   ],
   "source": [
    "random = [1,2]\n",
    "random_iterator = iter(random)\n",
    "\n",
    "print(next(random_iterator, '-1'))\n",
    "print(next(random_iterator, '-1'))\n",
    "print(next(random_iterator, '-1'))\n",
    "print(next(random_iterator, '-1'))"
   ]
  },
  {
   "cell_type": "markdown",
   "metadata": {},
   "source": [
    "<h3>class object</h3>\n",
    "\n",
    "        Return a new featureless object. object is a base for all classes. It has the methods that are common to all instances of Python classes. This function does not accept any arguments.\n",
    "        \n",
    "        Note: object does not have a __dict__, so you can't assign arbitrary attributes to an instance of the object class"
   ]
  },
  {
   "cell_type": "code",
   "execution_count": 66,
   "metadata": {},
   "outputs": [
    {
     "name": "stdout",
     "output_type": "stream",
     "text": [
      "<class 'object'>\n",
      "['__class__', '__delattr__', '__dir__', '__doc__', '__eq__', '__format__', '__ge__', '__getattribute__', '__gt__', '__hash__', '__init__', '__init_subclass__', '__le__', '__lt__', '__ne__', '__new__', '__reduce__', '__reduce_ex__', '__repr__', '__setattr__', '__sizeof__', '__str__', '__subclasshook__']\n"
     ]
    }
   ],
   "source": [
    "test = object()\n",
    "\n",
    "print(type(test))\n",
    "print(dir(test))  # dir() get all the attributes from object(). These attributes(properties and methods) \n",
    "                  # are common to instances of all Python classes."
   ]
  },
  {
   "cell_type": "markdown",
   "metadata": {},
   "source": [
    "<h3>oct(x)</h3>\n",
    "\n",
    "        Convert an integer number to an octal string prefixed with '0o'. The result is a valid Python expression If x is not a Python int object, it has to define an __index__() method that returns an integer.\n",
    "        "
   ]
  },
  {
   "cell_type": "code",
   "execution_count": 67,
   "metadata": {},
   "outputs": [
    {
     "name": "stdout",
     "output_type": "stream",
     "text": [
      "0o10\n",
      "-0o70\n"
     ]
    }
   ],
   "source": [
    "print(oct(8))\n",
    "print(oct(-56))"
   ]
  },
  {
   "cell_type": "markdown",
   "metadata": {},
   "source": [
    "<h3>open(file,mode = 'r', buffering = -1, encoding = None, errors = None, newline = None, closefd = True, opener = None)</h3>\n",
    "\n",
    "        Open file and return a corresponding file object. If the file cannot be opened, an OSError is raised. See Reading and Writing files for more examples of how to use this function.\n",
    "        file is a path-like object giving the pathname (absolute or relative to the current working directory( of the file to be opened or an integer file descriptor of the file to be wrapped. ( If a file descriptor is given, it is closed when the returner I/O object is closed, unless closefd is set to False.)\n",
    "        mode is an optional string that specifies the mode in which the file is opened. It defauts to 'r' which means open for reading in text mode. Other common values are 'w' for writing(truncating the file if it already exists). 'x' for exclusive creation and 'a' for appending (which on some Unix system, means that all writes append to the end of the file regardless of the current seek position). In text mode, if encoding is not specified the encoding used is platform dependent: locale.getpreferredencoding(False) is called to get the current locale encoding. (For reading and writing raw bytes use binary mode and leave encoding unspecified.) The available modes are:\n",
    "        \n",
    "        'r'  -->  open for reading(default)\n",
    "        'w'  -->  open for writing, truncating the file first\n",
    "        'x'  -->  open for exclusive creation, failing in the file already exists\n",
    "        'a'  -->  open for writing, appending to the end of the file if it exists\n",
    "        'b'  -->  binary mode\n",
    "        't'  -->  text mode(default)\n",
    "        '+'  -->  open for updating(reading and writing)\n",
    "        \n",
    "        The defaut mode is 'r'(open for reading text, synonum of 'rt'). Modes 'w+' and 'w+b' open and truncate the file. Modes 'r+' and 'r+b' open the file with no truncation.\n",
    "        As mentioned in the Overview, Python distinguishes between binary and text I/O. Files opened in binary mode (including 'b' in the mode argument) return contents as bytes objects without any decoding. In text mode ( the default or when 't' is included in the mode argument), the contents of the file are returned as str, the bytes having been first decoded using a platform-dependent encoding or using the specified encoding if given.\n",
    "        There is an additional mode character permitted. 'U' which no longer has any effect, and is considered deprecated. It previously enabled universal newlines in text mode, which became the defaut behaviour in Python 3.0. refer to the documentation of the newline parameter for further details.\n",
    "        \n",
    "        Note: Python doesn't depend on the underlying operating system's notion of text files; all the processing is done by Python itself, and is therefore platform-independent.\n",
    "        \n",
    "        buffering is an optional integer used to set the buffering policy. Pass 0 to switch buffering off (only allowed in binary mode), 1 to select line buffering (only usable in text mode), and an integer > 1 to indicate the size in bytes of a fixed-size chunk buffer. When no buffering argument is given, the default buffering policy works as follows:\n",
    "        \n",
    "            -Binary files are buffered in fixed-size chunks; the size of the buffer is chosen using a heuristic trying to determine the underlying device’s “block size” and falling back on io.DEFAULT_BUFFER_SIZE. On many systems, the buffer will typically be 4096 or 8192 bytes long.\n",
    "            -“Interactive” text files (files for which isatty() returns True) use line buffering. Other text files use the policy described above for binary files.\n",
    "        \n",
    "        encoding is the name of the encoding used to decode or encode the file. This should only be used in text mode. The default encoding is platform dependent (whatever locale.getpreferredencoding() returns), but any text encoding supported by Python can be used. See the codecs module for the list of supported encodings.\n",
    "        errors is an optional string that specifies how encoding and decoding errors are to be handled—this cannot be used in binary mode. A variety of standard error handlers are available (listed under Error Handlers), though any error handling name that has been registered with codecs.register_error() is also valid. The standard names include:\n",
    "        \n",
    "        'strict' to raise a ValueError exception if there is an encoding error. The default value of None has the same effect.\n",
    "\n",
    "        'ignore' ignores errors. Note that ignoring encoding errors can lead to data loss.\n",
    "\n",
    "        'replace' causes a replacement marker (such as '?') to be inserted where there is malformed data.\n",
    "\n",
    "        'surrogateescape' will represent any incorrect bytes as code points in the Unicode Private Use Area ranging from U+DC80 to U+DCFF. These private code points will then be turned back into the same bytes when the surrogateescape error handler is used when writing data. This is useful for processing files in an unknown encoding.\n",
    "\n",
    "        'xmlcharrefreplace' is only supported when writing to a file. Characters not supported by the encoding are replaced with the appropriate XML character reference &#nnn;.\n",
    "\n",
    "        'backslashreplace' replaces malformed data by Python’s backslashed escape sequences.\n",
    "\n",
    "        'namereplace' (also only supported when writing) replaces unsupported characters with \\N{...} escape sequences.\n",
    "        \n",
    "        newline controls how universal newlines mode works (it only applies to text mode). It can be None, '', '\\n', '\\r', and '\\r\\n'. It works as follows:\n",
    "        \n",
    "            -When reading input from the stream, if newline is None, universal newlines mode is enabled. Lines in the input can end in '\\n', '\\r', or '\\r\\n', and these are translated into '\\n' before being returned to the caller. If it is '', universal newlines mode is enabled, but line endings are returned to the caller untranslated. If it has any of the other legal values, input lines are only terminated by the given string, and the line ending is returned to the caller untranslated.\n",
    "            -When writing output to the stream, if newline is None, any '\\n' characters written are translated to the system default line separator, os.linesep. If newline is '' or '\\n', no translation takes place. If newline is any of the other legal values, any '\\n' characters written are translated to the given string.\n",
    "        \n",
    "        If closefd is False and a file descriptor rather than a filename was given, the underlying file descriptor will be kept open when the file is closed. If a filename is given closefd must be True (the default) otherwise an error will be raised.\n",
    "        A custom opener can be used by passing a callable as opener. The underlying file descriptor for the file object is then obtained by calling opener with (file, flags). opener must return an open file descriptor (passing os.open as opener results in functionality similar to passing None).\n",
    "        The newly created file is non-inheritable.\n",
    "        \n",
    "        \n",
    "        "
   ]
  },
  {
   "cell_type": "code",
   "execution_count": null,
   "metadata": {},
   "outputs": [],
   "source": [
    "import os\n",
    "dir_fd = os.open('somedir', os.O_RDONLY)\n",
    "def opener(path, flags):\n",
    "    return os.open(path, flags, dir_fd=dir_fd)\n",
    "\n",
    "with open('spamspam.txt', 'w', opener=opener) as f:\n",
    "    print('This will be written to somedir/spamspam.txt', file=f)\n",
    "\n",
    "os.close(dir_fd)  # don't leak a file descriptor"
   ]
  },
  {
   "cell_type": "markdown",
   "metadata": {},
   "source": [
    "        The type of file object returned by the open() function depends on the mode. When open() is used to open a file in a text mode ('w', 'r', 'wt', 'rt', etc.), it returns a subclass of io.TextIOBase (specifically io.TextIOWrapper). When used to open a file in a binary mode with buffering, the returned class is a subclass of io.BufferedIOBase. The exact class varies: in read binary mode, it returns an io.BufferedReader; in write binary and append binary modes, it returns an io.BufferedWriter, and in read/write mode, it returns an io.BufferedRandom. When buffering is disabled, the raw stream, a subclass of io.RawIOBase, io.FileIO, is returned.\n",
    "\n"
   ]
  },
  {
   "cell_type": "markdown",
   "metadata": {},
   "source": [
    "<h3>ord(c)</h3>\n",
    "\n",
    "        Given a string representing one Unicode character, return an integer representing the unicode code point of that character. For example, ord('a') returns the integer 97."
   ]
  },
  {
   "cell_type": "code",
   "execution_count": 3,
   "metadata": {},
   "outputs": [
    {
     "name": "stdout",
     "output_type": "stream",
     "text": [
      "57\n",
      "56\n",
      "36\n"
     ]
    }
   ],
   "source": [
    "print(ord('9'))\n",
    "print(ord('8'))\n",
    "print(ord('$'))"
   ]
  },
  {
   "cell_type": "markdown",
   "metadata": {},
   "source": [
    "<h3>pow(base,exp[,mod])</h3>\n",
    "\n",
    "        Return base to the power exp; if mod is present, return base to the power exp, modulo mod (computed more efficiently than pow(base,exp)% mod). The two-argument form pow(base, exp) is equivalent to using the power operator: base **exp.\n",
    "        The arguments must have numeric types. With mixed operand types, the coercion rules for binary arithmetic operators apply. For int operands, the result has the same type as the operands (after coercion) unless the second argument is negative; in that case, all arguments are converted to float and a float result is delivered. For example, 10**2 returns 100, but 10 ** -2, returnns o.01.\n",
    "        For int operands base and exp, if mod is present, mod must also be of integer type and mod must be nonzero. If mod is present and exp is negative, base must be relatively prime to mod. In that case, pow(inv_base, -exp, mod) is returned, where inv_base is an inverse to base modulo mod.\n",
    "        -pow(x,y) = x**y\n",
    "        -pow(x,y,z) = (x ** y) % z"
   ]
  },
  {
   "cell_type": "code",
   "execution_count": 9,
   "metadata": {},
   "outputs": [
    {
     "name": "stdout",
     "output_type": "stream",
     "text": [
      "4\n",
      "0.0009765625\n",
      "0.25\n",
      "0\n",
      "2\n"
     ]
    }
   ],
   "source": [
    "print(pow(2,2))\n",
    "print(pow(2,-10))\n",
    "print(pow(-2,-2))\n",
    "\n",
    "print(pow(2,4,2))\n",
    "print(pow(2,5,3))"
   ]
  },
  {
   "cell_type": "markdown",
   "metadata": {},
   "source": [
    "<h3>print(*objects, sep = ' ', end = 'n', file = sus.stdout, flush = False)</h3>\n",
    "\n",
    "        Print objects to the text stream file, separated by sep and followed by end. sep, end, file and flush, if present, must be given as keyword arguments.\n",
    "        All non-keyword arguments are converted to strings like str() does and written to the stream, separated by sep and followed by end. Both sep and end must be strings; they can also be None, which means to use the default values. If no objects are given, print() will just write end.\n",
    "        The file argument must be an object with a write(string) method; if it is not present or None, sys.stdout will be used. Since printed arguments are convertedd to text strings, print() cannot be used with binary mode file objects. For these, use file.write(...) instead;\n",
    "        Wheter output is buffered is usually determined by file, but if the flush keyword argument is true, the stream is forcibly flushed.\n",
    "    "
   ]
  },
  {
   "cell_type": "code",
   "execution_count": 13,
   "metadata": {},
   "outputs": [
    {
     "name": "stdout",
     "output_type": "stream",
     "text": [
      "Hello\n",
      "a =----5\n",
      "\n",
      "\n",
      "\n",
      "a =05\n"
     ]
    }
   ],
   "source": [
    "print('Hello')\n",
    "a = 5\n",
    "print('a =',a, sep='----', end = '\\n\\n\\n\\n')\n",
    "print('a =', a , sep ='0')"
   ]
  },
  {
   "cell_type": "code",
   "execution_count": 14,
   "metadata": {},
   "outputs": [],
   "source": [
    "sourcefile = open('python.txt','w')\n",
    "print('hello', file = sourcefile)\n",
    "sourcefile.close()"
   ]
  },
  {
   "cell_type": "markdown",
   "metadata": {},
   "source": [
    "<h3>class property(fget = None, fset = None, fdel = None, doc = None)</h3>\n",
    "\n",
    "        Return a property atribute. \n",
    "        fget is a function for getting an attribute value. fset is a function for setting an attribute value. fdel is a function for deleting an attribute value. And doc creates a docstring for the attribute.\n",
    "        A typical use is to define a managed attribute x:\n",
    "        "
   ]
  },
  {
   "cell_type": "code",
   "execution_count": 21,
   "metadata": {},
   "outputs": [
    {
     "name": "stdout",
     "output_type": "stream",
     "text": [
      "None\n"
     ]
    },
    {
     "ename": "AttributeError",
     "evalue": "'C' object has no attribute '_x'",
     "output_type": "error",
     "traceback": [
      "\u001b[0;31m---------------------------------------------------------------------------\u001b[0m",
      "\u001b[0;31mAttributeError\u001b[0m                            Traceback (most recent call last)",
      "\u001b[0;32m<ipython-input-21-d5a10dbe7cbd>\u001b[0m in \u001b[0;36m<module>\u001b[0;34m\u001b[0m\n\u001b[1;32m     17\u001b[0m \u001b[0mprint\u001b[0m\u001b[0;34m(\u001b[0m\u001b[0mc\u001b[0m\u001b[0;34m.\u001b[0m\u001b[0mx\u001b[0m\u001b[0;34m)\u001b[0m\u001b[0;34m\u001b[0m\u001b[0;34m\u001b[0m\u001b[0m\n\u001b[1;32m     18\u001b[0m \u001b[0;32mdel\u001b[0m \u001b[0mc\u001b[0m\u001b[0;34m.\u001b[0m\u001b[0mx\u001b[0m\u001b[0;34m\u001b[0m\u001b[0;34m\u001b[0m\u001b[0m\n\u001b[0;32m---> 19\u001b[0;31m \u001b[0mprint\u001b[0m\u001b[0;34m(\u001b[0m\u001b[0mc\u001b[0m\u001b[0;34m.\u001b[0m\u001b[0mx\u001b[0m\u001b[0;34m)\u001b[0m\u001b[0;34m\u001b[0m\u001b[0;34m\u001b[0m\u001b[0m\n\u001b[0m",
      "\u001b[0;32m<ipython-input-21-d5a10dbe7cbd>\u001b[0m in \u001b[0;36mgetx\u001b[0;34m(self)\u001b[0m\n\u001b[1;32m      4\u001b[0m \u001b[0;34m\u001b[0m\u001b[0m\n\u001b[1;32m      5\u001b[0m     \u001b[0;32mdef\u001b[0m \u001b[0mgetx\u001b[0m\u001b[0;34m(\u001b[0m\u001b[0mself\u001b[0m\u001b[0;34m)\u001b[0m\u001b[0;34m:\u001b[0m\u001b[0;34m\u001b[0m\u001b[0;34m\u001b[0m\u001b[0m\n\u001b[0;32m----> 6\u001b[0;31m         \u001b[0;32mreturn\u001b[0m \u001b[0mself\u001b[0m\u001b[0;34m.\u001b[0m\u001b[0m_x\u001b[0m\u001b[0;34m\u001b[0m\u001b[0;34m\u001b[0m\u001b[0m\n\u001b[0m\u001b[1;32m      7\u001b[0m \u001b[0;34m\u001b[0m\u001b[0m\n\u001b[1;32m      8\u001b[0m     \u001b[0;32mdef\u001b[0m \u001b[0msetx\u001b[0m\u001b[0;34m(\u001b[0m\u001b[0mself\u001b[0m\u001b[0;34m,\u001b[0m\u001b[0mvalue\u001b[0m\u001b[0;34m)\u001b[0m\u001b[0;34m:\u001b[0m\u001b[0;34m\u001b[0m\u001b[0;34m\u001b[0m\u001b[0m\n",
      "\u001b[0;31mAttributeError\u001b[0m: 'C' object has no attribute '_x'"
     ]
    }
   ],
   "source": [
    "class C:\n",
    "    def __init__(self):\n",
    "        self._x = None\n",
    "    \n",
    "    def getx(self):\n",
    "        return self._x\n",
    "    \n",
    "    def setx(self,value):\n",
    "        self._x = value\n",
    "        \n",
    "    def delx(self):\n",
    "        del self._x\n",
    "    \n",
    "    x = property(getx, setx, delx, \"I'm the x property\")\n",
    "c = C()\n",
    "\n",
    "print(c.x)\n",
    "del c.x\n",
    "print(c.x)"
   ]
  },
  {
   "cell_type": "markdown",
   "metadata": {},
   "source": [
    "        If c is an instance of C, c.x will invoke the getter, c.x = value will invoke the setter and del c.x the deleter.\n",
    "        If given, doc will be the docstring of the property attribute. Otherwise, the property will copy fget's docstring(if it exists). This makes it possible to create read-only properties easily using property() as a decorator"
   ]
  },
  {
   "cell_type": "code",
   "execution_count": null,
   "metadata": {},
   "outputs": [],
   "source": [
    "class Parrot:\n",
    "    def __init__(self):\n",
    "        self._voltage = 100000\n",
    "    \n",
    "    @property\n",
    "    def voltage(self):\n",
    "        '''Get the current voltage'''\n",
    "        return self._voltage"
   ]
  },
  {
   "cell_type": "markdown",
   "metadata": {},
   "source": [
    "        The @property decorator turns the voltage() method into a 'getter' for a read-only attribute with the same name, and it sets the docstring for voltage to 'Get the current voltage'\n",
    "        \n",
    "        A property object has getter, setter and deleter methods usage as decorators that create a copy of the property with the corresponding accessor function set to the decorated function. This is best explained with an example:"
   ]
  },
  {
   "cell_type": "code",
   "execution_count": null,
   "metadata": {},
   "outputs": [],
   "source": [
    "class C:\n",
    "    def __init__(self):\n",
    "        self._x = None\n",
    "    \n",
    "    @property\n",
    "    def x(self):\n",
    "        \"\"\"I'm the x property\"\"\"\n",
    "        return self._x\n",
    "    \n",
    "    @x.setter\n",
    "    def x(self,value):\n",
    "        self._x = value\n",
    "        \n",
    "    @x.deleter\n",
    "    def x(self):\n",
    "        del self._x"
   ]
  },
  {
   "cell_type": "markdown",
   "metadata": {},
   "source": [
    "         This code is exactly equivalent to the first example. Be sure to give the addtional functions the same name as the original property(x in this case.)\n",
    "         The returned property object also has the attributes fget, fset, fdel corresponding to the constructor arguments."
   ]
  },
  {
   "cell_type": "code",
   "execution_count": 22,
   "metadata": {},
   "outputs": [
    {
     "name": "stdout",
     "output_type": "stream",
     "text": [
      "Getting name\n",
      "Adam\n",
      "Setting name to John\n",
      "Deleting name\n"
     ]
    }
   ],
   "source": [
    "class Person:\n",
    "    def __init__(self, name):\n",
    "        self._name = name\n",
    "\n",
    "    def get_name(self):\n",
    "        print('Getting name')\n",
    "        return self._name\n",
    "\n",
    "    def set_name(self, value):\n",
    "        print('Setting name to ' + value)\n",
    "        self._name = value\n",
    "\n",
    "    def del_name(self):\n",
    "        print('Deleting name')\n",
    "        del self._name\n",
    "\n",
    "    # Set property to use get_name, set_name\n",
    "    # and del_name methods\n",
    "    name = property(get_name, set_name, del_name, 'Name property')\n",
    "\n",
    "p = Person('Adam')\n",
    "print(p.name)\n",
    "p.name = 'John'\n",
    "del p.name"
   ]
  },
  {
   "cell_type": "code",
   "execution_count": 23,
   "metadata": {},
   "outputs": [
    {
     "name": "stdout",
     "output_type": "stream",
     "text": [
      "Getting name\n",
      "The name is: Adam\n",
      "Setting name to John\n",
      "Deleting name\n"
     ]
    }
   ],
   "source": [
    "class Person:\n",
    "    def __init__(self, name):\n",
    "        self._name = name\n",
    "\n",
    "    @property\n",
    "    def name(self):\n",
    "        print('Getting name')\n",
    "        return self._name\n",
    "\n",
    "    @name.setter\n",
    "    def name(self, value):\n",
    "        print('Setting name to ' + value)\n",
    "        self._name = value\n",
    "\n",
    "    @name.deleter\n",
    "    def name(self):\n",
    "        print('Deleting name')\n",
    "        del self._name\n",
    "\n",
    "p = Person('Adam')\n",
    "print('The name is:', p.name)\n",
    "p.name = 'John'\n",
    "del p.name"
   ]
  },
  {
   "cell_type": "markdown",
   "metadata": {},
   "source": [
    "<h3>class range(stop)<br>\n",
    "    class range(start,stop[,step])</h3>\n",
    "\n",
    "        Rather then being a function, range is actually an immutable sequence type, as documented in Ranges and Sequence types - list, tuple, range\n",
    "    "
   ]
  },
  {
   "cell_type": "code",
   "execution_count": 24,
   "metadata": {},
   "outputs": [
    {
     "name": "stdout",
     "output_type": "stream",
     "text": [
      "[]\n",
      "[0, 1, 2, 3, 4, 5, 6, 7, 8, 9]\n",
      "[1, 2, 3, 4, 5, 6, 7, 8, 9]\n"
     ]
    }
   ],
   "source": [
    "print(list(range(0)))\n",
    "print(list(range(10)))\n",
    "print(list(range(1,10)))"
   ]
  },
  {
   "cell_type": "code",
   "execution_count": 25,
   "metadata": {},
   "outputs": [
    {
     "name": "stdout",
     "output_type": "stream",
     "text": [
      "[2, 4, 6, 8, 10, 12]\n"
     ]
    }
   ],
   "source": [
    "start = 2\n",
    "stop = 14\n",
    "step = 2\n",
    "print(list(range(start,stop,step)))"
   ]
  },
  {
   "cell_type": "code",
   "execution_count": 26,
   "metadata": {},
   "outputs": [
    {
     "name": "stdout",
     "output_type": "stream",
     "text": [
      "[2, 0, -2, -4, -6, -8, -10, -12]\n"
     ]
    }
   ],
   "source": [
    "print(list(range(2,-14,-2)))"
   ]
  },
  {
   "cell_type": "markdown",
   "metadata": {},
   "source": [
    "<h3>repr(object)</h3>\n",
    "\n",
    "        Return a string containing a printable representation of an object. For many types, this function makes an attempt to return a string that would yield an object with the same value when passed to eval(), otherwise the representation is a string enclosed in angle brackets that contains the name of the type of the object together with additional information often including the name and address of the object. A class can control what this function returns for its instances by defining a __repr__() method"
   ]
  },
  {
   "cell_type": "code",
   "execution_count": 30,
   "metadata": {},
   "outputs": [
    {
     "name": "stdout",
     "output_type": "stream",
     "text": [
      "foo\n",
      "'foo'\n"
     ]
    }
   ],
   "source": [
    "var = 'foo'\n",
    "print(var)\n",
    "print(repr(var))"
   ]
  },
  {
   "cell_type": "code",
   "execution_count": 32,
   "metadata": {},
   "outputs": [
    {
     "name": "stdout",
     "output_type": "stream",
     "text": [
      "'Hello Adam'\n"
     ]
    }
   ],
   "source": [
    "class Person:\n",
    "    name = 'Adam'\n",
    "    \n",
    "    def __repr__(self):\n",
    "        return repr('Hello ' + self.name)\n",
    "    \n",
    "print(repr(Person()))"
   ]
  },
  {
   "cell_type": "markdown",
   "metadata": {},
   "source": [
    "<h3>reversed(seq)</h3>\n",
    "\n",
    "        Return a reverse iterator. seq must be an object which has a __reversed__() method or supports the sequence protocol (the __len__() method and the __getitem__() method with integer arguments starting at 0)."
   ]
  },
  {
   "cell_type": "code",
   "execution_count": 38,
   "metadata": {},
   "outputs": [
    {
     "name": "stdout",
     "output_type": "stream",
     "text": [
      "[5, 4, 3, 2, 1]\n",
      "['n', 'o', 'h', 't', 'y', 'P']\n",
      "[8, 7, 6, 5, 4, 3, 2, 1]\n"
     ]
    }
   ],
   "source": [
    "print(list(reversed([1,2,3,4,5])))\n",
    "print(list(reversed('Python')))\n",
    "print(list(reversed(range(1,9))))"
   ]
  },
  {
   "cell_type": "code",
   "execution_count": 39,
   "metadata": {},
   "outputs": [
    {
     "name": "stdout",
     "output_type": "stream",
     "text": [
      "['u', 'o', 'i', 'e', 'a']\n"
     ]
    }
   ],
   "source": [
    "class Vowels:\n",
    "    vowels = ['a','e','i','o','u']\n",
    "    \n",
    "    def __reversed__(self):\n",
    "        return reversed(self.vowels)\n",
    "    \n",
    "v = Vowels()\n",
    "print(list(reversed(v)))"
   ]
  },
  {
   "cell_type": "markdown",
   "metadata": {},
   "source": [
    "<h3>round(number[,ndigits])</h3>\n",
    "\n",
    "        Return number rounded to ndigits precision after the decimal point. If ndigits is omitted or is None, it returns the nearest integer to its input.\n",
    "        For the built-in types supporting round(), values are rounded to the closest multiple of 10 to the power minus ndigits; if two multiples are equally close, rounding is done toward the even choice(so, for example, both round(0.5) and round(-0.5) are 0, and round(1.5) is 2). Any integer value is valid for ndigits (positive, zero , or negative). The return value is an integer if ndigits is omitted or None. Otherwise the return value has the same type as number.\n",
    "        For a general Python object number, round delegates to number.__round__.\n",
    "        \n",
    "        Note: the behavior of round() for floats can be surprising: for example, round(2.675, 2) fives 2.67, instead of the expected 2.68. This is not a bug: it's a result of the fact that most decimal fractions can't be represented exactly as a float. See Floating Point Arithmetic: Issues and limitations for more information."
   ]
  },
  {
   "cell_type": "code",
   "execution_count": 40,
   "metadata": {},
   "outputs": [
    {
     "name": "stdout",
     "output_type": "stream",
     "text": [
      "10\n",
      "11\n",
      "6\n"
     ]
    }
   ],
   "source": [
    "print(round(10))\n",
    "print(round(10.7))\n",
    "print(round(5.5))"
   ]
  },
  {
   "cell_type": "code",
   "execution_count": 41,
   "metadata": {},
   "outputs": [
    {
     "name": "stdout",
     "output_type": "stream",
     "text": [
      "2.67\n",
      "2.675\n"
     ]
    }
   ],
   "source": [
    "print(round(2.665 , 2))\n",
    "print(round(2.675, 3))"
   ]
  },
  {
   "cell_type": "code",
   "execution_count": 42,
   "metadata": {},
   "outputs": [
    {
     "name": "stdout",
     "output_type": "stream",
     "text": [
      "2.67\n",
      "2.68\n"
     ]
    }
   ],
   "source": [
    "from decimal import Decimal\n",
    "\n",
    "# normal float\n",
    "num = 2.675\n",
    "print(round(num, 2))\n",
    "\n",
    "# using decimal.Decimal (passed float as string for precision)\n",
    "num = Decimal('2.675')\n",
    "print(round(num, 2))"
   ]
  },
  {
   "cell_type": "markdown",
   "metadata": {},
   "source": [
    "<h3> class set([iterable])</h3>\n",
    "\n",
    "        Return a new set object, optionally with elements taken from iterable. set is a built-in class. See set and Set Types - set, frozenset for documentation about this class.\n",
    "        For other containers see the built-in frozenset, list, tuple and dict classes, as well as the collections module."
   ]
  },
  {
   "cell_type": "code",
   "execution_count": 45,
   "metadata": {},
   "outputs": [
    {
     "name": "stdout",
     "output_type": "stream",
     "text": [
      "set()\n",
      "{'n', 'P', 'o', 'h', 'y', 't'}\n",
      "{1, 2, 3, 4, 5}\n",
      "{0, 1, 2, 3, 4}\n",
      "{'c', 'd', 'b', 'a'}\n"
     ]
    }
   ],
   "source": [
    "print(set())\n",
    "print(set('Python'))\n",
    "print(set([1,2,3,4,5]))\n",
    "print(set(range(5)))\n",
    "print(set({'a':1, 'b':2, 'c':3, 'd':4}))"
   ]
  },
  {
   "cell_type": "code",
   "execution_count": 46,
   "metadata": {},
   "outputs": [
    {
     "name": "stdout",
     "output_type": "stream",
     "text": [
      "{1, 2, 3, 4, 5}\n"
     ]
    }
   ],
   "source": [
    "class PrintNumber:\n",
    "    def __init__(self, max):\n",
    "        self.max = max\n",
    "\n",
    "    def __iter__(self):\n",
    "        self.num = 0\n",
    "        return self\n",
    "\n",
    "    def __next__(self):\n",
    "        if(self.num >= self.max):\n",
    "            raise StopIteration\n",
    "        self.num += 1\n",
    "        return self.num\n",
    "\n",
    "# print_num is an iterable\n",
    "print_num = PrintNumber(5)\n",
    "\n",
    "# creating a set\n",
    "print(set(print_num))"
   ]
  },
  {
   "cell_type": "markdown",
   "metadata": {},
   "source": [
    "<h3>setattr(object,namen value)</h3>\n",
    "\n",
    "        This is the counterpart of getattr(). The arguments are an object, a string and an arbitrary value. The string may name an existing attribute or a new attribute. The function assigns the value to the attribute, provided the object allows it. For example, setattr(x, 'foobar', 123) is equivalent to x.foobar=123."
   ]
  },
  {
   "cell_type": "code",
   "execution_count": 47,
   "metadata": {},
   "outputs": [
    {
     "name": "stdout",
     "output_type": "stream",
     "text": [
      "before modification Adam\n",
      "after modification: John\n"
     ]
    }
   ],
   "source": [
    "class Person:\n",
    "    name = 'Adam'\n",
    "    \n",
    "p = Person()\n",
    "print('before modification', p.name)\n",
    "\n",
    "setattr(p,'name','John')\n",
    "\n",
    "print('after modification:', p.name)"
   ]
  },
  {
   "cell_type": "markdown",
   "metadata": {},
   "source": [
    "<h3>class slice(stop)<br>\n",
    "    class slice(start,stop[,step])</h3>\n",
    "\n",
    "        Return a slice object representing the set of indices specified by range(start,stop,step). The start and step arguments default to None. Slice objects have read-only data attributes start, stop and step which merely returnn the argument values (or their default). They have no other explicit functionality; however they are used by numerical python and other third party extensions. Slice objects are also generated when extended indexing syntax is used. For example: a[start:stop:step] or a[start:stop,i]. See itertools.slice() for an alternate version that returns an iterator."
   ]
  },
  {
   "cell_type": "code",
   "execution_count": 56,
   "metadata": {},
   "outputs": [
    {
     "name": "stdout",
     "output_type": "stream",
     "text": [
      "slice(None, 3, None)\n",
      "slice(1, 5, 2)\n",
      "pyt\n",
      "yhn\n",
      "[1, 2, 3]\n",
      "[2, 4]\n"
     ]
    }
   ],
   "source": [
    "print(slice(3))\n",
    "print(slice(1,5,2))\n",
    "print('python'[slice(3)])\n",
    "print('python'[slice(1,6,2)])\n",
    "print([1,2,3,4,5][slice(3)])\n",
    "print([1,2,3,4,5][slice(1,5,2)])"
   ]
  },
  {
   "cell_type": "code",
   "execution_count": 58,
   "metadata": {},
   "outputs": [
    {
     "name": "stdout",
     "output_type": "stream",
     "text": [
      "pyt\n",
      "yh\n"
     ]
    }
   ],
   "source": [
    "print('python'[0:3])\n",
    "print('python'[1:5:2])"
   ]
  },
  {
   "cell_type": "markdown",
   "metadata": {},
   "source": [
    "<h3>sorted(iterable,*, key = None, reverse = False)</h3>\n",
    "\n",
    "        Return a new sorted list from the items in iterable.\n",
    "        Has two oprional arguments which must be specified as keyword arguments.\n",
    "        key specifies a function of one argument that is used to extract a comparison key from each element in iterable ( for example, key = str.lower). The default value is None (compare the elements directly).\n",
    "        reverse is a boolean value. If set to True, then the list elements are sorted as if each comparison were reversed.\n",
    "        Use functolls.cmp_to_key() to convert an old-style cmp function to a key function.\n",
    "        The built-in sorted() function is guaranteed to be stable. A sort is stable if it guarantees not to change the relative order of elements that compare equal- this is helpful for sorting in multiple passes(for example, sort by department, then by salary grade)."
   ]
  },
  {
   "cell_type": "code",
   "execution_count": 61,
   "metadata": {},
   "outputs": [
    {
     "name": "stdout",
     "output_type": "stream",
     "text": [
      "[1, 2, 3, 5, 6, 7, 9]\n",
      "['h', 'n', 'o', 'p', 't', 'y']\n",
      "[9, 7, 6, 5, 3, 2, 1]\n"
     ]
    }
   ],
   "source": [
    "a=[7,5,2,1,3,6,9]\n",
    "print(sorted(a))\n",
    "print(sorted('python'))\n",
    "print(sorted(a,reverse = True))"
   ]
  },
  {
   "cell_type": "code",
   "execution_count": 62,
   "metadata": {},
   "outputs": [
    {
     "name": "stdout",
     "output_type": "stream",
     "text": [
      "[(4, 1), (2, 2), (1, 3), (3, 4)]\n"
     ]
    }
   ],
   "source": [
    "random =[(2,2),(3,4),(4,1),(1,3)]\n",
    "print(sorted(random,key = lambda x: x[1]))"
   ]
  },
  {
   "cell_type": "markdown",
   "metadata": {},
   "source": [
    "<h3>@staticmethod</h3>\n",
    "\n",
    "        Transform a method into a static method.\n",
    "        A static method does not receive an implicit first argument. to declare a static methodd, use this idiom:\n",
    "        \n",
    "        class C:\n",
    "            @staticmethod\n",
    "            def f(arg1,arg2,...)\n",
    "            \n",
    "        The @staticmethod form is a function decorator - see Function definitions for details.\n",
    "        A static method can be called either on the class(such as C.f()) or on an instance (such as C().f())\n",
    "        Static methods in python are similar to those found in Java or C++. Also see classmethod() for a variant that is useful for creating alternate class constructors.\n",
    "        Like all decorators, it is also possible to call staticmethod as a regular function and do something with its result. This is needed in some cases where you need a reference to a function from a class body and you want to avoid the automatic transformation to instance method. For these cases, use this idiom:\n",
    "        \n",
    "        class C:\n",
    "        builtin_open = staticmethod(open)"
   ]
  },
  {
   "cell_type": "markdown",
   "metadata": {},
   "source": [
    "<h3>class str(object = '')</h3>\n",
    "\n",
    "        Return a str version of object. If object is not provided, returns the empty string. Otherwise, the behavior of str() depends on whether encoding or errors is given, as follows.\n",
    "        If neither encoding nor errors is given, str(object) returns object.__str__(), which is the “informal” or nicely printable string representation of object. For string objects, this is the string itself. If object does not have a __str__() method, then str() falls back to returning repr(object).\n",
    "        If at least one of encoding or errors is given, object should be a bytes-like object (e.g. bytes or bytearray). In this case, if object is a bytes (or bytearray) object, then str(bytes, encoding, errors) is equivalent to bytes.decode(encoding, errors). Otherwise, the bytes object underlying the buffer object is obtained before calling bytes.decode(). See Binary Sequence Types — bytes, bytearray, memoryview and Buffer Protocol for information on buffer objects.\n",
    "        Passing a bytes object to str() without the encoding or errors arguments falls under the first case of returning the informal string representation (see also the -b command-line option to Python)\n",
    "        \n",
    "        String methods\n",
    "        \n",
    "        Strings implement all of the common sequence operations, along with the additional methods described below.\n",
    "        Strings also support two styles of string formatting, one providing a large degree of flexibility and customization (see str.format(), Format String Syntax and Custom String Formatting) and the other based on C printf style formatting that handles a narrower range of types and is slightly harder to use correctly, but is often faster for the cases it can handle (printf-style String Formatting).\n",
    "        The Text Processing Services section of the standard library covers a number of other modules that provide various text related utilities (including regular expression support in the re module).\n",
    "        \n",
    "        All methods in \n",
    "<a href =https://docs.python.org/3/library/stdtypes.html#str> https://docs.python.org/3/library/stdtypes.html#str</a>"
   ]
  },
  {
   "cell_type": "code",
   "execution_count": 84,
   "metadata": {},
   "outputs": [
    {
     "name": "stdout",
     "output_type": "stream",
     "text": [
      "Python\n",
      "python\n",
      "       pyThOn       \n",
      "1\n",
      "True\n",
      "1\n",
      "0\n",
      "True\n",
      "True\n",
      "False\n",
      "False\n",
      "False\n",
      "True\n"
     ]
    }
   ],
   "source": [
    "a = 'pyThOn'\n",
    "print(a.capitalize())\n",
    "print(a.casefold())\n",
    "print(a.center(20))\n",
    "print(a.count('p'))\n",
    "print(a.endswith('n'))\n",
    "print(a.find('y'))\n",
    "print(a.index('p'))\n",
    "print(a.isalpha())\n",
    "print(a.isalnum())\n",
    "print(a.isdecimal())\n",
    "print(a.islower())\n",
    "print(a.isnumeric())\n",
    "print(a.isprintable())\n",
    "#.\n",
    "#.\n",
    "#.\n",
    "#.\n",
    "#."
   ]
  },
  {
   "cell_type": "markdown",
   "metadata": {},
   "source": [
    "<h3>sum(iterable,/,start = 0)</h3>\n",
    "\n",
    "         Sums start and the items of an iterable from left to right and returns the total. The iterable's items are normally numbers, and start values is not allowed to be a string.\n",
    "         For some use cases, there are good alternatives to sum(). The preferred, fast way to concatenate a sequence of strings is by calling ''.join(sequence). To add floating point values with extended precision, see math.fsum(). To concatenate a series of iterable, consider using itertools.chain()."
   ]
  },
  {
   "cell_type": "code",
   "execution_count": 91,
   "metadata": {},
   "outputs": [
    {
     "name": "stdout",
     "output_type": "stream",
     "text": [
      "6\n",
      "16\n"
     ]
    }
   ],
   "source": [
    "numbers = [1,2,3]\n",
    "print(sum(numbers))\n",
    "print(sum(numbers,10))      #start = 10"
   ]
  },
  {
   "cell_type": "markdown",
   "metadata": {},
   "source": [
    "<h3>super([type[,object-or-type]])</h3>\n",
    "\n",
    "        Return a proxy object that delegates method calls to a parent or sibling class of type. This is useful for accessing inherited methods that have been overridden in a class.\n",
    "        The object-or-type determines the method resolution oorder to be searched. The search starts from the class right after the type.\n",
    "        For example, if __mro__ of object-or-type is D -> B ->C -> A -> object and the value of type is B, then super() searches C -> A -> object.\n",
    "        The __mro__ attribute of the object-or-type lists the method resolution search order used by both getattr() and super(). The attribute is dynamic and can change whenever the inheritance hierarchy is updated.\n",
    "        Ig the second argument is omitted, the super object returned is unbound. If the second argument is a type, issubclass(type2, type) must be true(this is useful for classmethods).\n",
    "        There are two typical use cases for super. In a class hierarchy with single inheritance, super can be used to refer to parent classes without naming them explicitly, thus making the code more maintainable. This use closely parallels the use of super in other programming languages.\n",
    "        The second use case is to support cooperative multiple inheritance in a dynamic execution environment. This use case is unique to Python and is not found in statically compiled languages or languages that only support single inheritance. This makes it possible to implement “diamond diagrams” where multiple base classes implement the same method. Good design dictates that this method have the same calling signature in every case (because the order of calls is determined at runtime, because that order adapts to changes in the class hierarchy, and because that order can include sibling classes that are unknown prior to runtime).\n",
    "        In addition to method lookups, super() also works for attribute lookups. One possible use case for this is calling descriptors in a parent or sibling class.\n",
    "        Note that super() is implemented as part of the binding process for explicit dotted attribute lookups such as super().__getitem__(name). It does so by implementing its own __getattribute__() method for searching classes in a predictable order that supports cooperative multiple inheritance. Accordingly, super() is undefined for implicit lookups using statements or operators such as super()[name].\n",
    "        Also note that, aside from the zero argument form, super() is not limited to use inside methods. The two argument form specifies the arguments exactly and makes the appropriate references. The zero argument form only works inside a class definition, as the compiler fills in the necessary details to correctly retrieve the class being defined, as well as accessing the current instance for ordinary methods.\n",
    "        For practical suggestions on how to design cooperative classes using super(), see:\n",
    "https://rhettinger.wordpress.com/2011/05/26/super-considered-super/"
   ]
  },
  {
   "cell_type": "code",
   "execution_count": 1,
   "metadata": {},
   "outputs": [
    {
     "name": "stdout",
     "output_type": "stream",
     "text": [
      "Dog has four legs\n",
      "Dog is a warm-blooded animal.\n"
     ]
    }
   ],
   "source": [
    "class Mamma1(object):\n",
    "    \n",
    "    def __init__(self,mamma1Name):\n",
    "        print(mamma1Name, 'is a warm-blooded animal.')\n",
    "        \n",
    "class Dog(Mamma1):\n",
    "    \n",
    "    def __init__(self):\n",
    "        print('Dog has four legs')\n",
    "        super().__init__('Dog')\n",
    "        \n",
    "d1 = Dog()"
   ]
  },
  {
   "cell_type": "code",
   "execution_count": 8,
   "metadata": {},
   "outputs": [
    {
     "name": "stdout",
     "output_type": "stream",
     "text": [
      "Dog has 4 legs.\n",
      "Dog can't swim.\n",
      "Dog can fly\n",
      "Dog is a warm-blooded animal.\n",
      "Dog is an animal.\n",
      "\n",
      "Bat can't swim.\n",
      "Bat is a warm-blooded animal.\n",
      "Bat is an animal.\n"
     ]
    }
   ],
   "source": [
    "class Animal:    \n",
    "    def __init__(self,Animal):\n",
    "        print(Animal, 'is an animal.')\n",
    "\n",
    "class Mamma1(Animal):    \n",
    "    def __init__(self,mamma1Name):\n",
    "        print(mamma1Name, 'is a warm-blooded animal.')\n",
    "        super().__init__(mamma1Name)\n",
    "\n",
    "class NonWingedMamma1(Mamma1):\n",
    "    def __init__(self, NonWingedMamma1):\n",
    "        print(NonWingedMamma1, 'can fly')\n",
    "        super().__init__(NonWingedMamma1)\n",
    "    \n",
    "class NonMarineMamma1(Mamma1):\n",
    "    def __init__(self, NonMarineMamma1):\n",
    "        print(NonMarineMamma1, \"can't swim.\")\n",
    "        super().__init__(NonMarineMamma1)\n",
    "\n",
    "class Dog(NonMarineMamma1, NonWingedMamma1):\n",
    "    def __init__(self):\n",
    "        print('Dog has 4 legs.')\n",
    "        super().__init__('Dog')\n",
    "    \n",
    "d = Dog()\n",
    "print('')\n",
    "bat = NonMarineMamma1('Bat')"
   ]
  },
  {
   "cell_type": "markdown",
   "metadata": {},
   "source": [
    "<h3> class tuple([iterable])</h3>\n",
    "     \n",
    "         Rather than being a function, tuple is actually an immutable sequence type, as documented in Tuples and Sequence Types — list, tuple, range.\n",
    "         \n",
    "         Tuples are immutable sequences, typically used to store collections of heterogeneous data (such as the 2-tuples produced by the enumerate() built-in). Tuples are also used for cases where an immutable sequence of homogeneous data is needed (such as allowing storage in a set or dict instance).\n",
    "         \n",
    "         class tuple([iterable)]:\n",
    "         \n",
    "             Tuples may be constructed in a number of ways:\n",
    "                 Using a pair of parentheses to denote the empty tuple: ()\n",
    "                 Using a trailing comma for a singleton tuple: a, or (a,)\n",
    "                 Separating items with commas: a, b, c or (a, b, c)\n",
    "                 Using the tuple() built-in: tuple() or tuple(iterable)\n",
    "      \n",
    "             The constructor builds a tuple whose items are the same and in the same order as iterable’s items. iterable may be either a sequence, a container that supports iteration, or an iterator object. If iterable is already a tuple, it is returned unchanged. For example, tuple('abc') returns ('a', 'b', 'c') and tuple( [1, 2, 3] ) returns (1, 2, 3). If no argument is given, the constructor creates a new empty tuple, (). \n",
    "             Note that it is actually the comma which makes a tuple, not the parentheses. The parentheses are optional, except in the empty tuple case, or when they are needed to avoid syntactic ambiguity. For example, f(a, b, c) is a function call with three arguments, while f((a, b, c)) is a function call with a 3-tuple as the sole argument.\n",
    "             Tuples implement all of the common sequence operations.\n",
    "             For heterogeneous collections of data where access by name is clearer than access by index, collections.namedtuple() may be a more appropriate choice than a simple tuple object."
   ]
  },
  {
   "cell_type": "code",
   "execution_count": 17,
   "metadata": {},
   "outputs": [
    {
     "name": "stdout",
     "output_type": "stream",
     "text": [
      "()\n",
      "(1, 2, 3, 4)\n",
      "('p', 'y', 't', 'h', 'o', 'n')\n",
      "(1, 2, 3)\n"
     ]
    }
   ],
   "source": [
    "print(tuple())\n",
    "print(tuple([1,2,3,4]))\n",
    "print(tuple('python'))\n",
    "print(tuple({1:10,2:12,3:13}))"
   ]
  },
  {
   "cell_type": "markdown",
   "metadata": {},
   "source": [
    "<h3>class type(object)<br>\n",
    "    class type(name,bases,dict)</h3>\n",
    "    \n",
    "        With one argument, return the type of an object. The return value is a type object and generally the same object as returned by object.__class__.\n",
    "        The isinstance() built-in function is recommended for testinf the type of an object, because it takes subclasses into account.\n",
    "        With three arguments, return a new type object. This is essentially a dynamic form of the class statement. The name string is the class name and becomes the __name__ attribute; the bases tuple itemizes the base classes and becomes the __bases__ attribute; and the dict dictionary is the namespace containing definitions for class body and is copied to a standard dictionary to become the __dict__ attribute. For example, the following two statements create identical type objects:"
   ]
  },
  {
   "cell_type": "code",
   "execution_count": 18,
   "metadata": {},
   "outputs": [],
   "source": [
    "class X:\n",
    "    a = 1\n",
    "X = type('X', (object,), dict(a=1))"
   ]
  },
  {
   "cell_type": "code",
   "execution_count": 21,
   "metadata": {},
   "outputs": [
    {
     "name": "stdout",
     "output_type": "stream",
     "text": [
      "<class 'tuple'>\n",
      "<class 'dict'>\n",
      "<class 'str'>\n"
     ]
    }
   ],
   "source": [
    "print(type((1,2,3)))\n",
    "print(type({1:2,2:3}))\n",
    "print(type('aa'))"
   ]
  },
  {
   "cell_type": "code",
   "execution_count": 22,
   "metadata": {},
   "outputs": [
    {
     "name": "stdout",
     "output_type": "stream",
     "text": [
      "<class 'type'>\n",
      "{'a': 'Foo', 'b': 12, '__module__': '__main__', '__dict__': <attribute '__dict__' of 'X' objects>, '__weakref__': <attribute '__weakref__' of 'X' objects>, '__doc__': None}\n",
      "<class 'type'>\n",
      "{'a': 'Foo', 'b': 12, '__module__': '__main__', '__doc__': None}\n"
     ]
    }
   ],
   "source": [
    "o1 = type('X', (object,), dict(a='Foo', b=12))\n",
    "\n",
    "print(type(o1))\n",
    "print(vars(o1))\n",
    "\n",
    "class test:\n",
    "  a = 'Foo'\n",
    "  b = 12\n",
    "  \n",
    "o2 = type('Y', (test,), dict(a='Foo', b=12))\n",
    "print(type(o2))\n",
    "print(vars(o2))"
   ]
  },
  {
   "cell_type": "markdown",
   "metadata": {},
   "source": [
    "<h3>vars([object])</h3>\n",
    "\n",
    "        Return the __dict__ attribute for a module, class, instance, or any other object with a __dict__ attribute.\n",
    "        Objects such as modules and instances have an updateable __dict__ attribute; however, other objects may have write restrictions on their __dict__ attributes (for example, classes use a types.MappingProxyType to prevent direct dictionary updates).\n",
    "        Without an argument, vars() acts like locals(). Note, the locals dictionary is only useful for reads since updates to the locals dictionary are ignored.\n",
    "        A TypeError exception is raised if an object is specified but it doesn’t have a __dict__ attribute (for example, if its class defines the __slots__ attribute)."
   ]
  },
  {
   "cell_type": "code",
   "execution_count": 23,
   "metadata": {},
   "outputs": [
    {
     "name": "stdout",
     "output_type": "stream",
     "text": [
      "{'a': 5, 'b': 10}\n"
     ]
    }
   ],
   "source": [
    "class Foo:\n",
    "  def __init__(self, a = 5, b = 10):\n",
    "    self.a = a\n",
    "    self.b = b\n",
    "  \n",
    "object = Foo()\n",
    "print(vars(object))"
   ]
  },
  {
   "cell_type": "code",
   "execution_count": 24,
   "metadata": {},
   "outputs": [
    {
     "data": {
      "text/plain": [
       "mappingproxy({'__repr__': <slot wrapper '__repr__' of 'list' objects>,\n",
       "              '__hash__': None,\n",
       "              '__getattribute__': <slot wrapper '__getattribute__' of 'list' objects>,\n",
       "              '__lt__': <slot wrapper '__lt__' of 'list' objects>,\n",
       "              '__le__': <slot wrapper '__le__' of 'list' objects>,\n",
       "              '__eq__': <slot wrapper '__eq__' of 'list' objects>,\n",
       "              '__ne__': <slot wrapper '__ne__' of 'list' objects>,\n",
       "              '__gt__': <slot wrapper '__gt__' of 'list' objects>,\n",
       "              '__ge__': <slot wrapper '__ge__' of 'list' objects>,\n",
       "              '__iter__': <slot wrapper '__iter__' of 'list' objects>,\n",
       "              '__init__': <slot wrapper '__init__' of 'list' objects>,\n",
       "              '__len__': <slot wrapper '__len__' of 'list' objects>,\n",
       "              '__getitem__': <method '__getitem__' of 'list' objects>,\n",
       "              '__setitem__': <slot wrapper '__setitem__' of 'list' objects>,\n",
       "              '__delitem__': <slot wrapper '__delitem__' of 'list' objects>,\n",
       "              '__add__': <slot wrapper '__add__' of 'list' objects>,\n",
       "              '__mul__': <slot wrapper '__mul__' of 'list' objects>,\n",
       "              '__rmul__': <slot wrapper '__rmul__' of 'list' objects>,\n",
       "              '__contains__': <slot wrapper '__contains__' of 'list' objects>,\n",
       "              '__iadd__': <slot wrapper '__iadd__' of 'list' objects>,\n",
       "              '__imul__': <slot wrapper '__imul__' of 'list' objects>,\n",
       "              '__new__': <function list.__new__(*args, **kwargs)>,\n",
       "              '__reversed__': <method '__reversed__' of 'list' objects>,\n",
       "              '__sizeof__': <method '__sizeof__' of 'list' objects>,\n",
       "              'clear': <method 'clear' of 'list' objects>,\n",
       "              'copy': <method 'copy' of 'list' objects>,\n",
       "              'append': <method 'append' of 'list' objects>,\n",
       "              'insert': <method 'insert' of 'list' objects>,\n",
       "              'extend': <method 'extend' of 'list' objects>,\n",
       "              'pop': <method 'pop' of 'list' objects>,\n",
       "              'remove': <method 'remove' of 'list' objects>,\n",
       "              'index': <method 'index' of 'list' objects>,\n",
       "              'count': <method 'count' of 'list' objects>,\n",
       "              'reverse': <method 'reverse' of 'list' objects>,\n",
       "              'sort': <method 'sort' of 'list' objects>,\n",
       "              '__doc__': 'Built-in mutable sequence.\\n\\nIf no argument is given, the constructor creates a new empty list.\\nThe argument must be an iterable if specified.'})"
      ]
     },
     "execution_count": 24,
     "metadata": {},
     "output_type": "execute_result"
    }
   ],
   "source": [
    "vars(list)"
   ]
  },
  {
   "cell_type": "code",
   "execution_count": 25,
   "metadata": {},
   "outputs": [
    {
     "data": {
      "text/plain": [
       "mappingproxy({'__repr__': <slot wrapper '__repr__' of 'str' objects>,\n",
       "              '__hash__': <slot wrapper '__hash__' of 'str' objects>,\n",
       "              '__str__': <slot wrapper '__str__' of 'str' objects>,\n",
       "              '__getattribute__': <slot wrapper '__getattribute__' of 'str' objects>,\n",
       "              '__lt__': <slot wrapper '__lt__' of 'str' objects>,\n",
       "              '__le__': <slot wrapper '__le__' of 'str' objects>,\n",
       "              '__eq__': <slot wrapper '__eq__' of 'str' objects>,\n",
       "              '__ne__': <slot wrapper '__ne__' of 'str' objects>,\n",
       "              '__gt__': <slot wrapper '__gt__' of 'str' objects>,\n",
       "              '__ge__': <slot wrapper '__ge__' of 'str' objects>,\n",
       "              '__iter__': <slot wrapper '__iter__' of 'str' objects>,\n",
       "              '__mod__': <slot wrapper '__mod__' of 'str' objects>,\n",
       "              '__rmod__': <slot wrapper '__rmod__' of 'str' objects>,\n",
       "              '__len__': <slot wrapper '__len__' of 'str' objects>,\n",
       "              '__getitem__': <slot wrapper '__getitem__' of 'str' objects>,\n",
       "              '__add__': <slot wrapper '__add__' of 'str' objects>,\n",
       "              '__mul__': <slot wrapper '__mul__' of 'str' objects>,\n",
       "              '__rmul__': <slot wrapper '__rmul__' of 'str' objects>,\n",
       "              '__contains__': <slot wrapper '__contains__' of 'str' objects>,\n",
       "              '__new__': <function str.__new__(*args, **kwargs)>,\n",
       "              'encode': <method 'encode' of 'str' objects>,\n",
       "              'replace': <method 'replace' of 'str' objects>,\n",
       "              'split': <method 'split' of 'str' objects>,\n",
       "              'rsplit': <method 'rsplit' of 'str' objects>,\n",
       "              'join': <method 'join' of 'str' objects>,\n",
       "              'capitalize': <method 'capitalize' of 'str' objects>,\n",
       "              'casefold': <method 'casefold' of 'str' objects>,\n",
       "              'title': <method 'title' of 'str' objects>,\n",
       "              'center': <method 'center' of 'str' objects>,\n",
       "              'count': <method 'count' of 'str' objects>,\n",
       "              'expandtabs': <method 'expandtabs' of 'str' objects>,\n",
       "              'find': <method 'find' of 'str' objects>,\n",
       "              'partition': <method 'partition' of 'str' objects>,\n",
       "              'index': <method 'index' of 'str' objects>,\n",
       "              'ljust': <method 'ljust' of 'str' objects>,\n",
       "              'lower': <method 'lower' of 'str' objects>,\n",
       "              'lstrip': <method 'lstrip' of 'str' objects>,\n",
       "              'rfind': <method 'rfind' of 'str' objects>,\n",
       "              'rindex': <method 'rindex' of 'str' objects>,\n",
       "              'rjust': <method 'rjust' of 'str' objects>,\n",
       "              'rstrip': <method 'rstrip' of 'str' objects>,\n",
       "              'rpartition': <method 'rpartition' of 'str' objects>,\n",
       "              'splitlines': <method 'splitlines' of 'str' objects>,\n",
       "              'strip': <method 'strip' of 'str' objects>,\n",
       "              'swapcase': <method 'swapcase' of 'str' objects>,\n",
       "              'translate': <method 'translate' of 'str' objects>,\n",
       "              'upper': <method 'upper' of 'str' objects>,\n",
       "              'startswith': <method 'startswith' of 'str' objects>,\n",
       "              'endswith': <method 'endswith' of 'str' objects>,\n",
       "              'isascii': <method 'isascii' of 'str' objects>,\n",
       "              'islower': <method 'islower' of 'str' objects>,\n",
       "              'isupper': <method 'isupper' of 'str' objects>,\n",
       "              'istitle': <method 'istitle' of 'str' objects>,\n",
       "              'isspace': <method 'isspace' of 'str' objects>,\n",
       "              'isdecimal': <method 'isdecimal' of 'str' objects>,\n",
       "              'isdigit': <method 'isdigit' of 'str' objects>,\n",
       "              'isnumeric': <method 'isnumeric' of 'str' objects>,\n",
       "              'isalpha': <method 'isalpha' of 'str' objects>,\n",
       "              'isalnum': <method 'isalnum' of 'str' objects>,\n",
       "              'isidentifier': <method 'isidentifier' of 'str' objects>,\n",
       "              'isprintable': <method 'isprintable' of 'str' objects>,\n",
       "              'zfill': <method 'zfill' of 'str' objects>,\n",
       "              'format': <method 'format' of 'str' objects>,\n",
       "              'format_map': <method 'format_map' of 'str' objects>,\n",
       "              '__format__': <method '__format__' of 'str' objects>,\n",
       "              'maketrans': <staticmethod at 0x7f23e4bd3640>,\n",
       "              '__sizeof__': <method '__sizeof__' of 'str' objects>,\n",
       "              '__getnewargs__': <method '__getnewargs__' of 'str' objects>,\n",
       "              '__doc__': \"str(object='') -> str\\nstr(bytes_or_buffer[, encoding[, errors]]) -> str\\n\\nCreate a new string object from the given object. If encoding or\\nerrors is specified, then the object must expose a data buffer\\nthat will be decoded using the given encoding and error handler.\\nOtherwise, returns the result of object.__str__() (if defined)\\nor repr(object).\\nencoding defaults to sys.getdefaultencoding().\\nerrors defaults to 'strict'.\"})"
      ]
     },
     "execution_count": 25,
     "metadata": {},
     "output_type": "execute_result"
    }
   ],
   "source": [
    "vars(str)"
   ]
  },
  {
   "cell_type": "markdown",
   "metadata": {},
   "source": [
    "<h3>zip(*iterables)</h3>\n",
    "\n",
    "        Make an iterator that aggregates elements from each of the iterables.\n",
    "        Returns an iterator of tuples, where the i-th tuple contains the i-th element from each of the argument sequences or iterables. The iterator stops when the shortest input iterable is exhausted. With a single iterable argument, it returns an iterator of 1-tuples. With no arguments, it returns an empty iterator. Equivalent to:        "
   ]
  },
  {
   "cell_type": "code",
   "execution_count": null,
   "metadata": {},
   "outputs": [],
   "source": [
    "def zip(*iterables):\n",
    "    # zip('ABCD', 'xy') --> Ax By\n",
    "    sentinel = object()\n",
    "    iterators = [iter(it) for it in iterables]\n",
    "    while iterators:\n",
    "        result = []\n",
    "        for it in iterators:\n",
    "            elem = next(it, sentinel)\n",
    "            if elem is sentinel:\n",
    "                return\n",
    "            result.append(elem)\n",
    "        yield tuple(result)"
   ]
  },
  {
   "cell_type": "markdown",
   "metadata": {},
   "source": [
    "        The left-to-right evaluation order of the iterables is guaranteed. This makes possible an idiom for clustering a data series into n-length groups using zip(*[iter(s)]*n). This repeats the same iterator n times so that each output tuple has the result of n calls to the iterator. This has the effect of dividing the input into n-length chunks.\n",
    "        zip() should only be used with unequal length inputs when you don’t care about trailing, unmatched values from the longer iterables. If those values are important, use itertools.zip_longest() instead.\n",
    "        zip() in conjunction with the * operator can be used to unzip a list:"
   ]
  },
  {
   "cell_type": "code",
   "execution_count": 30,
   "metadata": {},
   "outputs": [
    {
     "name": "stdout",
     "output_type": "stream",
     "text": [
      "[(1, 4), (2, 5), (3, 6)]\n"
     ]
    },
    {
     "data": {
      "text/plain": [
       "True"
      ]
     },
     "execution_count": 30,
     "metadata": {},
     "output_type": "execute_result"
    }
   ],
   "source": [
    "x = [1,2,3]\n",
    "y = [4,5,6]\n",
    "zipped = zip(x,y)\n",
    "print(list(zipped))\n",
    "\n",
    "x2, y2 = zip(*zip(x, y))\n",
    "x == list(x2) and y == list(y2)"
   ]
  },
  {
   "cell_type": "markdown",
   "metadata": {},
   "source": [
    "<h3>__import__(name,globals = None, locals = None, fromlist = (), level = 0)</h3>\n",
    "\n",
    "         Note: This is an advanced function that is not needed in everyday Python programming, unlike importlib.import_module()\n",
    "        \n",
    "         This function is invoked by the import statement. It can be replaced (by importing the builtins module and assigning to builtins.__import__) in order to change semantics of the import statement, but doing so is strongly discouraged as it is usually simpler to use import hooks (see PEP 302) to attain the same goals and does not cause issues with code which assumes the default import implementation is in use. Direct use of __import__() is also discouraged in favor of importlib.import_module().\n",
    "          The function imports the module name, potentially using the given globals and locals to determine how to interpret the name in a package context. The fromlist gives the names of objects or submodules that should be imported from the module given by name. The standard implementation does not use its locals argument at all, and uses its globals only to determine the package context of the import statement.\n",
    "          level specifies whether to use absolute or relative imports. 0 (the default) means only perform absolute imports. Positive values for level indicate the number of parent directories to search relative to the directory of the module calling __import__() (see PEP 328 for the details).\n",
    "          When the name variable is of the form package.module, normally, the top-level package (the name up till the first dot) is returned, not the module named by name. However, when a non-empty fromlist argument is given, the module named by name is returned.\n",
    "\n"
   ]
  },
  {
   "cell_type": "code",
   "execution_count": 31,
   "metadata": {},
   "outputs": [
    {
     "name": "stdout",
     "output_type": "stream",
     "text": [
      "2.5\n"
     ]
    }
   ],
   "source": [
    "mathematics = __import__('math', globals(), locals(), [], 0)\n",
    "print(mathematics.fabs(-2.5))"
   ]
  },
  {
   "cell_type": "code",
   "execution_count": null,
   "metadata": {},
   "outputs": [],
   "source": []
  },
  {
   "cell_type": "code",
   "execution_count": null,
   "metadata": {},
   "outputs": [],
   "source": []
  }
 ],
 "metadata": {
  "kernelspec": {
   "display_name": "Python 3",
   "language": "python",
   "name": "python3"
  },
  "language_info": {
   "codemirror_mode": {
    "name": "ipython",
    "version": 3
   },
   "file_extension": ".py",
   "mimetype": "text/x-python",
   "name": "python",
   "nbconvert_exporter": "python",
   "pygments_lexer": "ipython3",
   "version": "3.8.5"
  }
 },
 "nbformat": 4,
 "nbformat_minor": 4
}
